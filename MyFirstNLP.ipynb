{
 "cells": [
  {
   "cell_type": "code",
   "execution_count": 5,
   "metadata": {},
   "outputs": [
    {
     "name": "stderr",
     "output_type": "stream",
     "text": [
      "Using TensorFlow backend.\n"
     ]
    },
    {
     "ename": "ModuleNotFoundError",
     "evalue": "No module named 'tensorflow'",
     "output_type": "error",
     "traceback": [
      "\u001b[1;31m---------------------------------------------------------------------------\u001b[0m",
      "\u001b[1;31mModuleNotFoundError\u001b[0m                       Traceback (most recent call last)",
      "\u001b[1;32m<ipython-input-5-ed28a4862461>\u001b[0m in \u001b[0;36m<module>\u001b[1;34m\u001b[0m\n\u001b[0;32m      3\u001b[0m \u001b[1;32mfrom\u001b[0m \u001b[0msklearn\u001b[0m\u001b[1;33m.\u001b[0m\u001b[0mmetrics\u001b[0m \u001b[1;32mimport\u001b[0m \u001b[0maccuracy_score\u001b[0m\u001b[1;33m\u001b[0m\u001b[1;33m\u001b[0m\u001b[0m\n\u001b[0;32m      4\u001b[0m \u001b[1;32mimport\u001b[0m \u001b[0mnltk\u001b[0m\u001b[1;33m\u001b[0m\u001b[1;33m\u001b[0m\u001b[0m\n\u001b[1;32m----> 5\u001b[1;33m \u001b[1;32mimport\u001b[0m \u001b[0mkeras\u001b[0m\u001b[1;33m\u001b[0m\u001b[1;33m\u001b[0m\u001b[0m\n\u001b[0m\u001b[0;32m      6\u001b[0m \u001b[1;32mfrom\u001b[0m \u001b[0mnltk\u001b[0m\u001b[1;33m.\u001b[0m\u001b[0mcorpus\u001b[0m \u001b[1;32mimport\u001b[0m \u001b[0mstopwords\u001b[0m\u001b[1;33m\u001b[0m\u001b[1;33m\u001b[0m\u001b[0m\n\u001b[0;32m      7\u001b[0m \u001b[1;32mfrom\u001b[0m \u001b[0mnltk\u001b[0m \u001b[1;32mimport\u001b[0m \u001b[0mword_tokenize\u001b[0m\u001b[1;33m\u001b[0m\u001b[1;33m\u001b[0m\u001b[0m\n",
      "\u001b[1;32mc:\\users\\dell\\appdata\\local\\programs\\python\\python37-32\\lib\\site-packages\\keras\\__init__.py\u001b[0m in \u001b[0;36m<module>\u001b[1;34m\u001b[0m\n\u001b[0;32m      1\u001b[0m \u001b[1;32mfrom\u001b[0m \u001b[0m__future__\u001b[0m \u001b[1;32mimport\u001b[0m \u001b[0mabsolute_import\u001b[0m\u001b[1;33m\u001b[0m\u001b[1;33m\u001b[0m\u001b[0m\n\u001b[0;32m      2\u001b[0m \u001b[1;33m\u001b[0m\u001b[0m\n\u001b[1;32m----> 3\u001b[1;33m \u001b[1;32mfrom\u001b[0m \u001b[1;33m.\u001b[0m \u001b[1;32mimport\u001b[0m \u001b[0mutils\u001b[0m\u001b[1;33m\u001b[0m\u001b[1;33m\u001b[0m\u001b[0m\n\u001b[0m\u001b[0;32m      4\u001b[0m \u001b[1;32mfrom\u001b[0m \u001b[1;33m.\u001b[0m \u001b[1;32mimport\u001b[0m \u001b[0mactivations\u001b[0m\u001b[1;33m\u001b[0m\u001b[1;33m\u001b[0m\u001b[0m\n\u001b[0;32m      5\u001b[0m \u001b[1;32mfrom\u001b[0m \u001b[1;33m.\u001b[0m \u001b[1;32mimport\u001b[0m \u001b[0mapplications\u001b[0m\u001b[1;33m\u001b[0m\u001b[1;33m\u001b[0m\u001b[0m\n",
      "\u001b[1;32mc:\\users\\dell\\appdata\\local\\programs\\python\\python37-32\\lib\\site-packages\\keras\\utils\\__init__.py\u001b[0m in \u001b[0;36m<module>\u001b[1;34m\u001b[0m\n\u001b[0;32m      4\u001b[0m \u001b[1;32mfrom\u001b[0m \u001b[1;33m.\u001b[0m \u001b[1;32mimport\u001b[0m \u001b[0mdata_utils\u001b[0m\u001b[1;33m\u001b[0m\u001b[1;33m\u001b[0m\u001b[0m\n\u001b[0;32m      5\u001b[0m \u001b[1;32mfrom\u001b[0m \u001b[1;33m.\u001b[0m \u001b[1;32mimport\u001b[0m \u001b[0mio_utils\u001b[0m\u001b[1;33m\u001b[0m\u001b[1;33m\u001b[0m\u001b[0m\n\u001b[1;32m----> 6\u001b[1;33m \u001b[1;32mfrom\u001b[0m \u001b[1;33m.\u001b[0m \u001b[1;32mimport\u001b[0m \u001b[0mconv_utils\u001b[0m\u001b[1;33m\u001b[0m\u001b[1;33m\u001b[0m\u001b[0m\n\u001b[0m\u001b[0;32m      7\u001b[0m \u001b[1;32mfrom\u001b[0m \u001b[1;33m.\u001b[0m \u001b[1;32mimport\u001b[0m \u001b[0mlosses_utils\u001b[0m\u001b[1;33m\u001b[0m\u001b[1;33m\u001b[0m\u001b[0m\n\u001b[0;32m      8\u001b[0m \u001b[1;32mfrom\u001b[0m \u001b[1;33m.\u001b[0m \u001b[1;32mimport\u001b[0m \u001b[0mmetrics_utils\u001b[0m\u001b[1;33m\u001b[0m\u001b[1;33m\u001b[0m\u001b[0m\n",
      "\u001b[1;32mc:\\users\\dell\\appdata\\local\\programs\\python\\python37-32\\lib\\site-packages\\keras\\utils\\conv_utils.py\u001b[0m in \u001b[0;36m<module>\u001b[1;34m\u001b[0m\n\u001b[0;32m      7\u001b[0m \u001b[1;32mfrom\u001b[0m \u001b[0msix\u001b[0m\u001b[1;33m.\u001b[0m\u001b[0mmoves\u001b[0m \u001b[1;32mimport\u001b[0m \u001b[0mrange\u001b[0m\u001b[1;33m\u001b[0m\u001b[1;33m\u001b[0m\u001b[0m\n\u001b[0;32m      8\u001b[0m \u001b[1;32mimport\u001b[0m \u001b[0mnumpy\u001b[0m \u001b[1;32mas\u001b[0m \u001b[0mnp\u001b[0m\u001b[1;33m\u001b[0m\u001b[1;33m\u001b[0m\u001b[0m\n\u001b[1;32m----> 9\u001b[1;33m \u001b[1;32mfrom\u001b[0m \u001b[1;33m.\u001b[0m\u001b[1;33m.\u001b[0m \u001b[1;32mimport\u001b[0m \u001b[0mbackend\u001b[0m \u001b[1;32mas\u001b[0m \u001b[0mK\u001b[0m\u001b[1;33m\u001b[0m\u001b[1;33m\u001b[0m\u001b[0m\n\u001b[0m\u001b[0;32m     10\u001b[0m \u001b[1;33m\u001b[0m\u001b[0m\n\u001b[0;32m     11\u001b[0m \u001b[1;33m\u001b[0m\u001b[0m\n",
      "\u001b[1;32mc:\\users\\dell\\appdata\\local\\programs\\python\\python37-32\\lib\\site-packages\\keras\\backend\\__init__.py\u001b[0m in \u001b[0;36m<module>\u001b[1;34m\u001b[0m\n\u001b[1;32m----> 1\u001b[1;33m \u001b[1;32mfrom\u001b[0m \u001b[1;33m.\u001b[0m\u001b[0mload_backend\u001b[0m \u001b[1;32mimport\u001b[0m \u001b[0mepsilon\u001b[0m\u001b[1;33m\u001b[0m\u001b[1;33m\u001b[0m\u001b[0m\n\u001b[0m\u001b[0;32m      2\u001b[0m \u001b[1;32mfrom\u001b[0m \u001b[1;33m.\u001b[0m\u001b[0mload_backend\u001b[0m \u001b[1;32mimport\u001b[0m \u001b[0mset_epsilon\u001b[0m\u001b[1;33m\u001b[0m\u001b[1;33m\u001b[0m\u001b[0m\n\u001b[0;32m      3\u001b[0m \u001b[1;32mfrom\u001b[0m \u001b[1;33m.\u001b[0m\u001b[0mload_backend\u001b[0m \u001b[1;32mimport\u001b[0m \u001b[0mfloatx\u001b[0m\u001b[1;33m\u001b[0m\u001b[1;33m\u001b[0m\u001b[0m\n\u001b[0;32m      4\u001b[0m \u001b[1;32mfrom\u001b[0m \u001b[1;33m.\u001b[0m\u001b[0mload_backend\u001b[0m \u001b[1;32mimport\u001b[0m \u001b[0mset_floatx\u001b[0m\u001b[1;33m\u001b[0m\u001b[1;33m\u001b[0m\u001b[0m\n\u001b[0;32m      5\u001b[0m \u001b[1;32mfrom\u001b[0m \u001b[1;33m.\u001b[0m\u001b[0mload_backend\u001b[0m \u001b[1;32mimport\u001b[0m \u001b[0mcast_to_floatx\u001b[0m\u001b[1;33m\u001b[0m\u001b[1;33m\u001b[0m\u001b[0m\n",
      "\u001b[1;32mc:\\users\\dell\\appdata\\local\\programs\\python\\python37-32\\lib\\site-packages\\keras\\backend\\load_backend.py\u001b[0m in \u001b[0;36m<module>\u001b[1;34m\u001b[0m\n\u001b[0;32m     88\u001b[0m \u001b[1;32melif\u001b[0m \u001b[0m_BACKEND\u001b[0m \u001b[1;33m==\u001b[0m \u001b[1;34m'tensorflow'\u001b[0m\u001b[1;33m:\u001b[0m\u001b[1;33m\u001b[0m\u001b[1;33m\u001b[0m\u001b[0m\n\u001b[0;32m     89\u001b[0m     \u001b[0msys\u001b[0m\u001b[1;33m.\u001b[0m\u001b[0mstderr\u001b[0m\u001b[1;33m.\u001b[0m\u001b[0mwrite\u001b[0m\u001b[1;33m(\u001b[0m\u001b[1;34m'Using TensorFlow backend.\\n'\u001b[0m\u001b[1;33m)\u001b[0m\u001b[1;33m\u001b[0m\u001b[1;33m\u001b[0m\u001b[0m\n\u001b[1;32m---> 90\u001b[1;33m     \u001b[1;32mfrom\u001b[0m \u001b[1;33m.\u001b[0m\u001b[0mtensorflow_backend\u001b[0m \u001b[1;32mimport\u001b[0m \u001b[1;33m*\u001b[0m\u001b[1;33m\u001b[0m\u001b[1;33m\u001b[0m\u001b[0m\n\u001b[0m\u001b[0;32m     91\u001b[0m \u001b[1;32melse\u001b[0m\u001b[1;33m:\u001b[0m\u001b[1;33m\u001b[0m\u001b[1;33m\u001b[0m\u001b[0m\n\u001b[0;32m     92\u001b[0m     \u001b[1;31m# Try and load external backend.\u001b[0m\u001b[1;33m\u001b[0m\u001b[1;33m\u001b[0m\u001b[1;33m\u001b[0m\u001b[0m\n",
      "\u001b[1;32mc:\\users\\dell\\appdata\\local\\programs\\python\\python37-32\\lib\\site-packages\\keras\\backend\\tensorflow_backend.py\u001b[0m in \u001b[0;36m<module>\u001b[1;34m\u001b[0m\n\u001b[0;32m      3\u001b[0m \u001b[1;32mfrom\u001b[0m \u001b[0m__future__\u001b[0m \u001b[1;32mimport\u001b[0m \u001b[0mprint_function\u001b[0m\u001b[1;33m\u001b[0m\u001b[1;33m\u001b[0m\u001b[0m\n\u001b[0;32m      4\u001b[0m \u001b[1;33m\u001b[0m\u001b[0m\n\u001b[1;32m----> 5\u001b[1;33m \u001b[1;32mimport\u001b[0m \u001b[0mtensorflow\u001b[0m \u001b[1;32mas\u001b[0m \u001b[0mtf\u001b[0m\u001b[1;33m\u001b[0m\u001b[1;33m\u001b[0m\u001b[0m\n\u001b[0m\u001b[0;32m      6\u001b[0m \u001b[1;32mfrom\u001b[0m \u001b[0mtensorflow\u001b[0m\u001b[1;33m.\u001b[0m\u001b[0mpython\u001b[0m\u001b[1;33m.\u001b[0m\u001b[0meager\u001b[0m \u001b[1;32mimport\u001b[0m \u001b[0mcontext\u001b[0m\u001b[1;33m\u001b[0m\u001b[1;33m\u001b[0m\u001b[0m\n\u001b[0;32m      7\u001b[0m \u001b[1;32mfrom\u001b[0m \u001b[0mtensorflow\u001b[0m\u001b[1;33m.\u001b[0m\u001b[0mpython\u001b[0m\u001b[1;33m.\u001b[0m\u001b[0mframework\u001b[0m \u001b[1;32mimport\u001b[0m \u001b[0mdevice\u001b[0m \u001b[1;32mas\u001b[0m \u001b[0mtfdev\u001b[0m\u001b[1;33m\u001b[0m\u001b[1;33m\u001b[0m\u001b[0m\n",
      "\u001b[1;31mModuleNotFoundError\u001b[0m: No module named 'tensorflow'"
     ]
    }
   ],
   "source": [
    "import pandas as pd\n",
    "import numpy as np\n",
    "from sklearn.metrics import accuracy_score\n",
    "import nltk\n",
    "import keras\n",
    "from nltk.corpus import stopwords\n",
    "from nltk import word_tokenize\n",
    "from sklearn.feature_extraction.text import TfidfVectorizer,CountVectorizer\n",
    "from keras.layers import Dense\n",
    "from sklearn.metrics import accuracy_score\n",
    "from keras.models import Sequential "
   ]
  },
  {
   "cell_type": "code",
   "execution_count": 7,
   "metadata": {},
   "outputs": [
    {
     "name": "stderr",
     "output_type": "stream",
     "text": [
      "ERROR: Could not find a version that satisfies the requirement tensorflow (from versions: none)\n",
      "ERROR: No matching distribution found for tensorflow\n"
     ]
    }
   ],
   "source": [
    "!pip3 install tensorflow "
   ]
  },
  {
   "cell_type": "code",
   "execution_count": 113,
   "metadata": {},
   "outputs": [
    {
     "data": {
      "text/html": [
       "<div>\n",
       "<style scoped>\n",
       "    .dataframe tbody tr th:only-of-type {\n",
       "        vertical-align: middle;\n",
       "    }\n",
       "\n",
       "    .dataframe tbody tr th {\n",
       "        vertical-align: top;\n",
       "    }\n",
       "\n",
       "    .dataframe thead th {\n",
       "        text-align: right;\n",
       "    }\n",
       "</style>\n",
       "<table border=\"1\" class=\"dataframe\">\n",
       "  <thead>\n",
       "    <tr style=\"text-align: right;\">\n",
       "      <th></th>\n",
       "      <th>text</th>\n",
       "      <th>polarity</th>\n",
       "    </tr>\n",
       "  </thead>\n",
       "  <tbody>\n",
       "    <tr>\n",
       "      <th>0</th>\n",
       "      <td>Un peu plus de communication</td>\n",
       "      <td>0</td>\n",
       "    </tr>\n",
       "    <tr>\n",
       "      <th>1</th>\n",
       "      <td>90</td>\n",
       "      <td>0</td>\n",
       "    </tr>\n",
       "    <tr>\n",
       "      <th>2</th>\n",
       "      <td>depuis janvier 2017 très dur à avoir de la com...</td>\n",
       "      <td>0</td>\n",
       "    </tr>\n",
       "    <tr>\n",
       "      <th>3</th>\n",
       "      <td>J'aurai aimer être informée que le fait d'inte...</td>\n",
       "      <td>0</td>\n",
       "    </tr>\n",
       "    <tr>\n",
       "      <th>4</th>\n",
       "      <td>RAS</td>\n",
       "      <td>0</td>\n",
       "    </tr>\n",
       "  </tbody>\n",
       "</table>\n",
       "</div>"
      ],
      "text/plain": [
       "                                                text  polarity\n",
       "0                       Un peu plus de communication         0\n",
       "1                                                 90         0\n",
       "2  depuis janvier 2017 très dur à avoir de la com...         0\n",
       "3  J'aurai aimer être informée que le fait d'inte...         0\n",
       "4                                                RAS         0"
      ]
     },
     "execution_count": 113,
     "metadata": {},
     "output_type": "execute_result"
    }
   ],
   "source": [
    "data =pd.read_csv('raw_dataset.csv')\n",
    "data.head()"
   ]
  },
  {
   "cell_type": "code",
   "execution_count": 139,
   "metadata": {},
   "outputs": [
    {
     "data": {
      "text/plain": [
       "{'ai',\n",
       " 'aie',\n",
       " 'aient',\n",
       " 'aies',\n",
       " 'ait',\n",
       " 'as',\n",
       " 'au',\n",
       " 'aura',\n",
       " 'aurai',\n",
       " 'auraient',\n",
       " 'aurais',\n",
       " 'aurait',\n",
       " 'auras',\n",
       " 'aurez',\n",
       " 'auriez',\n",
       " 'aurions',\n",
       " 'aurons',\n",
       " 'auront',\n",
       " 'aux',\n",
       " 'avaient',\n",
       " 'avais',\n",
       " 'avait',\n",
       " 'avec',\n",
       " 'avez',\n",
       " 'aviez',\n",
       " 'avions',\n",
       " 'avons',\n",
       " 'ayant',\n",
       " 'ayante',\n",
       " 'ayantes',\n",
       " 'ayants',\n",
       " 'ayez',\n",
       " 'ayons',\n",
       " 'c',\n",
       " 'ce',\n",
       " 'ces',\n",
       " 'd',\n",
       " 'dans',\n",
       " 'de',\n",
       " 'des',\n",
       " 'du',\n",
       " 'elle',\n",
       " 'en',\n",
       " 'es',\n",
       " 'est',\n",
       " 'et',\n",
       " 'eu',\n",
       " 'eue',\n",
       " 'eues',\n",
       " 'eurent',\n",
       " 'eus',\n",
       " 'eusse',\n",
       " 'eussent',\n",
       " 'eusses',\n",
       " 'eussiez',\n",
       " 'eussions',\n",
       " 'eut',\n",
       " 'eux',\n",
       " 'eûmes',\n",
       " 'eût',\n",
       " 'eûtes',\n",
       " 'furent',\n",
       " 'fus',\n",
       " 'fusse',\n",
       " 'fussent',\n",
       " 'fusses',\n",
       " 'fussiez',\n",
       " 'fussions',\n",
       " 'fut',\n",
       " 'fûmes',\n",
       " 'fût',\n",
       " 'fûtes',\n",
       " 'il',\n",
       " 'ils',\n",
       " 'j',\n",
       " 'je',\n",
       " 'l',\n",
       " 'la',\n",
       " 'le',\n",
       " 'les',\n",
       " 'leur',\n",
       " 'lui',\n",
       " 'm',\n",
       " 'ma',\n",
       " 'mais',\n",
       " 'me',\n",
       " 'mes',\n",
       " 'moi',\n",
       " 'mon',\n",
       " 'même',\n",
       " 'n',\n",
       " 'ne',\n",
       " 'nos',\n",
       " 'notre',\n",
       " 'nous',\n",
       " 'on',\n",
       " 'ont',\n",
       " 'ou',\n",
       " 'par',\n",
       " 'pas',\n",
       " 'pour',\n",
       " 'qu',\n",
       " 'que',\n",
       " 'qui',\n",
       " 's',\n",
       " 'sa',\n",
       " 'se',\n",
       " 'sera',\n",
       " 'serai',\n",
       " 'seraient',\n",
       " 'serais',\n",
       " 'serait',\n",
       " 'seras',\n",
       " 'serez',\n",
       " 'seriez',\n",
       " 'serions',\n",
       " 'serons',\n",
       " 'seront',\n",
       " 'ses',\n",
       " 'soient',\n",
       " 'sois',\n",
       " 'soit',\n",
       " 'sommes',\n",
       " 'son',\n",
       " 'sont',\n",
       " 'soyez',\n",
       " 'soyons',\n",
       " 'suis',\n",
       " 'sur',\n",
       " 't',\n",
       " 'ta',\n",
       " 'te',\n",
       " 'tes',\n",
       " 'toi',\n",
       " 'ton',\n",
       " 'tu',\n",
       " 'un',\n",
       " 'une',\n",
       " 'vos',\n",
       " 'votre',\n",
       " 'vous',\n",
       " 'y',\n",
       " 'à',\n",
       " 'étaient',\n",
       " 'étais',\n",
       " 'était',\n",
       " 'étant',\n",
       " 'étante',\n",
       " 'étantes',\n",
       " 'étants',\n",
       " 'étiez',\n",
       " 'étions',\n",
       " 'été',\n",
       " 'étée',\n",
       " 'étées',\n",
       " 'étés',\n",
       " 'êtes'}"
      ]
     },
     "execution_count": 139,
     "metadata": {},
     "output_type": "execute_result"
    }
   ],
   "source": [
    "Stopwords=set(stopwords.words('french'))\n",
    "#add_stop_words = \"a à â abord afin ah ai aie ainsi allaient allo allô allons après assez attendu au aucun aucune aujourd aujourd'hui auquel aura auront aussi autre autres aux auxquelles auxquels avaient avais avait avant avec avoir ayant b bah beaucoup bien bigre boum bravo brrr c ça car ce ceci cela celle celle-ci celle-là celles celles-ci celles-là celui celui-ci celui-là cent cependant certain certaine certaines certains certes ces cet cette ceux ceux-ci ceux-là chacun chaque cher chère chères chers chez chiche chut ci cinq cinquantaine cinquante cinquantième cinquième clac clic combien comme comment compris concernant contre couic crac d da dans de debout dedans dehors delà depuis derrière des dès désormais desquelles desquels dessous dessus deux deuxième deuxièmement devant devers devra différent différente différentes différents dire divers diverse diverses dix dix-huit dixième dix-neuf dix-sept doit doivent donc dont douze douzième dring du duquel durant e effet eh elle elle-même elles elles-mêmes en encore entre envers environ es ès est et etant étaient étais était étant etc été etre être eu euh eux eux-mêmes excepté f façon fais faisaient faisant fait feront fi flac floc font g gens h ha hé hein hélas hem hep hi ho holà hop hormis hors hou houp hue hui huit huitième hum hurrah i il ils importe j je jusqu jusque k l la là laquelle las le lequel les lès lesquelles lesquels leur leurs longtemps lorsque lui lui-même m ma maint mais malgré me même mêmes merci mes mien mienne miennes miens mille mince moi moi-même moins mon moyennant n na ne néanmoins neuf neuvième ni nombreuses nombreux non nos notre nôtre nôtres nous nous-mêmes nul o o| ô oh ohé olé ollé on ont onze onzième ore ou où ouf ouias oust ouste outre p paf pan par parmi partant particulier particulière particulièrement pas passé pendant personne peu peut peuvent peux pff pfft pfut pif plein plouf plus plusieurs plutôt pouah pour pourquoi premier première premièrement près proche psitt puisque q qu quand quant quanta quant-à-soi quarante quatorze quatre quatre-vingt quatrième quatrièmement que quel quelconque quelle quelles quelque quelques quelqu'un quels qui quiconque quinze quoi quoique r revoici revoilà rien s sa sacrebleu sans sapristi sauf se seize selon sept septième sera seront ses si sien sienne siennes siens sinon six sixième soi soi-même soit soixante son sont sous stop suis suivant sur surtout t ta tac tant te té tel telle tellement telles tels tenant tes tic tien tienne tiennes tiens toc toi toi-même ton touchant toujours tous tout toute toutes treize trente très trois troisième troisièmement trop tsoin tsouin tu u un une unes uns v va vais vas vé vers via vif vifs vingt vivat vive vives vlan voici voilà vont vos votre vôtre vôtres vous vous-mêmes vu w x y z zut\"\n",
    "#add_stop_words = add_stop_words.split()\n",
    "#Stopwords.update(add_stop_words)\n",
    "Stopwords"
   ]
  },
  {
   "cell_type": "code",
   "execution_count": 140,
   "metadata": {},
   "outputs": [
    {
     "data": {
      "text/plain": [
       "(23879, 4)"
      ]
     },
     "execution_count": 140,
     "metadata": {},
     "output_type": "execute_result"
    }
   ],
   "source": [
    "data.shape"
   ]
  },
  {
   "cell_type": "code",
   "execution_count": 141,
   "metadata": {},
   "outputs": [],
   "source": [
    "import string"
   ]
  },
  {
   "cell_type": "code",
   "execution_count": 142,
   "metadata": {},
   "outputs": [],
   "source": [
    "from nltk.stem import PorterStemmer\n",
    "   "
   ]
  },
  {
   "cell_type": "code",
   "execution_count": 143,
   "metadata": {},
   "outputs": [],
   "source": [
    "from nltk.tokenize import sent_tokenize, word_tokenize\n",
    "def stemSentence(sentence):\n",
    "    token_words=word_tokenize(str(sentence))\n",
    "    token_words\n",
    "    porter = PorterStemmer()\n",
    "    stem_sentence=[]\n",
    "    for word in token_words:\n",
    "        stem_sentence.append(porter.stem(word))\n",
    "        stem_sentence.append(\" \")\n",
    "    return \"\".join(stem_sentence)\n",
    "\n",
    "#x=stemSentence(\"rapport leur missions font tout\")\n",
    "\n"
   ]
  },
  {
   "cell_type": "code",
   "execution_count": 144,
   "metadata": {},
   "outputs": [
    {
     "data": {
      "text/html": [
       "<div>\n",
       "<style scoped>\n",
       "    .dataframe tbody tr th:only-of-type {\n",
       "        vertical-align: middle;\n",
       "    }\n",
       "\n",
       "    .dataframe tbody tr th {\n",
       "        vertical-align: top;\n",
       "    }\n",
       "\n",
       "    .dataframe thead th {\n",
       "        text-align: right;\n",
       "    }\n",
       "</style>\n",
       "<table border=\"1\" class=\"dataframe\">\n",
       "  <thead>\n",
       "    <tr style=\"text-align: right;\">\n",
       "      <th></th>\n",
       "      <th>text</th>\n",
       "      <th>polarity</th>\n",
       "      <th>text2</th>\n",
       "      <th>text3</th>\n",
       "    </tr>\n",
       "  </thead>\n",
       "  <tbody>\n",
       "    <tr>\n",
       "      <th>0</th>\n",
       "      <td>Un peu plus de communication</td>\n",
       "      <td>0</td>\n",
       "      <td>Un peu plu de commun</td>\n",
       "      <td>plu commun</td>\n",
       "    </tr>\n",
       "    <tr>\n",
       "      <th>1</th>\n",
       "      <td>90</td>\n",
       "      <td>0</td>\n",
       "      <td>90</td>\n",
       "      <td></td>\n",
       "    </tr>\n",
       "    <tr>\n",
       "      <th>2</th>\n",
       "      <td>depuis janvier 2017 très dur à avoir de la com...</td>\n",
       "      <td>0</td>\n",
       "      <td>depui janvier 2017 trè dur à avoir de la commu...</td>\n",
       "      <td>depui janvier trè dur commun face face retour ...</td>\n",
       "    </tr>\n",
       "    <tr>\n",
       "      <th>3</th>\n",
       "      <td>J'aurai aimer être informée que le fait d'inte...</td>\n",
       "      <td>0</td>\n",
       "      <td>j'aurai aimer être informé que le fait d'inter...</td>\n",
       "      <td>aimer informé interrompr contrat jour aller an...</td>\n",
       "    </tr>\n",
       "    <tr>\n",
       "      <th>4</th>\n",
       "      <td>RAS</td>\n",
       "      <td>0</td>\n",
       "      <td>ra</td>\n",
       "      <td>ra</td>\n",
       "    </tr>\n",
       "  </tbody>\n",
       "</table>\n",
       "</div>"
      ],
      "text/plain": [
       "                                                text  polarity  \\\n",
       "0                       Un peu plus de communication         0   \n",
       "1                                                 90         0   \n",
       "2  depuis janvier 2017 très dur à avoir de la com...         0   \n",
       "3  J'aurai aimer être informée que le fait d'inte...         0   \n",
       "4                                                RAS         0   \n",
       "\n",
       "                                               text2  \\\n",
       "0                              Un peu plu de commun    \n",
       "1                                                90    \n",
       "2  depui janvier 2017 trè dur à avoir de la commu...   \n",
       "3  j'aurai aimer être informé que le fait d'inter...   \n",
       "4                                                ra    \n",
       "\n",
       "                                               text3  \n",
       "0                                         plu commun  \n",
       "1                                                     \n",
       "2  depui janvier trè dur commun face face retour ...  \n",
       "3  aimer informé interrompr contrat jour aller an...  \n",
       "4                                                 ra  "
      ]
     },
     "execution_count": 144,
     "metadata": {},
     "output_type": "execute_result"
    }
   ],
   "source": [
    "data['text2']= data['text'].apply(stemSentence)\n",
    "data.head()"
   ]
  },
  {
   "cell_type": "code",
   "execution_count": 145,
   "metadata": {},
   "outputs": [],
   "source": [
    "punctuations = string.punctuation #+\"’¶•@°©®™\""
   ]
  },
  {
   "cell_type": "code",
   "execution_count": 146,
   "metadata": {},
   "outputs": [],
   "source": [
    "def funct(text):\n",
    "    text = str(text).lower()\n",
    "    \n",
    "    translator = str.maketrans(punctuations,\" \"*len(punctuations))\n",
    "    s = text.translate(translator)\n",
    "    \n",
    "    res = ''.join([i for i in s if not i.isdigit()])\n",
    "    \n",
    "    wordtokens = word_tokenize(res)\n",
    "    \n",
    "    return  ' '.join([w for w in wordtokens if not w in Stopwords])"
   ]
  },
  {
   "cell_type": "code",
   "execution_count": 147,
   "metadata": {},
   "outputs": [
    {
     "name": "stdout",
     "output_type": "stream",
     "text": [
      "peu communi\n"
     ]
    }
   ],
   "source": [
    "print(funct('Un peu de Communi 40 ;;')) #test"
   ]
  },
  {
   "cell_type": "code",
   "execution_count": 148,
   "metadata": {},
   "outputs": [],
   "source": [
    "data['text3']=data['text2'].apply(funct)"
   ]
  },
  {
   "cell_type": "code",
   "execution_count": 149,
   "metadata": {},
   "outputs": [],
   "source": [
    "freq = pd.Series(' '.join(data['text3']).split()).value_counts()[:3]\n",
    "freq\n",
    "data['text3'] = data['text3'].apply(lambda x: \" \".join(x for x in x.split() if x not in freq))"
   ]
  },
  {
   "cell_type": "code",
   "execution_count": 150,
   "metadata": {},
   "outputs": [
    {
     "data": {
      "text/html": [
       "<div>\n",
       "<style scoped>\n",
       "    .dataframe tbody tr th:only-of-type {\n",
       "        vertical-align: middle;\n",
       "    }\n",
       "\n",
       "    .dataframe tbody tr th {\n",
       "        vertical-align: top;\n",
       "    }\n",
       "\n",
       "    .dataframe thead th {\n",
       "        text-align: right;\n",
       "    }\n",
       "</style>\n",
       "<table border=\"1\" class=\"dataframe\">\n",
       "  <thead>\n",
       "    <tr style=\"text-align: right;\">\n",
       "      <th></th>\n",
       "      <th>text</th>\n",
       "      <th>polarity</th>\n",
       "      <th>text2</th>\n",
       "      <th>text3</th>\n",
       "    </tr>\n",
       "  </thead>\n",
       "  <tbody>\n",
       "    <tr>\n",
       "      <th>0</th>\n",
       "      <td>Un peu plus de communication</td>\n",
       "      <td>0</td>\n",
       "      <td>Un peu plu de commun</td>\n",
       "      <td>peu plu commun</td>\n",
       "    </tr>\n",
       "    <tr>\n",
       "      <th>1</th>\n",
       "      <td>90</td>\n",
       "      <td>0</td>\n",
       "      <td>90</td>\n",
       "      <td></td>\n",
       "    </tr>\n",
       "    <tr>\n",
       "      <th>2</th>\n",
       "      <td>depuis janvier 2017 très dur à avoir de la com...</td>\n",
       "      <td>0</td>\n",
       "      <td>depui janvier 2017 trè dur à avoir de la commu...</td>\n",
       "      <td>depui janvier trè dur avoir commun face face a...</td>\n",
       "    </tr>\n",
       "    <tr>\n",
       "      <th>3</th>\n",
       "      <td>J'aurai aimer être informée que le fait d'inte...</td>\n",
       "      <td>0</td>\n",
       "      <td>j'aurai aimer être informé que le fait d'inter...</td>\n",
       "      <td>aimer être informé fait interrompr contrat jou...</td>\n",
       "    </tr>\n",
       "    <tr>\n",
       "      <th>4</th>\n",
       "      <td>RAS</td>\n",
       "      <td>0</td>\n",
       "      <td>ra</td>\n",
       "      <td>ra</td>\n",
       "    </tr>\n",
       "    <tr>\n",
       "      <th>5</th>\n",
       "      <td>L'accueil est toujours cordial. J'ai été posit...</td>\n",
       "      <td>1</td>\n",
       "      <td>l'accueil est toujour cordial . j'ai été posit...</td>\n",
       "      <td>accueil toujour cordial positiv étonné être co...</td>\n",
       "    </tr>\n",
       "    <tr>\n",
       "      <th>6</th>\n",
       "      <td>Les contrats sont respectés et disponible chaq...</td>\n",
       "      <td>1</td>\n",
       "      <td>le contrat sont respecté et dispon chaqu semai...</td>\n",
       "      <td>contrat respecté dispon chaqu semain parfait</td>\n",
       "    </tr>\n",
       "    <tr>\n",
       "      <th>7</th>\n",
       "      <td>Rapide, compétent, sérieux, dynamique</td>\n",
       "      <td>1</td>\n",
       "      <td>rapid , compétent , sérieux , dynamiqu</td>\n",
       "      <td>rapid compétent sérieux dynamiqu</td>\n",
       "    </tr>\n",
       "    <tr>\n",
       "      <th>8</th>\n",
       "      <td>Non pas vraiment</td>\n",
       "      <td>1</td>\n",
       "      <td>non pa vraiment</td>\n",
       "      <td>non vraiment</td>\n",
       "    </tr>\n",
       "    <tr>\n",
       "      <th>9</th>\n",
       "      <td>La faudrait en parler au téléphone beaucoup tr...</td>\n",
       "      <td>0</td>\n",
       "      <td>La faudrait en parler au téléphone beaucoup tr...</td>\n",
       "      <td>faudrait parler téléphone beaucoup trop long</td>\n",
       "    </tr>\n",
       "    <tr>\n",
       "      <th>10</th>\n",
       "      <td>Être proactif dans la proposition de candidats</td>\n",
       "      <td>0</td>\n",
       "      <td>être proactif dan la proposit de candidat</td>\n",
       "      <td>être proactif dan proposit candidat</td>\n",
       "    </tr>\n",
       "    <tr>\n",
       "      <th>11</th>\n",
       "      <td>manque de réactivité de manière générale conce...</td>\n",
       "      <td>0</td>\n",
       "      <td>manqu de réactivité de manièr générale concern...</td>\n",
       "      <td>manqu réactivité manièr générale concern retou...</td>\n",
       "    </tr>\n",
       "    <tr>\n",
       "      <th>12</th>\n",
       "      <td>Premiere mission avec adecco depuis longtemps....</td>\n",
       "      <td>1</td>\n",
       "      <td>premier mission avec adecco depui longtemp . M...</td>\n",
       "      <td>premier adecco depui longtemp trouver apr midi...</td>\n",
       "    </tr>\n",
       "    <tr>\n",
       "      <th>13</th>\n",
       "      <td>je ne comprend pas que je n est jamais de cont...</td>\n",
       "      <td>0</td>\n",
       "      <td>je ne comprend pa que je n est jamai de contra...</td>\n",
       "      <td>comprend jamai contrat avant deuxiem troisiem ...</td>\n",
       "    </tr>\n",
       "    <tr>\n",
       "      <th>14</th>\n",
       "      <td>la première partie de ma mission a saint gobai...</td>\n",
       "      <td>1</td>\n",
       "      <td>la premièr parti de ma mission a saint gobain ...</td>\n",
       "      <td>premièr parti saint gobain charni</td>\n",
       "    </tr>\n",
       "  </tbody>\n",
       "</table>\n",
       "</div>"
      ],
      "text/plain": [
       "                                                 text  polarity  \\\n",
       "0                        Un peu plus de communication         0   \n",
       "1                                                  90         0   \n",
       "2   depuis janvier 2017 très dur à avoir de la com...         0   \n",
       "3   J'aurai aimer être informée que le fait d'inte...         0   \n",
       "4                                                 RAS         0   \n",
       "5   L'accueil est toujours cordial. J'ai été posit...         1   \n",
       "6   Les contrats sont respectés et disponible chaq...         1   \n",
       "7               Rapide, compétent, sérieux, dynamique         1   \n",
       "8                                    Non pas vraiment         1   \n",
       "9   La faudrait en parler au téléphone beaucoup tr...         0   \n",
       "10     Être proactif dans la proposition de candidats         0   \n",
       "11  manque de réactivité de manière générale conce...         0   \n",
       "12  Premiere mission avec adecco depuis longtemps....         1   \n",
       "13  je ne comprend pas que je n est jamais de cont...         0   \n",
       "14  la première partie de ma mission a saint gobai...         1   \n",
       "\n",
       "                                                text2  \\\n",
       "0                               Un peu plu de commun    \n",
       "1                                                 90    \n",
       "2   depui janvier 2017 trè dur à avoir de la commu...   \n",
       "3   j'aurai aimer être informé que le fait d'inter...   \n",
       "4                                                 ra    \n",
       "5   l'accueil est toujour cordial . j'ai été posit...   \n",
       "6   le contrat sont respecté et dispon chaqu semai...   \n",
       "7             rapid , compétent , sérieux , dynamiqu    \n",
       "8                                    non pa vraiment    \n",
       "9   La faudrait en parler au téléphone beaucoup tr...   \n",
       "10         être proactif dan la proposit de candidat    \n",
       "11  manqu de réactivité de manièr générale concern...   \n",
       "12  premier mission avec adecco depui longtemp . M...   \n",
       "13  je ne comprend pa que je n est jamai de contra...   \n",
       "14  la premièr parti de ma mission a saint gobain ...   \n",
       "\n",
       "                                                text3  \n",
       "0                                      peu plu commun  \n",
       "1                                                      \n",
       "2   depui janvier trè dur avoir commun face face a...  \n",
       "3   aimer être informé fait interrompr contrat jou...  \n",
       "4                                                  ra  \n",
       "5   accueil toujour cordial positiv étonné être co...  \n",
       "6        contrat respecté dispon chaqu semain parfait  \n",
       "7                    rapid compétent sérieux dynamiqu  \n",
       "8                                        non vraiment  \n",
       "9        faudrait parler téléphone beaucoup trop long  \n",
       "10                être proactif dan proposit candidat  \n",
       "11  manqu réactivité manièr générale concern retou...  \n",
       "12  premier adecco depui longtemp trouver apr midi...  \n",
       "13  comprend jamai contrat avant deuxiem troisiem ...  \n",
       "14                  premièr parti saint gobain charni  "
      ]
     },
     "execution_count": 150,
     "metadata": {},
     "output_type": "execute_result"
    }
   ],
   "source": [
    "data.head(15)"
   ]
  },
  {
   "cell_type": "code",
   "execution_count": 151,
   "metadata": {},
   "outputs": [],
   "source": [
    "data.dropna(inplace=True)"
   ]
  },
  {
   "cell_type": "code",
   "execution_count": 152,
   "metadata": {},
   "outputs": [
    {
     "data": {
      "text/plain": [
       "(23879, 4)"
      ]
     },
     "execution_count": 152,
     "metadata": {},
     "output_type": "execute_result"
    }
   ],
   "source": [
    "data.shape"
   ]
  },
  {
   "cell_type": "code",
   "execution_count": 153,
   "metadata": {},
   "outputs": [],
   "source": [
    "x = data['text3']\n",
    "y = data['polarity']\n"
   ]
  },
  {
   "cell_type": "code",
   "execution_count": 154,
   "metadata": {},
   "outputs": [],
   "source": [
    "vectorizer = TfidfVectorizer()\n",
    "x= vectorizer.fit_transform(x)"
   ]
  },
  {
   "cell_type": "code",
   "execution_count": 155,
   "metadata": {},
   "outputs": [
    {
     "data": {
      "text/plain": [
       "(23879, 14508)"
      ]
     },
     "execution_count": 155,
     "metadata": {},
     "output_type": "execute_result"
    }
   ],
   "source": [
    "x.shape"
   ]
  },
  {
   "cell_type": "code",
   "execution_count": 156,
   "metadata": {},
   "outputs": [
    {
     "name": "stdout",
     "output_type": "stream",
     "text": [
      "['aait', 'aalor', 'aan', 'aanocn', 'aant', 'aappel', 'ab', 'abaakouk', 'abadi', 'abandon', 'abandonn', 'abandonné', 'abanon', 'abatoir', 'abattag', 'abattoir', 'abb', 'abbandon', 'abbevil', 'aberr', 'abien', 'abl', 'abod', 'abond', 'abondant', 'abonn', 'abonné', 'abor', 'abord', 'abordé', 'abou', 'abouti', 'aboutir', 'aboutira', 'aboutiss', 'aboutissai', 'aboutit', 'aboy', 'abri', 'abrit', 'abrupt', 'abruti', 'abrégé', 'absambl', 'abscenc', 'abscent', 'absenc', 'absent', 'absenteism', 'absenté', 'absentéism', 'absolu', 'absolumentpa', 'abstenir', 'abstract', 'abstrait', 'absurd', 'abu', 'abus', 'abusif', 'abusé', 'abutir', 'abvie', 'abérant', 'abérrant', 'abîmer', 'abîmé', 'ac', 'acc', 'accablant', 'acced', 'accent', 'accentu', 'accept', 'accepterai', 'acceptez', 'acceptã', 'accepté', 'acces', 'access', 'accessibilité', 'accessoir', 'acceuil', 'acceuillant', 'acceuilli', 'acceuillit', 'acceuol', 'accid', 'accidenté', 'accieil', 'accielli', 'accient', 'accompagn', 'accompagnai', 'accompagné', 'accompan', 'accompli', 'accomplir', 'accompt', 'accompte', 'accomptes', 'accor', 'accord', 'accordé', 'accouch', 'accouché', 'accro', 'accroch', 'accrochag', 'accroché', 'accroiss', 'accroîtr', 'accru', 'accrédit', 'accueil', 'accueillait', 'accueillant', 'accueillent', 'accueilli', 'accueillir', 'accueuil', 'accueuilli', 'accuil', 'accuilli', 'accumul', 'accumulai', 'accumulé', 'accun', 'accus', 'accusé', 'accã', 'accè', 'accèd', 'accé', 'accéder', 'accédé', 'acdc', 'aceuil', 'achat', 'achemin', 'achet', 'acheté', 'achev', 'achevé', 'achez', 'achèt', 'achèv', 'acial', 'acidu', 'acil', 'acompanh', 'acompt', 'acontacté', 'acotechezpoleemploiysontsympa', 'acout', 'acpt', 'acqu', 'acquerir', 'acqui', 'acquir', 'acquis', 'acquisit', 'acquièr', 'acquérir', 'acropoli', 'act', 'acter', 'acteur', 'actif', 'action', 'activ', 'activit', 'activitã', 'activité', 'actual', 'actualis', 'actualisé', 'actualité', 'actuel', 'actuellemen', 'actul', 'acueil', 'acueillir', 'acuiei', 'acuité', 'acun', 'adacco', 'adap', 'adapt', 'adaptabilité', 'adapte', 'adaptã', 'adapté', 'adaptéba', 'adcco', 'addec', 'addecci', 'addeccio', 'addecco', 'addeco', 'addecoo', 'additionné', 'ade', 'adecc', 'adeccco', 'adecci', 'adecco', 'adeccodevait', 'adeccoest', 'adeccom', 'adeccon', 'adeccoplu', 'adeccoprend', 'adeccoqu', 'adeccoqui', 'adeccotravaillai', 'adeccp', 'adeccpp', 'adeco', 'adecoo', 'adeecco', 'adeeco', 'adefim', 'adelin', 'adequ', 'adequat', 'adg', 'adhecco', 'adher', 'adhes', 'adhèr', 'adhérent', 'adhérer', 'adhérr', 'adhésion', 'adia', 'adico', 'adieu', 'adip', 'adjectif', 'adjoint', 'adm', 'admettr', 'admi', 'admin', 'administr', 'administrati', 'administratif', 'adminitr', 'adminstr', 'admir', 'adob', 'adocco', 'adopt', 'ador', 'adorai', 'adorez', 'adoré', 'adorétravail', 'adr', 'adress', 'adressag', 'adressait', 'adressé', 'adult', 'adv', 'advantag', 'adwork', 'adzcco', 'adã', 'adécco', 'adéco', 'adéquat', 'ae', 'aec', 'aecco', 'aedcco', 'aeib', 'aelia', 'aenc', 'aer', 'aereport', 'aeronautiqu', 'aeroportuair', 'aerospac', 'aeré', 'aet', 'afaibl', 'afecvo', 'affabl', 'affair', 'affaire', 'affect', 'affectionnai', 'affectueus', 'affecté', 'affich', 'affichag', 'affiché', 'affili', 'affilit', 'affilié', 'affilé', 'affin', 'affinez', 'affinité', 'affirm', 'affirmait', 'affirmé', 'affranchiss', 'affreux', 'affrété', 'affuli', 'afférent', 'afin', 'afinqu', 'afm', 'afn', 'afpa', 'ag', 'agac', 'agacé', 'agan', 'aganc', 'agasin', 'agath', 'agathon', 'agaç', 'agc', 'age', 'agec', 'agel', 'agen', 'agenc', 'agence', 'agenceadecco', 'agencequi', 'agences', 'agenceur', 'agencé', 'agend', 'agenda', 'ageng', 'agenrc', 'agent', 'aget', 'aggio', 'agglomér', 'aggress', 'aggro', 'agi', 'agio', 'agir', 'agiss', 'agissait', 'agit', 'agnc', 'agnec', 'agnè', 'agr', 'agrana', 'agreabl', 'agreable', 'agres', 'agress', 'agressai', 'agressif', 'agressé', 'agricol', 'agro', 'agroalimentair', 'agréabilité', 'agréabl', 'agréable', 'agréer', 'agréé', 'agé', 'ah', 'ai', 'aiaccepté', 'aicha', 'aicun', 'aid', 'aidai', 'aidait', 'aidant', 'aide', 'aident', 'aider', 'aiderait', 'aidez', 'aidé', 'aier', 'aigri', 'aigu', 'aiguil', 'aiguiller', 'ail', 'aileur', 'aill', 'aillant', 'ailleur', 'ailleursarrêté', 'ailleursaucun', 'aim', 'aima', 'aimabilit', 'aimabilité', 'aimabl', 'aimai', 'aimant', 'aime', 'aiment', 'aimer', 'aimerai', 'aimerait', 'aimé', 'ain', 'aindicatif', 'ainsi', 'aipa', 'aipr', 'air', 'airai', 'airbu', 'aircel', 'airelec', 'ais', 'aisanc', 'aisi', 'aisn', 'aison', 'aisé', 'aitoujour', 'aitr', 'aiun', 'aix', 'ajaccio', 'ajenc', 'ajont', 'ajour', 'ajout', 'ajoute', 'ajouterai', 'ajouté', 'ajust', 'ajusteur', 'ajusté', 'akl', 'akturk', 'al', 'alabl', 'alai', 'alaikoum', 'alair', 'alais', 'alan', 'alarm', 'alban', 'albert', 'alberto', 'albi', 'albia', 'albrespi', 'alcatel', 'alcool', 'alcooliqu', 'alcoolism', 'alcoolisé', 'ald', 'aldi', 'ale', 'alentour', 'alençon', 'alert', 'alerté', 'alexandr', 'alexandra', 'alexia', 'algérien', 'ali', 'alic', 'aliez', 'align', 'aliment', 'alimentai', 'alimentair', 'alimenté', 'alin', 'alio', 'alit', 'alla', 'allai', 'allaient', 'allait', 'allaitm', 'allamano', 'alland', 'allant', 'allard', 'alle', 'allechant', 'allemagn', 'allemand', 'allemeand', 'allent', 'aller', 'allergi', 'allers', 'alleur', 'allez', 'allianc', 'alloc', 'allon', 'allonn', 'allor', 'alloué', 'allr', 'allum', 'allè', 'allègerait', 'allé', 'alléger', 'almeri', 'alo', 'alor', 'alorsqu', 'alort', 'alp', 'alpa', 'alpin', 'alr', 'alsac', 'alsacienn', 'alstom', 'altadi', 'alterc', 'altereo', 'altern', 'altho', 'alti', 'altitud', 'altor', 'altran', 'altérégo', 'alu', 'aluminium', 'alè', 'aléa', 'aléatoir', 'am', 'amabilit', 'amabilite', 'amabilité', 'amabl', 'amai', 'amanda', 'amandin', 'amara', 'amateur', 'amateurism', 'amazon', 'ambassadric', 'ambauch', 'amberieu', 'ambianc', 'ambiant', 'ambiguïté', 'ambinc', 'ambit', 'ambitieux', 'ambois', 'ambul', 'ambulanci', 'ame', 'ameli', 'amelior', 'ameliorera', 'ameloir', 'amen', 'amenag', 'ament', 'amené', 'amerait', 'ami', 'amiabl', 'amic', 'amical', 'amien', 'amies', 'amilior', 'amitié', 'ammenageait', 'amont', 'amortir', 'amour', 'ampl', 'amplement', 'amplitud', 'ampm', 'ampoul', 'amundi', 'amusé', 'amã', 'amèn', 'amèr', 'améior', 'améli', 'amélior', 'amélioration', 'amélioré', 'aménag', 'aménagé', 'an', 'anai', 'analys', 'analyst', 'analysé', 'anatol', 'anceni', 'ancien', 'ancienn', 'anciennet', 'ancienneté', 'anciennité', 'and', 'andicap', 'andrer', 'andrezieux', 'andrezé', 'andro', 'androïd', 'andré', 'andrézieux', 'anecdot', 'anfa', 'angel', 'angenc', 'anger', 'angevin', 'anglai', 'anglet', 'angleterr', 'angoiss', 'angoulêm', 'angéli', 'angéliqu', 'anich', 'anienneté', 'anim', 'animal', 'animateur', 'anio', 'anjou', 'ann', 'annabel', 'annal', 'anne', 'annec', 'anneci', 'annex', 'anniversair', 'annonay', 'annonc', 'annoncé', 'annonç', 'annonçait', 'annuair', 'annuel', 'annul', 'annulé', 'anné', 'annéestravail', 'annéé', 'anomali', 'anon', 'anoncé', 'anonym', 'anorm', 'anotr', 'anovo', 'anp', 'anpow', 'ans', 'ant', 'antenn', 'anthoni', 'antib', 'anticip', 'anticipe', 'anticipé', 'anticp', 'antil', 'antipathiqu', 'antipathiques', 'antipod', 'antipoli', 'antisemetism', 'antoin', 'antoni', 'antonia', 'antourag', 'antécédent', 'antérieur', 'anu', 'anulé', 'anxiété', 'ané', 'aoir', 'aol', 'aost', 'aou', 'aout', 'août', 'ap', 'apacité', 'apais', 'apal', 'apareil', 'apart', 'apav', 'apdap', 'ape', 'apel', 'apelinterim', 'apellevqu', 'apellé', 'apelé', 'apercevoir', 'apercevon', 'aperçoit', 'aperçu', 'api', 'apl', 'apler', 'aplic', 'aplix', 'apm', 'apocalyptiqu', 'aport', 'aporté', 'app', 'appar', 'appara', 'apparaiss', 'apparaissai', 'apparaitr', 'apparaît', 'apparaîtr', 'appareil', 'apparem', 'apparent', 'apparm', 'appart', 'apparten', 'apparti', 'appartienn', 'appel', 'appelai', 'appelait', 'appele', 'appelera', 'appelerait', 'appeleren', 'appelez', 'appeliez', 'appellai', 'appellait', 'appellera', 'appellerai', 'appellez', 'appelllez', 'appellè', 'appellé', 'appelon', 'appelsqu', 'appeltoujour', 'appeltout', 'appelz', 'appelé', 'appelél', 'apperr', 'appeé', 'appl', 'applaudirai', 'appler', 'applez', 'appli', 'applic', 'appliqu', 'appliqué', 'appoint', 'apport', 'apportai', 'apporte', 'apporterai', 'apportez', 'apporton', 'apporté', 'apprai', 'appreci', 'apprecier', 'apprecié', 'apprenai', 'apprend', 'apprendqu', 'apprendr', 'apprenn', 'apprenon', 'apprenti', 'apprentissag', 'appri', 'appris', 'apprit', 'approch', 'approchait', 'approfondi', 'approfondir', 'appropié', 'appropri', 'approprié', 'approvisionn', 'approxim', 'approximatif', 'approximativ', 'appréci', 'appréciabl', 'appréciai', 'appréciaient', 'appréciat', 'apprécier', 'apprécierai', 'apprécion', 'apprécit', 'apprécié', 'appréhend', 'apprêt', 'appui', 'appuy', 'appuyé', 'apr', 'apreci', 'aprecit', 'aprendr', 'apret', 'apri', 'apriori', 'aprã', 'aprè', 'après', 'apré', 'apréciablé', 'aprécié', 'apt', 'aptar', 'aptitud', 'apui', 'apè', 'aquabul', 'aquitain', 'aquí', 'ar', 'arab', 'aramon', 'arangeant', 'arbent', 'arbresl', 'arc', 'arcelor', 'archaïqu', 'archi', 'archiv', 'archivag', 'archivé', 'ardenn', 'arder', 'ardierr', 'are', 'arena', 'areva', 'arfoi', 'arg', 'argenc', 'argend', 'argent', 'argentan', 'argenteuil', 'argenton', 'arget', 'argument', 'arif', 'arkema', 'arl', 'armagnac', 'armel', 'armentie', 'armentièr', 'armoir', 'armé', 'arnaqu', 'arnaqueur', 'arnaud', 'arnoux', 'arpajon', 'arr', 'arra', 'arrang', 'arrangeant', 'arrangé', 'arret', 'arreté', 'arri', 'arrimag', 'arriv', 'arrivai', 'arrivait', 'arrive', 'arrivera', 'arriverai', 'arrivez', 'arrivion', 'arrivon', 'arrivã', 'arrivé', 'arrièr', 'arrié', 'arriéré', 'arrog', 'arrogant', 'arrondir', 'arrondiss', 'arrrêt', 'arrviez', 'arrèt', 'arrété', 'arrêt', 'arrêtai', 'arrêtaient', 'arrêtait', 'arrêtant', 'arrêtent', 'arrêter', 'arrêtera', 'arrêtez', 'arrêté', 'art', 'artcl', 'artenay', 'artex', 'articl', 'articul', 'artificiellemen', 'artis', 'artisan', 'artisanat', 'artix', 'arvest', 'arè', 'aréna', 'arêt', 'ascenseur', 'ascensonrist', 'asco', 'ase', 'ased', 'asenc', 'aserti', 'asistant', 'asix', 'aspect', 'aspen', 'aspirai', 'ass', 'assai', 'assait', 'assed', 'assee', 'assembl', 'assemblag', 'asser', 'asservit', 'assez', 'assi', 'assidu', 'assiduité', 'assiett', 'assign', 'assigné', 'assimilé', 'assist', 'assistan', 'assistanat', 'assistant', 'assisté', 'assitant', 'assm', 'associ', 'associatif', 'associé', 'assoit', 'assorti', 'assujetti', 'assum', 'assumé', 'assur', 'assurera', 'assurez', 'assuré', 'astreint', 'astrid', 'asturienn', 'at', 'ate', 'ateli', 'atendi', 'atent', 'atest', 'atisfait', 'atitud', 'ativité', 'atlanti', 'atlantiqu', 'atout', 'atr', 'attach', 'attaché', 'attand', 'attaqu', 'attaqué', 'attard', 'attarder', 'atteign', 'atteindr', 'atteint', 'atten', 'attenant', 'attend', 'attendai', 'attendait', 'attendez', 'attendion', 'attendon', 'attendr', 'attendu', 'attent', 'attenta', 'attente', 'attentif', 'attentio', 'attentionn', 'attentionné', 'attentioné', 'attentiv', 'attest', 'attestatio', 'attet', 'attir', 'attitré', 'attitud', 'attité', 'attnd', 'attouchements', 'attractif', 'attractivité', 'attribu', 'attribut', 'attribué', 'atypiqu', 'auait', 'aubagn', 'aubena', 'aubep', 'aubervilli', 'aubigni', 'auch', 'auchan', 'aucn', 'aucu', 'aucub', 'aucun', 'aucune', 'aucuneconnaiss', 'aucunefich', 'aucuneinform', 'aucunemebt', 'aucunemis', 'aucunentretien', 'aucunequalif', 'aucunesoffr', 'aucunn', 'aucunretour', 'audacieux', 'audibl', 'audienc', 'audieus', 'audincourt', 'audit', 'auditif', 'auditorium', 'audrey', 'auffret', 'auffrey', 'augment', 'augmenté', 'aujord', 'aujoud', 'aujoudhui', 'aujourd', 'aujourdhui', 'aujourhui', 'aulnay', 'aumal', 'aumel', 'aumon', 'aumôn', 'aun', 'auparav', 'auplutart', 'aupr', 'auprè', 'auquel', 'aur', 'auraipu', 'auraitil', 'aurang', 'aureli', 'aurevoir', 'auric', 'aurion', 'auron', 'auror', 'auréli', 'ausi', 'ausitôt', 'auss', 'aussi', 'aussiparl', 'aussiplein', 'aussitôt', 'aussî', 'austèr', 'aut', 'autain', 'autajon', 'autant', 'authentiqu', 'autnt', 'auto', 'autocad', 'autodidact', 'autolaveus', 'automatiqu', 'automatis', 'automatisé', 'automobil', 'automot', 'autonom', 'autonomi', 'autoris', 'autorisé', 'autorit', 'autoritair', 'autostop', 'autour', 'autr', 'autre', 'autreaj', 'autrechos', 'autrefoi', 'autrement', 'autresa', 'autreset', 'autruch', 'auun', 'auxchaussur', 'auxentrepris', 'auxerr', 'auxiliair', 'auxonn', 'auxquel', 'av', 'ava', 'avai', 'avaispa', 'avaitrappelé', 'aval', 'avallon', 'avan', 'avanc', 'avancr', 'avancé', 'avant', 'avantag', 'avantageux', 'avançait', 'avançon', 'avat', 'avc', 'avdc', 'ave', 'aveceux', 'avecm', 'avecmoi', 'avecon', 'avem', 'aven', 'avenant', 'avenir', 'avent', 'aventag', 'aventi', 'aventpour', 'aventur', 'avenu', 'averti', 'avertir', 'avertiss', 'avertit', 'avesn', 'avi', 'avignon', 'avion', 'avis', 'aviso', 'aviss', 'avisé', 'avit', 'avoc', 'avocat', 'avoi', 'avoin', 'avoir', 'avon', 'avor', 'avorté', 'avou', 'avouer', 'avouerez', 'avr', 'avranch', 'avrc', 'avril', 'avèr', 'avèrent', 'avé', 'avérer', 'avéré', 'ax', 'axa', 'axe', 'axeptai', 'axima', 'aximum', 'axé', 'axéréal', 'ay', 'ayan', 'aye', 'ayent', 'ayeur', 'aynt', 'ayon', 'ayé', 'azainey', 'azur', 'aérien', 'aéronautiqu', 'aéronef', 'aéroport', 'aéroportuair', 'aïgri', 'ba', 'bac', 'baccarat', 'back', 'backoffic', 'bacl', 'baconnai', 'bactéri', 'bad', 'bade', 'badet', 'badg', 'badgeag', 'badgeus', 'bafouer', 'bag', 'bagag', 'bagagist', 'bagnol', 'baguelin', 'bah', 'bahija', 'bai', 'bailleur', 'bain', 'baiss', 'baissant', 'baissent', 'baisser', 'baissé', 'balad', 'baladai', 'baladé', 'balagué', 'balanc', 'balay', 'ball', 'ballerin', 'ballon', 'balloté', 'balog', 'banal', 'bananièr', 'bancair', 'bancheur', 'band', 'bani', 'banir', 'banlieu', 'banni', 'bannir', 'banqu', 'banquesà', 'bap', 'baptist', 'bar', 'baraudon', 'barbanni', 'barbara', 'bardag', 'bardi', 'barem', 'barentin', 'barjouvil', 'baroeul', 'barr', 'barrag', 'barroi', 'barthélemi', 'bascul', 'basculé', 'base', 'basent', 'bases', 'basf', 'basic', 'basiqu', 'bass', 'basse', 'bassen', 'bassin', 'basta', 'bastia', 'bastien', 'basé', 'bat', 'batail', 'bataillé', 'bate', 'bateau', 'batigère', 'batilli', 'batim', 'batiment', 'baton', 'battaillez', 'battement', 'batteri', 'batton', 'battr', 'battu', 'baucoup', 'baud', 'baudet', 'baudin', 'baul', 'baumert', 'bavard', 'bavur', 'bavé', 'bayard', 'bayer', 'bayeux', 'bayonn', 'bazancourt', 'bazog', 'bbr', 'bbraun', 'bc', 'bcoup', 'bcp', 'bcq', 'bd', 'be', 'beacoup', 'bear', 'beau', 'beaucoup', 'beaulieu', 'beaumont', 'beaun', 'beaupreau', 'beauté', 'beauvai', 'bec', 'becqemboi', 'bedoin', 'bedu', 'beffroi', 'bein', 'bel', 'belaadim', 'belambra', 'belchit', 'belfort', 'belgiqu', 'bell', 'belle', 'bellegard', 'bellet', 'bellevil', 'belley', 'bellignat', 'ben', 'benchmarck', 'benefic', 'benefici', 'benfeld', 'benherrat', 'benifici', 'benissimo', 'benn', 'benoit', 'benoît', 'bentel', 'benvic', 'beoin', 'beosin', 'bergar', 'berger', 'bergerac', 'bernard', 'bernay', 'berni', 'berné', 'bertrand', 'besancon', 'besançon', 'besion', 'besoin', 'besoind', 'besoins', 'bessoin', 'betail', 'bethun', 'beton', 'better', 'betterav', 'beucoup', 'beug', 'beureau', 'beuvron', 'bezier', 'bgb', 'bi', 'biai', 'bic', 'bidon', 'bidouil', 'bie', 'biell', 'bien', 'bienaccompagn', 'bienfait', 'bienpour', 'biensur', 'biensûr', 'bientot', 'bientôt', 'bienveil', 'bienveillant', 'bienvenu', 'bienêtr', 'bieveil', 'bigard', 'bigart', 'bigot', 'bilan', 'bile', 'bilingu', 'billancourt', 'biller', 'billet', 'billetteri', 'billot', 'billèr', 'bin', 'binag', 'bine', 'binsur', 'binôm', 'bio', 'biofournil', 'biohabitat', 'biologie', 'biologiqu', 'bioluz', 'biosinex', 'biotech', 'birac', 'birad', 'bisar', 'biscott', 'biscuiteri', 'bise', 'bissi', 'bitagaz', 'bizar', 'bizard', 'bizarr', 'bizarre', 'bizzar', 'bièr', 'bién', 'bjr', 'bla', 'blabla', 'blablacar', 'black', 'blackberri', 'blacklist', 'blagu', 'blai', 'blain', 'blainville', 'blanc', 'blanch', 'blanchisseri', 'blandin', 'bless', 'blessant', 'blesser', 'blessur', 'blessé', 'blesé', 'bleu', 'bleue', 'bloc', 'blocag', 'bloi', 'blois', 'blond', 'bloqu', 'bloquer', 'bloqué', 'blous', 'blouson', 'blsser', 'blue', 'bléssé', 'bne', 'bnne', 'bnp', 'bo', 'bobo', 'bocag', 'bocca', 'boce', 'bocoup', 'boeuf', 'bof', 'boi', 'boir', 'boiron', 'boisson', 'boit', 'bol', 'bolard', 'bolloré', 'bon', 'bonb', 'bonbardi', 'bonchamp', 'bond', 'bondonn', 'bondoufl', 'bondu', 'bonheur', 'bonjour', 'bonjourcoui', 'bonn', 'bonne', 'bonnement', 'bonnet', 'bonneuil', 'bonnevil', 'bonnich', 'bonnin', 'bonnn', 'bonsoir', 'bonsterm', 'bonu', 'boon', 'boostent', 'boosté', 'boot', 'bord', 'bordeaux', 'bordel', 'bordereaux', 'bordereax', 'bordzaux', 'bordéliqu', 'bormio', 'bort', 'bosch', 'boss', 'bossai', 'bossaient', 'bossait', 'bosseboss', 'bossent', 'bosser', 'bosseur', 'bosseus', 'bossé', 'bost', 'bot', 'bott', 'bottes', 'bou', 'bouch', 'bouchara', 'bouche', 'boucher', 'boucheri', 'bouchon', 'bouché', 'boucier', 'boucl', 'boudeli', 'boudon', 'boue', 'bouff', 'boufféré', 'boug', 'bouger', 'bougé', 'bouilli', 'boul', 'boulang', 'boulangeri', 'boulenouar', 'boulet', 'boulevard', 'boullail', 'boulo', 'boulogn', 'boulot', 'boulé', 'bouquet', 'bourdeux', 'bourdier', 'bourdon', 'bourg', 'bourget', 'bourgoin', 'bourre', 'bours', 'boursorama', 'bout', 'boutdu', 'bouteil', 'bouthéon', 'boutiqu', 'bouts', 'bouvard', 'bouygu', 'bove', 'bowden', 'bowl', 'box', 'boycott', 'boycotté', 'boît', 'bp', 'bpo', 'bra', 'bracag', 'brache', 'braderi', 'brame', 'branc', 'branch', 'brantôm', 'brasero', 'braseur', 'brasser', 'brasseri', 'brasseur', 'brassu', 'braud', 'braun', 'bravo', 'bray', 'bref', 'bresl', 'bress', 'bresssol', 'bressuir', 'brest', 'bretagn', 'breteuil', 'bretonneux', 'brevault', 'brian', 'brico', 'bricolag', 'bricoleur', 'bricot', 'bridou', 'brie', 'brief', 'briefé', 'brieuc', 'brievement', 'briey', 'brigitt', 'brignol', 'brimé', 'brio', 'briot', 'brisant', 'brissac', 'brive', 'brl', 'brochur', 'bron', 'brossard', 'brossett', 'brouillon', 'broussev', 'bruay', 'bruge', 'bruguier', 'bruit', 'brulur', 'brulé', 'brun', 'bruneau', 'brunel', 'brusqu', 'brut', 'brutal', 'brute', 'bruyant', 'bruyèr', 'brève', 'brévault', 'brûlure', 'bs', 'bse', 'bsien', 'bsn', 'bsolument', 'bt', 'btp', 'bu', 'buch', 'budget', 'buegi', 'buffard', 'buffet', 'bug', 'bugey', 'buisard', 'buissier', 'buissiér', 'buletin', 'bulletin', 'bulltin', 'bultin', 'bulun', 'buncker', 'bungalow', 'bureau', 'bureautiqu', 'bureaux', 'burn', 'busi', 'buspar', 'bussi', 'but', 'butoir', 'buvait', 'buvett', 'bâclé', 'bâclée', 'bâtiment', 'béatric', 'bémol', 'bémole', 'bénign', 'bénéfice', 'bénéfici', 'bénéficiai', 'bénéficiair', 'bénéficiant', 'bénéficier', 'bénéficion', 'bénéficié', 'bénéfiqu', 'bénéteau', 'bénévolat', 'bétail', 'béthune', 'béton', 'bézier', 'bête', 'bêtise', 'bôite', 'bœuf', 'ca', 'cabin', 'cabinet', 'cac', 'caca', 'cacc', 'cace', 'caces', 'cacess', 'cach', 'cache', 'cacher', 'cachet', 'caché', 'cacophoni', 'cacè', 'cadaeu', 'cadeau', 'cadeaux', 'cadena', 'cadenc', 'cadence', 'cadihlon', 'cadilhon', 'cadr', 'cadré', 'caen', 'caf', 'cafard', 'cafouiffag', 'cafouillages', 'café', 'cagett', 'cahier', 'cahor', 'caiss', 'caissier', 'caissièr', 'calai', 'calberson', 'calbersonn', 'calcif', 'calcul', 'calculé', 'calendri', 'caler', 'calibr', 'calin', 'call', 'calm', 'calomnieus', 'calot', 'caluir', 'calvado', 'calvair', 'calvez', 'calé', 'camaieu', 'camara', 'camarad', 'camauo', 'camaïeu', 'cambrai', 'camif', 'camil', 'camion', 'camo', 'camom', 'camp', 'campagn', 'campanil', 'campenon', 'campgn', 'can', 'canadien', 'canal', 'canan', 'canapé', 'canard', 'canc', 'cancidat', 'canddatur', 'candia', 'candiatur', 'candid', 'candidat', 'candidats', 'candidatu', 'candidatur', 'candidatures', 'candidta', 'canditat', 'cane', 'canicul', 'caniculair', 'canidat', 'canidatur', 'cann', 'cannata', 'canon', 'cantin', 'cantonnai', 'cantonné', 'canéda', 'cap', 'capabl', 'capacit', 'capacitair', 'capacitsé', 'capacité', 'capaité', 'capapcité', 'capit', 'capsud', 'car', 'caractereilqui', 'caractèr', 'caractéristiqu', 'caranc', 'carbur', 'carcassonn', 'cardiac', 'cardif', 'care', 'carenc', 'carences', 'caresst', 'carglass', 'cargueton', 'carhaix', 'cariou', 'carist', 'cariste', 'carit', 'carla', 'carlo', 'carmalgré', 'carmen', 'carnet', 'carnot', 'carol', 'carolin', 'carott', 'carpentra', 'carpi', 'carpien', 'carr', 'carreau', 'carrefour', 'carreleur', 'carrenc', 'carrer', 'carrier', 'carrist', 'carrièr', 'carriér', 'carro', 'carross', 'carrosseri', 'carrossi', 'carrousel', 'carrur', 'carré', 'carrément', 'carsat', 'cart', 'cartaux', 'carteri', 'cartograph', 'carton', 'cartonnag', 'carément', 'casait', 'case', 'casec', 'cases', 'cash', 'casi', 'casier', 'casiment', 'casino', 'casqu', 'cass', 'cassandra', 'casse', 'casser', 'cassess', 'cassi', 'cassé', 'cast', 'castelnau', 'castelnaudari', 'castelsarrasin', 'castorama', 'castr', 'casé', 'cat', 'cata', 'catalan', 'catalogu', 'catalogué', 'catastrohiqu', 'catastroph', 'catastrophe', 'catastrophiqu', 'catherin', 'cathi', 'catorama', 'catégori', 'catégoriqu', 'catégorisé', 'cau', 'cauchemar', 'caudri', 'caumartin', 'caus', 'causait', 'caused', 'causer', 'causs', 'causé', 'caution', 'cava', 'cavaillon', 'cavali', 'cavalièr', 'cave', 'caze', 'caïn', 'cc', 'cce', 'cci', 'ccn', 'ccueil', 'cd', 'cda', 'cdd', 'cddr', 'cdg', 'cdi', 'cdii', 'cdiintérimair', 'cdiscount', 'cditt', 'cdl', 'cdlt', 'cdt', 'cea', 'ceadecco', 'ceci', 'cedex', 'cedric', 'cee', 'cefam', 'cefout', 'cel', 'cela', 'celaaurait', 'celarassur', 'celebré', 'celi', 'cell', 'cella', 'celle', 'celles', 'cellul', 'celon', 'celui', 'celuici', 'celvia', 'celà', 'cenon', 'censer', 'censé', 'cent', 'centact', 'centain', 'center', 'centim', 'centièm', 'centr', 'centrakor', 'central', 'centralis', 'centralisé', 'centraux', 'centré', 'cepa', 'cepend', 'cependantj', 'ceptionnist', 'cercher', 'cerealier', 'cerfranc', 'cergi', 'cerif', 'ceris', 'cernant', 'cernay', 'cerner', 'cerné', 'cerp', 'cert', 'certa', 'certain', 'certif', 'certifi', 'certificat', 'certifié', 'certitud', 'cervic', 'cesont', 'cess', 'cesser', 'cession', 'cessé', 'cest', 'cesta', 'cet', 'cetag', 'cetai', 'cete', 'ceter', 'cett', 'cetteinform', 'ceux', 'ceva', 'cez', 'ceze', 'cf', 'cfca', 'cft', 'cga', 'cgt', 'ch', 'chace', 'chacuend', 'chacun', 'chain', 'chair', 'chais', 'chaland', 'chaleur', 'chaleureuc', 'chaleureus', 'chaleureux', 'challan', 'challeng', 'chalon', 'cham', 'chamberi', 'chambley', 'chamboul', 'chambr', 'chambres', 'chambéri', 'chamond', 'champ', 'champagn', 'champagne', 'champagnes', 'champenoux', 'champigneul', 'champigni', 'champions', 'chanc', 'chance', 'chanceus', 'chandel', 'chanel', 'chang', 'changeai', 'changeait', 'changeant', 'changement', 'changent', 'changer', 'changera', 'changerai', 'changez', 'changiez', 'changé', 'chania', 'chanier', 'channel', 'chanson', 'chantag', 'chantal', 'chantier', 'chantilli', 'chantonnay', 'chap', 'chapeau', 'chapel', 'chapiteaux', 'chappel', 'chapron', 'chaqu', 'charal', 'charbon', 'charcuteri', 'charent', 'charg', 'charge', 'chargeait', 'chargement', 'charger', 'chargera', 'chargeur', 'chargé', 'chariot', 'charl', 'charleri', 'charlevil', 'charleville', 'charli', 'charlin', 'charlott', 'charmant', 'charni', 'charpente', 'charpieu', 'chart', 'chartr', 'chartreus', 'charé', 'chasseneuil', 'chassur', 'chataignerai', 'chateau', 'chateaubourg', 'chateaubriand', 'chateaufarin', 'chateauform', 'chateauneuf', 'chateauroux', 'chatellerault', 'chatillon', 'chatr', 'chau', 'chaud', 'chaudement', 'chaudronni', 'chaue', 'chauffagist', 'chauffer', 'chauffeur', 'chauffeurpl', 'chaumag', 'chaumont', 'chaumâg', 'chauray', 'chausett', 'chaussee', 'chaussett', 'chaussur', 'chaussure', 'chauvin', 'chaîe', 'chaîn', 'che', 'cheché', 'cheddad', 'chee', 'chef', 'chell', 'chemin', 'chemis', 'chemise', 'chene', 'chequ', 'cher', 'cherbourg', 'chercai', 'cherch', 'cherchai', 'cherchaient', 'cherchait', 'cherchant', 'cherchent', 'chercher', 'chercheur', 'cherchion', 'cherchon', 'cherché', 'cheron', 'chesnay', 'cheval', 'chevauché', 'cheveux', 'chevil', 'chevreau', 'chevrier', 'cheylard', 'cheylaroi', 'cheylarois', 'chez', 'chezarco', 'chezd', 'chezi', 'chezvadecco', 'chiant', 'chibret', 'chie', 'chien', 'chier', 'chiffr', 'chilli', 'chimi', 'chimiqu', 'chinoi', 'chinon', 'chioma', 'chip', 'chirurgical', 'chloé', 'chnge', 'chnger', 'choc', 'chocolat', 'chocolateri', 'choisi', 'choisir', 'choisirai', 'choisiss', 'choisit', 'choissirai', 'choissis', 'choix', 'cholet', 'choletai', 'chomag', 'choquait', 'choquant', 'choqué', 'chos', 'chose', 'chosequ', 'chosi', 'chou', 'chouchou', 'chouett', 'chque', 'christel', 'christian', 'christin', 'christoph', 'chronomètr', 'chronophag', 'chronopost', 'chrétien', 'chuchot', 'chute', 'château', 'châteaudun', 'châteauneuf', 'châteauroux', 'châteaux', 'châtellerault', 'chèqu', 'chèque', 'chèques', 'chère', 'chèvre', 'chéant', 'chéquier', 'chéran', 'chêne', 'chômage', 'chômeur', 'ci', 'cibl', 'ciblag', 'cible', 'ciblent', 'cibler', 'ciblé', 'cic', 'cie', 'cif', 'cima', 'cimat', 'cimel', 'cinda', 'cindi', 'cine', 'cinq', 'cinquant', 'cinquantain', 'cinquièm', 'cinéma', 'ciotat', 'cipi', 'cira', 'cirba', 'circet', 'circonst', 'circuité', 'circul', 'circulai', 'cirqu', 'cise', 'ciser', 'cisin', 'ciss', 'citadel', 'citadium', 'citai', 'citant', 'cite', 'citer', 'citerai', 'citizen', 'citroen', 'cité', 'civaux', 'civil', 'civiqu', 'cla', 'claa', 'clair', 'claire', 'clairement', 'clairemet', 'claiss', 'clapet', 'claqu', 'claquant', 'clara', 'clare', 'clarifi', 'clariss', 'clarter', 'clarté', 'class', 'classement', 'classer', 'classiqu', 'classé', 'claud', 'claudin', 'claus', 'clauw', 'cleenex', 'clef', 'clelia', 'clement', 'clementin', 'cleon', 'clermont', 'cli', 'clic', 'clichi', 'click', 'cliebnt', 'clien', 'client', 'clientel', 'clientèl', 'cliet', 'clim', 'climat', 'cliniqu', 'clint', 'cliquer', 'clisson', 'cllègue', 'clo', 'cloch', 'close', 'closent', 'clothild', 'clotur', 'clou', 'clovi', 'club', 'clui', 'cluse', 'clé', 'clément', 'cléo', 'cléon', 'clôture', 'clôturer', 'cm', 'cmb', 'cmpiègne', 'cmpte', 'cmpétenc', 'cmr', 'cn', 'cnb', 'cne', 'cnr', 'cnseillé', 'cntact', 'cntinuez', 'cntradict', 'cntraint', 'cntrat', 'cnvient', 'cnvoquer', 'co', 'cobtact', 'coca', 'cocass', 'cocern', 'coch', 'coché', 'cocktail', 'code', 'codif', 'coef', 'coeff', 'coeffici', 'coeur', 'cofe', 'coff', 'coffreur', 'cofilmo', 'cogir', 'cognac', 'cogé', 'cohabit', 'cohérenc', 'cohérent', 'cohésion', 'coi', 'coic', 'coiffeus', 'coin', 'coins', 'col', 'cola', 'colabor', 'colaborateur', 'colegu', 'colgat', 'coli', 'colibri', 'colin', 'colipost', 'colissimo', 'coll', 'colla', 'collabor', 'collaborateur', 'collaboratric', 'collaboron', 'collaient', 'collat', 'collect', 'collectif', 'collectivité', 'collegu', 'coller', 'colleus', 'colloqu', 'collèg', 'collègu', 'collègues', 'collé', 'collégien', 'collégu', 'colmar', 'colomb', 'colomi', 'colonn', 'color', 'colossal', 'colport', 'columbia', 'colèr', 'colériqu', 'com', 'coma', 'comatelec', 'combat', 'combatt', 'combattr', 'combien', 'combiend', 'combl', 'combler', 'comblé', 'combo', 'come', 'coment', 'comentair', 'comerci', 'cometz', 'comfirmè', 'comité', 'comm', 'command', 'commandes', 'commanditair', 'commandon', 'commandé', 'commantair', 'commecial', 'commenc', 'commencai', 'commencerai', 'commencez', 'commencr', 'commencé', 'commend', 'comment', 'commentai', 'commentair', 'commenterai', 'commentnair', 'commenté', 'commenç', 'commençai', 'commençait', 'commençon', 'commerc', 'commerci', 'commercial', 'commerciaux', 'commerçant', 'commettr', 'commeun', 'commi', 'comminatoir', 'commis', 'commiss', 'commité', 'commlent', 'commmentair', 'commnt', 'commodité', 'commuic', 'commun', 'communicatif', 'communication', 'communiqu', 'communiquez', 'communiquon', 'communiqué', 'comp', 'compabilité', 'compagni', 'compagnon', 'compar', 'comparai', 'comparaison', 'comparait', 'comparatif', 'comparativ', 'comparé', 'compass', 'compasseri', 'compat', 'compatibilité', 'compatissant', 'compbel', 'compens', 'compensateur', 'compensé', 'compet', 'competans', 'competant', 'competences', 'competent', 'competents', 'compiegn', 'compiègn', 'compiégn', 'complais', 'complement', 'complementair', 'complet', 'complett', 'complex', 'complexité', 'complic', 'compliment', 'complimentai', 'compliqu', 'compliquã', 'compliqué', 'compliuer', 'complèement', 'complèt', 'complèteent', 'complètement', 'complètementair', 'compléentair', 'complément', 'complémentair', 'complétait', 'complétement', 'compléter', 'complété', 'comport', 'comportait', 'comportement', 'comporté', 'composit', 'comprehens', 'comprehent', 'comprehsé', 'compren', 'comprenai', 'comprenait', 'comprend', 'comprendr', 'comprenez', 'comprenhens', 'comprenn', 'compri', 'compris', 'compromi', 'comprã', 'compréensif', 'compréent', 'compréhens', 'compréhensible', 'compréhensif', 'compréhension', 'compt', 'compta', 'comptabilis', 'comptabilisé', 'comptabilit', 'comptabilité', 'comptabl', 'comptag', 'comptai', 'comptaient', 'comptait', 'comptant', 'compte', 'comptenc', 'comptent', 'compter', 'compteur', 'comptez', 'comption', 'comptz', 'compté', 'compã', 'compètent', 'compétanc', 'compétant', 'compétenc', 'compétence', 'compétent', 'compétit', 'compétitif', 'comseiller', 'comt', 'comtact', 'comtaptibilit', 'comte', 'comtoir', 'comun', 'cométenc', 'con', 'conaiss', 'conait', 'concarneau', 'conceder', 'concen', 'concentr', 'concept', 'concern', 'concernai', 'concernait', 'concerne', 'concernee', 'concerné', 'concert', 'concerté', 'conceré', 'conchil', 'concider', 'concis', 'conclu', 'concluant', 'concluent', 'conclur', 'conclurai', 'conclus', 'concomit', 'concord', 'concordait', 'concordant', 'concour', 'concret', 'concrèt', 'concrètement', 'concrétis', 'concrétisera', 'concrétisé', 'conctact', 'concur', 'concurr', 'concurrent', 'concurrentiel', 'concèderez', 'condamn', 'condescend', 'condescendant', 'condictionneur', 'condidat', 'condidatur', 'condit', 'conditionn', 'condren', 'conduceur', 'conducteur', 'conductric', 'conduir', 'conduis', 'conduit', 'conecenss', 'coness', 'confanc', 'confi', 'confiac', 'confianc', 'confiant', 'confid', 'confidentialité', 'confidentiel', 'confie', 'confienc', 'confient', 'confier', 'confierai', 'confin', 'confinc', 'confirm', 'confirmé', 'confié', 'conflictuel', 'conflit', 'confluenc', 'confond', 'confondr', 'confondu', 'conforama', 'conform', 'conformité', 'conformé', 'confort', 'confront', 'confronté', 'confrèr', 'confu', 'confus', 'conférenc', 'confîanc', 'cong', 'congr', 'congrè', 'congã', 'congé', 'congédié', 'congés', 'congésont', 'conianc', 'conjoint', 'conjonctur', 'conjugal', 'connai', 'connaiss', 'connaissai', 'connaissait', 'connaissan', 'connaissentpa', 'connaissez', 'connaissiez', 'connait', 'connaitr', 'connaitra', 'connaitre', 'connaitron', 'connard', 'connass', 'connaî', 'connaît', 'connaîtr', 'connect', 'connecté', 'connetr', 'connexion', 'conni', 'connot', 'connu', 'conpet', 'conpétant', 'conqu', 'conquér', 'conrat', 'conrecoup', 'conrepont', 'conrespond', 'consacr', 'consacrait', 'consacré', 'conscienc', 'consciencieus', 'consciencieux', 'conscient', 'conseil', 'conseilier', 'conseill', 'conseiller', 'conseillerai', 'conseilleré', 'conseillez', 'conseilli', 'conseillèr', 'conseillère', 'conseillères', 'conseillé', 'conseillér', 'conseilé', 'consensuel', 'consent', 'consequ', 'consern', 'conserv', 'conservé', 'considair', 'consider', 'consideré', 'considèr', 'considér', 'considérabl', 'considéraion', 'considéré', 'consielli', 'consiencieus', 'consign', 'consil', 'consilleur', 'consilliant', 'consist', 'consistait', 'consièr', 'consltant', 'consmmat', 'consodér', 'consol', 'consomm', 'consommé', 'constabl', 'constam', 'constanc', 'constant', 'constat', 'constaté', 'constellium', 'consterné', 'constitu', 'constituet', 'constitut', 'construct', 'constructif', 'construir', 'construit', 'consult', 'consultan', 'consultant', 'consulté', 'consécut', 'consécutif', 'consécutiv', 'conséiler', 'conséquenc', 'conséquent', 'cont', 'contac', 'contact', 'contactai', 'contactait', 'contactera', 'contacterai', 'contactet', 'contactez', 'contactr', 'contacté', 'contain', 'containt', 'contamin', 'contan', 'contant', 'contat', 'contcterai', 'contein', 'contencieux', 'content', 'contentieux', 'contenté', 'contenu', 'contest', 'contesté', 'context', 'contfavi', 'continental', 'continu', 'continuai', 'continuait', 'continuel', 'continuera', 'continuerai', 'continuez', 'continuit', 'continuité', 'continur', 'continué', 'contionn', 'contr', 'contra', 'contract', 'contractuel', 'contracté', 'contradict', 'contradictoir', 'contraign', 'contraignant', 'contraini', 'contraint', 'contrair', 'contrari', 'contrario', 'contrarié', 'contrat', 'contratpérenn', 'contrats', 'contratservic', 'contredir', 'contredis', 'contremaitr', 'contremaîtr', 'contreparti', 'contrer', 'contribu', 'contribut', 'contribué', 'control', 'controleur', 'controleus', 'contrt', 'contrât', 'contrôl', 'contrôler', 'contrôleur', 'contrôlé', 'contuni', 'conté', 'contôler', 'conu', 'conurr', 'convaincr', 'convaincu', 'convalesc', 'conven', 'convenab', 'convenabl', 'convenai', 'convenait', 'convenez', 'convenir', 'convenon', 'convent', 'conventionnel', 'conventionné', 'convenu', 'convers', 'conversationavec', 'convet', 'convial', 'convien', 'conviendrez', 'convienn', 'convient', 'convier', 'convivi', 'convivial', 'convivialité', 'convié', 'convoat', 'convoc', 'convoité', 'convoqu', 'convoquez', 'convoqué', 'convoy', 'convoyag', 'convoyeur', 'conçoi', 'conçoit', 'coodonné', 'cool', 'coop', 'cooper', 'coopã', 'coopér', 'coopérat', 'coopératif', 'coopéré', 'coordin', 'coordinateur', 'coordonne', 'coordonnã', 'coordonné', 'coorespond', 'copain', 'copass', 'copi', 'copier', 'copin', 'copinag', 'copié', 'coprendr', 'coq', 'coquerel', 'corali', 'corbeil', 'cord', 'cordal', 'cordeli', 'cordial', 'cordialement', 'cordialemet', 'cordialemnt', 'cordialité', 'cordiaux', 'cordonné', 'corect', 'corespond', 'corespondr', 'corespons', 'coresspond', 'corinn', 'corner', 'cornig', 'corp', 'corporel', 'correcpondant', 'correct', 'corrects', 'correspdr', 'correspnd', 'correspodait', 'corresponant', 'correspond', 'correspondai', 'correspondait', 'correspondant', 'correspondnt', 'correspondr', 'correspondrait', 'corrig', 'corrigé', 'corrspond', 'corrèz', 'corrélat', 'cors', 'cortina', 'cose', 'coseil', 'cosmetiqu', 'cosmopolit', 'cosmétiqu', 'cosn', 'cosson', 'costaterai', 'costé', 'cota', 'cotat', 'cote', 'coteaux', 'coter', 'cotis', 'cottag', 'cotteret', 'cotterêt', 'coté', 'cou', 'couac', 'couchent', 'coud', 'coudray', 'couill', 'couinement', 'coul', 'couleur', 'couloir', 'coulommi', 'coup', 'coupabl', 'couper', 'coupj', 'coupl', 'coupur', 'coupures', 'coupé', 'cour', 'courag', 'courageus', 'courageux', 'couram', 'courant', 'courantes', 'courbi', 'courcourronn', 'courent', 'courier', 'courir', 'couronn', 'courrait', 'courrant', 'courriel', 'courrier', 'courrir', 'cours', 'coursd', 'coursier', 'court', 'courtaboeuf', 'courtai', 'courtenay', 'courtin', 'courtoi', 'courtois', 'courtoisi', 'courvoisi', 'cousin', 'cout', 'coutant', 'couter', 'couteux', 'coutier', 'coutoisi', 'couté', 'couvercl', 'couvert', 'couvertur', 'couvrant', 'couvrir', 'covoiturag', 'coyard', 'coïncid', 'coïncidé', 'coût', 'coûtait', 'coûter', 'coûtera', 'coûteus', 'coûté', 'cp', 'cpam', 'cpf', 'cph', 'cpi', 'cqfd', 'cqp', 'cqpi', 'cqpm', 'cquérir', 'cr', 'cracher', 'craint', 'cramayel', 'cramp', 'cran', 'craquer', 'craqué', 'crash', 'crdialement', 'creation', 'crech', 'credit', 'creer', 'crehen', 'creil', 'crespin', 'creus', 'creusent', 'creusot', 'creust', 'creuzet', 'criait', 'crier', 'crime', 'crise', 'cristalleri', 'cristin', 'crit', 'critic', 'critiqu', 'critiqueur', 'critiqué', 'critèr', 'critér', 'criée', 'crma', 'croi', 'croiant', 'croient', 'croir', 'croirequ', 'crois', 'croisait', 'croiser', 'croisiérist', 'croisé', 'croit', 'croitsupérieur', 'croix', 'croll', 'crout', 'croyai', 'croyaient', 'croyait', 'croyant', 'croyez', 'croût', 'crrespondant', 'cru', 'crudett', 'crue', 'cruel', 'cruell', 'cruellement', 'crèmeri', 'crève', 'créanc', 'créant', 'création', 'créativité', 'crédibilité', 'crédibl', 'crédit', 'crée', 'créer', 'créneau', 'créon', 'créteil', 'créé', 'cs', 'csc', 'csi', 'csp', 'ctr', 'ctt', 'cu', 'cualit', 'cuantit', 'cucq', 'cuesta', 'cuiller', 'cuisant', 'cuiseri', 'cuisin', 'cuisine', 'cuisini', 'cuisinièr', 'cuisiné', 'cul', 'culinair', 'culot', 'culoté', 'culpabilité', 'culpabilsé', 'cultur', 'culturel', 'cumul', 'cumulai', 'cumulé', 'cune', 'cupé', 'cur', 'curent', 'curiosité', 'curité', 'current', 'curriculum', 'currier', 'cursu', 'curt', 'curzay', 'cuter', 'cutter', 'cuve', 'cv', 'cvjamai', 'cvxsddq', 'cybard', 'cycl', 'cyclecircadien', 'cyndi', 'cynthia', 'cyr', 'cyrillu', 'cèze', 'cécile', 'cécilia', 'cédric', 'célia', 'célibatair', 'céline', 'céréalier', 'cétait', 'côme', 'côte', 'côtoie', 'côté', 'cĺlegu', 'cœur', 'da', 'dabor', 'daccid', 'dadecco', 'daffilè', 'dagenc', 'dager', 'daher', 'daign', 'daigner', 'daigné', 'dal', 'dalein', 'dalkia', 'dall', 'dalmasso', 'dam', 'dame', 'damien', 'dan', 'danc', 'danger', 'dangereus', 'dangereux', 'dangerfinancièr', 'daniel', 'danièl', 'danon', 'dansl', 'dant', 'dappel', 'dapr', 'dargent', 'darti', 'dasri', 'dassaut', 'dastreint', 'dat', 'data', 'datant', 'date', 'daterai', 'dattent', 'daugment', 'daumesnil', 'daunat', 'dautr', 'daval', 'davantag', 'davi', 'david', 'davigel', 'davoir', 'dax', 'dc', 'dcemandé', 'dd', 'de', 'deait', 'deand', 'deandé', 'deauvil', 'debardonnèch', 'debauch', 'debionn', 'debloqu', 'debouch', 'debout', 'debrief', 'debrouil', 'debut', 'debuton', 'deca', 'decalag', 'decasi', 'decathlon', 'decaux', 'decco', 'dece', 'decelle', 'decembr', 'decent', 'decet', 'decev', 'decharg', 'dechiffr', 'decid', 'decidé', 'decis', 'declar', 'declientèl', 'decolong', 'decompt', 'deconnaiss', 'deconsidér', 'decontact', 'decontrat', 'decouragé', 'decouvert', 'decouvrai', 'decouvrir', 'decroch', 'decu', 'dedaigneus', 'dedan', 'dedans', 'dedui', 'dee', 'default', 'defaveur', 'defendr', 'defendu', 'defini', 'definit', 'degeula', 'degout', 'degoute', 'degouté', 'degret', 'degré', 'degueulass', 'dehor', 'deja', 'dejaplu', 'dekra', 'del', 'dela', 'delag', 'delai', 'delain', 'delaiss', 'delat', 'delaunay', 'delavault', 'delegue', 'delesal', 'deleur', 'delphin', 'delplac', 'delport', 'delà', 'dema', 'demad', 'demadeur', 'demain', 'demand', 'demanda', 'demandai', 'demandait', 'demande', 'demanderai', 'demanderess', 'demandeur', 'demandeus', 'demandeven', 'demandez', 'demandion', 'demandon', 'demandr', 'demandã', 'demandé', 'demandė', 'demanqu', 'demarch', 'demarqu', 'demarrag', 'deme', 'demenag', 'demenagé', 'demend', 'demenuiseri', 'demeur', 'demeuré', 'demey', 'demi', 'demie', 'demissionn', 'demissionné', 'demmarag', 'demnd', 'demoisel', 'demotiv', 'demployé', 'demuni', 'deni', 'denou', 'denouveau', 'dens', 'dent', 'dentair', 'dentretien', 'dep', 'depann', 'depant', 'depart', 'depass', 'depend', 'dephi', 'depi', 'depilepsi', 'deplac', 'deplacemen', 'deplacements', 'deplacé', 'deplu', 'depos', 'deposé', 'depot', 'deprsonnel', 'deptouil', 'depu', 'depui', 'depuid', 'depuis', 'depuit', 'deq', 'derang', 'derat', 'derectric', 'derichebourg', 'derichourg', 'derisoir', 'derni', 'dernier', 'dernièr', 'dernièreminut', 'dernièren', 'derniér', 'dernoiern', 'deroul', 'deroulé', 'derreur', 'derrier', 'derrièr', 'desag', 'desagr', 'desagré', 'desalair', 'desamai', 'desastreus', 'desbordereaux', 'descend', 'descendr', 'descendu', 'descongé', 'descongéet', 'descript', 'descriptif', 'descrédit', 'deservi', 'desesper', 'desespér', 'desfontain', 'desherbag', 'desiderata', 'desintérimair', 'desir', 'desjardin', 'desmeilleur', 'desmiss', 'desmoin', 'desolé', 'desormai', 'desprofil', 'desrépons', 'dess', 'dessagn', 'dessin', 'dessinateur', 'dessinatric', 'dessou', 'dessu', 'dessuit', 'destin', 'destinatair', 'destiné', 'destitué', 'destr', 'desu', 'desuit', 'desécurité', 'deséquip', 'det', 'detaché', 'detail', 'detaillé', 'detect', 'detou', 'detr', 'detravail', 'deug', 'deui', 'deutsh', 'deux', 'deuxiem', 'deuxièm', 'deuxièmemnt', 'devai', 'devaient', 'devait', 'devalorisant', 'devant', 'devatag', 'develloppai', 'developp', 'developé', 'devenir', 'devenu', 'devez', 'devi', 'devien', 'devienn', 'devient', 'devin', 'deviné', 'devion', 'devis', 'devoi', 'devoir', 'devon', 'devou', 'devra', 'devrai', 'devraient', 'devrais', 'devrait', 'devrez', 'devriez', 'devrion', 'dex', 'dexperi', 'dexpliqu', 'deçu', 'deçà', 'dhaussi', 'dherni', 'dheur', 'di', 'dia', 'diabl', 'diabétiqu', 'diallo', 'dialogu', 'dialoguem', 'dialoguez', 'diangou', 'diaz', 'dic', 'dical', 'dicat', 'dict', 'dicté', 'did', 'didier', 'die', 'diepp', 'diers', 'dies', 'dieu', 'dieuzi', 'dif', 'diferent', 'diff', 'diffculté', 'differ', 'differents', 'difficil', 'difficult', 'difficulte', 'difficulté', 'diffus', 'diffèrent', 'difféent', 'différem', 'différemment', 'différenc', 'différenci', 'différend', 'différent', 'différenti', 'différet', 'différé', 'diférent', 'digit', 'dign', 'digoin', 'dijon', 'dilemm', 'dilig', 'dimanch', 'dimens', 'diminu', 'diminuait', 'diminut', 'diminué', 'dimitri', 'dinan', 'dinfo', 'dingu', 'dinstitut', 'dinterim', 'dinterimair', 'dintéress', 'diplom', 'diplomant', 'diplomati', 'diplome', 'diplô', 'diplôm', 'diplômant', 'diplômat', 'diplôme', 'diplômer', 'diplômé', 'dipon', 'dipsensé', 'dir', 'dirai', 'diraient', 'dirait', 'dirction', 'dire', 'direct', 'directemet', 'directeur', 'directif', 'directri', 'directric', 'diresi', 'direz', 'dirickx', 'dirig', 'dirigeait', 'dirigeant', 'dirigé', 'dis', 'disai', 'disaient', 'disait', 'disan', 'disant', 'disantqu', 'disat', 'discal', 'disciplin', 'disciplinair', 'discontinu', 'discount', 'discour', 'discredit', 'discrimim', 'discrimin', 'discriminatoir', 'discrimini', 'discript', 'discrédit', 'discrétion', 'discuss', 'discut', 'discutera', 'discuté', 'dise', 'disent', 'disett', 'disez', 'diseà', 'disfonctionn', 'disney', 'disneyland', 'dison', 'disparit', 'disparu', 'dispatch', 'dispens', 'dispené', 'dispeo', 'dispo', 'dispon', 'disponbilité', 'disponibiité', 'disponibilit', 'disponibilite', 'disponibilitã', 'disponibilité', 'disponibilté', 'disponibilã', 'disponiblité', 'disponipl', 'disponn', 'disponnibilté', 'dispos', 'disposez', 'disposit', 'dispositif', 'disposnibilit', 'disposã', 'disposé', 'dispot', 'disput', 'disputé', 'dispônibl', 'dissimul', 'dissimulé', 'dissip', 'dissoci', 'dissou', 'dissuad', 'distanc', 'distant', 'distibue', 'distinct', 'distingué', 'distinguéesmerci', 'distribu', 'distribut', 'distributeur', 'distribué', 'districent', 'distrisud', 'dit', 'dite', 'diver', 'diverg', 'divers', 'diversif', 'diversifi', 'diversifié', 'diversii', 'diversit', 'diversité', 'divertiss', 'divis', 'divorc', 'divulgué', 'dix', 'dixain', 'dixit', 'dizain', 'dizier', 'dié', 'djahid', 'dl', 'dmandé', 'dn', 'dnc', 'dnne', 'dnun', 'do', 'doc', 'docapost', 'docteur', 'document', 'documentair', 'dodin', 'doffr', 'doi', 'doigt', 'doit', 'doiv', 'doivent', 'dole', 'doléanc', 'domag', 'domain', 'domained', 'doman', 'domicil', 'domicile', 'domin', 'dominiqu', 'domiti', 'domlag', 'dommag', 'dommageablepour', 'don', 'donc', 'doncon', 'doncvoir', 'donent', 'doner', 'donia', 'donn', 'donna', 'donnai', 'donnaient', 'donnait', 'donnant', 'donne', 'donnees', 'donnela', 'donnent', 'donner', 'donnera', 'donnerai', 'donnet', 'donneur', 'donnez', 'donnn', 'donnon', 'donné', 'donnéun', 'dont', 'doné', 'doodl', 'dore', 'dormai', 'dormi', 'dormir', 'dornach', 'dorénav', 'dosier', 'dosser', 'dossier', 'dotat', 'dote', 'dotr', 'dou', 'douai', 'doubl', 'doublement', 'doublon', 'douc', 'doudoun', 'dougla', 'doul', 'douleur', 'douloureux', 'dourdan', 'dourg', 'dout', 'doutent', 'douteus', 'douteux', 'douté', 'doux', 'douz', 'douzain', 'doybl', 'dpd', 'dpi', 'dpui', 'dr', 'dragon', 'draguignan', 'dramatiqu', 'drame', 'dranci', 'dreux', 'drh', 'drive', 'drnier', 'drogu', 'droit', 'droità', 'drée', 'drôle', 'drôme', 'ds', 'dsant', 'dsl', 'dstout', 'dt', 'dtf', 'duc', 'ducamion', 'duchet', 'ducoup', 'ducrocq', 'due', 'duent', 'dumatin', 'dumoulin', 'dumétier', 'dun', 'dune', 'dunkerqu', 'dunkerquoi', 'dupersonnel', 'duplicata', 'dupont', 'duprat', 'dupuy', 'duquel', 'dur', 'dura', 'durabl', 'duraient', 'durait', 'duran', 'durani', 'durant', 'dure', 'durement', 'durent', 'durer', 'durera', 'dureé', 'duré', 'durée', 'duréquatr', 'durė', 'dusineur', 'dusoli', 'dut', 'dutravail', 'duuel', 'dux', 'dv', 'dvait', 'dvers', 'dympa', 'dynamiqu', 'dynamiques', 'dynamism', 'dysfonctinn', 'dysfonctionn', 'dz', 'dzn', 'dâ', 'dâte', 'dã', 'dè', 'dèja', 'dé', 'déarch', 'déb', 'débarras', 'débarrasez', 'débarrassag', 'débattr', 'débaucher', 'débile', 'débit', 'débité', 'déblocag', 'débloquer', 'débloqué', 'déboir', 'débordement', 'débordé', 'débouch', 'débouchant', 'déboucher', 'débouchera', 'débouché', 'débourserd', 'débrief', 'débrouill', 'débrouillant', 'débrouiller', 'débrouillez', 'débrouillé', 'début', 'débuta', 'débutait', 'débutant', 'débute', 'débuter', 'débuterait', 'débuté', 'déc', 'décaden', 'décalag', 'décaler', 'décallag', 'décalé', 'décathlon', 'déceler', 'décembr', 'décenc', 'décent', 'décentralisé', 'déception', 'décevant', 'décevez', 'décevoir', 'décharg', 'déchargement', 'déchargent', 'décharger', 'déchet', 'déchiré', 'décide', 'décider', 'décidé', 'décines', 'décisin', 'décision', 'décié', 'déclarait', 'déclarant', 'déclarat', 'déclare', 'déclarer', 'déclartion', 'déclaré', 'déclencher', 'déclenché', 'décliner', 'décliné', 'déco', 'décommandé', 'décompt', 'décompter', 'décompté', 'déconcertant', 'déconnecté', 'déconseil', 'déconseillerai', 'déconseillé', 'déconvenu', 'décorateur', 'découl', 'découp', 'découpé', 'décourag', 'décourageant', 'découvert', 'découvr', 'découvri', 'découvrir', 'décrire', 'décrit', 'décrite', 'décrivent', 'décroch', 'décrochag', 'décrocher', 'décrocherai', 'décroché', 'décu', 'décue', 'décut', 'décè', 'décédé', 'décéption', 'dédain', 'dédié', 'dédiée', 'dédommag', 'dédommagé', 'dédouaner', 'dédui', 'déduit', 'défaillant', 'défair', 'défaut', 'défaveur', 'défavor', 'défection', 'défectueus', 'défectueux', 'défend', 'défendant', 'défendent', 'défendr', 'défendu', 'défens', 'défiant', 'déficient', 'défiler', 'défilé', 'défini', 'définir', 'définissait', 'définit', 'définitif', 'définitiv', 'définitive', 'défoi', 'défraiement', 'dégage', 'dégagent', 'dégager', 'dégouté', 'dégoût', 'dégoûtent', 'dégoûter', 'dégoûté', 'dégradant', 'dégradat', 'dégrade', 'dégradent', 'dégrader', 'dégradé', 'dégressif', 'dégueulass', 'déguster', 'dégât', 'dégénère', 'dégénéré', 'déj', 'déja', 'déjeuner', 'déjà', 'déjàpayé', 'délai', 'délaissement', 'délaissé', 'délibéré', 'délicat', 'délifranc', 'délit', 'délivrer', 'délivré', 'déloyal', 'délégation', 'déléguait', 'déléguer', 'délégué', 'déléguée', 'délétère', 'démarch', 'démarchag', 'démarcher', 'démarché', 'démarquer', 'démarr', 'démarrag', 'démarrai', 'démarrait', 'démarrant', 'démarrer', 'démarré', 'dématérialis', 'dématérialisé', 'dématérialié', 'dématérilisé', 'démentir', 'démené', 'démerder', 'démerdez', 'démi', 'démission', 'démissionn', 'démissionnair', 'démissionnait', 'démissionné', 'démolit', 'démonstrat', 'démontag', 'démontr', 'démontrer', 'démonté', 'démoralis', 'démoralisé', 'démotiv', 'démotivé', 'démuni', 'démène', 'démènent', 'déménage', 'déménageai', 'déménagement', 'déménagementqu', 'déménager', 'déménageur', 'déménagé', 'démêlé', 'déni', 'dénicher', 'dénichr', 'dénigrant', 'dénigrement', 'dénigrent', 'dénigrer', 'dénonc', 'dénonciat', 'dénoncé', 'dénonçant', 'dénonçé', 'dénote', 'dépann', 'dépannag', 'dépanner', 'dépanneur', 'départ', 'département', 'dépassaient', 'dépassait', 'dépassement', 'dépasser', 'dépassé', 'dépend', 'dépendaient', 'dépendait', 'dépendant', 'dépendent', 'dépendez', 'dépendr', 'dépendu', 'dépens', 'dépenser', 'déphasé', 'dépit', 'dépité', 'déplac', 'déplace', 'déplaceent', 'déplacement', 'déplacent', 'déplacer', 'déplacez', 'déplacment', 'déplacé', 'déplaer', 'déplais', 'déplaisant', 'déplaît', 'dépliant', 'déplorabl', 'déplorablej', 'déplore', 'déplorer', 'déployé', 'déplu', 'dépochag', 'dépose', 'déposer', 'déposé', 'dépot', 'dépoter', 'dépourvu', 'dépression', 'déprimant', 'dépêcher', 'dépôt', 'dérang', 'dérangeai', 'déranger', 'dérangez', 'dérangé', 'dérespecté', 'dérisoir', 'dérogat', 'déroul', 'déroulaient', 'déroulant', 'déroule', 'déroulement', 'dérouler', 'déroulé', 'déroutant', 'désaccord', 'désagr', 'désagreabl', 'désagréabl', 'désagrément', 'désapprouv', 'désastr', 'désastreus', 'désastreux', 'désavantag', 'désempaé', 'désengagé', 'désert', 'désespérant', 'désespérémen', 'désespérément', 'déshabillag', 'déshumanisé', 'désinform', 'désinscrir', 'désintéress', 'désir', 'désirai', 'désire', 'désirer', 'désiré', 'désist', 'désistement', 'désistent', 'désisté', 'désobligeant', 'désole', 'désoler', 'désolidaris', 'désolé', 'désoléd', 'désorganisé', 'désormai', 'déstabilis', 'détachement', 'détaché', 'détail', 'détailler', 'détaillé', 'détectant', 'détend', 'détent', 'détenteur', 'détenu', 'détermin', 'déterminé', 'détest', 'détestabl', 'détesté', 'détournement', 'détress', 'détriment', 'détritu', 'détruit', 'détériorat', 'détérioré', 'déut', 'dévaloris', 'dévalorisé', 'développ', 'développé', 'déverrouil', 'dévoilerai', 'dévouement', 'dévouent', 'dévoué', 'déçoi', 'déçu', 'déçue', 'dú', 'dû', 'dûe', 'dûreté', 'dût', 'eait', 'eau', 'eaux', 'ebauché', 'ebavur', 'ebou', 'ec', 'eca', 'ecalculé', 'ecco', 'ecf', 'echaf', 'echaffodag', 'echang', 'echangion', 'echeanc', 'echeant', 'echec', 'echelon', 'echirol', 'eclatec', 'eco', 'ecol', 'ecolab', 'ecologi', 'economis', 'ecouer', 'ecout', 'ecoute', 'ecouté', 'ecrir', 'ecrit', 'ect', 'ecusé', 'eddi', 'ede', 'edehc', 'edf', 'edi', 'edit', 'edr', 'edt', 'eerc', 'ef', 'efecacité', 'efectuai', 'effacé', 'effag', 'effecicacité', 'effect', 'effectif', 'effectiv', 'effectu', 'effectuai', 'effectue', 'effectuera', 'effectuez', 'effectuè', 'effectué', 'effectuė', 'effet', 'efffectu', 'effica', 'efficac', 'efficacit', 'efficacitã', 'efficacité', 'efficaité', 'efficass', 'effici', 'efficient', 'effigi', 'efforc', 'efforcé', 'effort', 'efféctué', 'eficac', 'eficacité', 'egal', 'egalit', 'egenc', 'ego', 'egrett', 'eh', 'ei', 'eiffag', 'eiffel', 'el', 'ela', 'elargir', 'elbeuf', 'ele', 'elec', 'elect', 'electricien', 'electricité', 'electro', 'electroniqu', 'electropoli', 'electrotech', 'eleec', 'element', 'elementair', 'elevatric', 'elfi', 'elior', 'elis', 'elisabeth', 'elivia', 'elk', 'ell', 'ellel', 'ellesign', 'elleva', 'elll', 'elodi', 'elog', 'elogi', 'eloigne', 'eloior', 'els', 'em', 'emai', 'email', 'emain', 'emal', 'embal', 'emballag', 'emballage', 'embarra', 'embauch', 'embauchai', 'embauchait', 'embauche', 'embauchez', 'embauché', 'embellir', 'embett', 'emblé', 'emboch', 'emboitag', 'embrass', 'embrouillai', 'embêtant', 'embêter', 'eme', 'emili', 'emiss', 'emloi', 'emloyeurvdeclar', 'emmabl', 'emmagasin', 'emmanuel', 'emmen', 'emmené', 'emmerdait', 'emof', 'emp', 'empathi', 'empathiqu', 'empech', 'emphatiqu', 'empir', 'emplac', 'emploi', 'emploier', 'employ', 'employabilité', 'employait', 'employe', 'employeur', 'employez', 'employè', 'employé', 'empoyeur', 'emprein', 'empris', 'empéch', 'empêch', 'empêchaient', 'empêchait', 'empêchant', 'empêchement', 'empêcher', 'empêché', 'emtrepris', 'emédier', 'en', 'enag', 'enait', 'enattent', 'enbauch', 'enbianc', 'enbouteillag', 'encadr', 'encadré', 'encaiss', 'encaissé', 'enceint', 'enchain', 'enchainent', 'enchainé', 'enchanté', 'enchaîn', 'enchaînai', 'enchaînmentr', 'enchaîné', 'enchen', 'encontr', 'encontron', 'encor', 'encort', 'encotr', 'encourag', 'encouragé', 'encourir', 'encr', 'encul', 'enculé', 'end', 'endel', 'endemain', 'endommagé', 'endor', 'endort', 'endr', 'endroit', 'endéplac', 'ene', 'enedi', 'energi', 'enerv', 'enervé', 'enetr', 'enfac', 'enfait', 'enfanc', 'enfant', 'enfin', 'enfinl', 'enfoncé', 'enfoutism', 'engaeait', 'engaement', 'engag', 'engagemnt', 'engagiez', 'engagèl', 'engagé', 'engendr', 'engendrait', 'engendré', 'engi', 'engin', 'englob', 'engraiss', 'enguag', 'engueul', 'enguirland', 'enimprimeri', 'enintérim', 'enjeu', 'enjeux', 'enjoignait', 'enjoué', 'enlev', 'enlevé', 'enlèv', 'enlèvent', 'enmar', 'enmenez', 'ennemi', 'ennuy', 'ennuyé', 'enor', 'enorm', 'enploi', 'enplu', 'enqu', 'enquet', 'enquêt', 'enquêteur', 'enquêtric', 'enqêt', 'enregistr', 'enregistré', 'enrepris', 'enretien', 'enrichant', 'enrichir', 'enrichiss', 'enrichissant', 'enrichissez', 'enseign', 'enseigne', 'enseigné', 'ensembl', 'ensuit', 'ensuitel', 'ent', 'entam', 'entamon', 'entant', 'entend', 'entendait', 'entendez', 'entendr', 'entendu', 'entent', 'entepris', 'enterimi', 'enterpris', 'enterr', 'entetet', 'enthousiasm', 'enthousiasmé', 'entich', 'entier', 'entité', 'entièr', 'entièreté', 'entorc', 'entors', 'entour', 'entourag', 'entourloup', 'entouré', 'entr', 'entrai', 'entraidait', 'entrain', 'entrait', 'entrav', 'entraîn', 'entraînait', 'entraîné', 'entre', 'entreien', 'entremont', 'entremri', 'entrent', 'entrepis', 'entreposag', 'entrepot', 'entrepr', 'entrepreneur', 'entrepri', 'entrepric', 'entrepris', 'entreprisd', 'entreprise', 'entrepriseen', 'entreprs', 'entrepôt', 'entrer', 'entrerpris', 'entretenir', 'entretenon', 'entretenu', 'entreti', 'entretien', 'entretienn', 'entrevoir', 'entrpris', 'entrrpris', 'entré', 'enuett', 'enumass', 'enumer', 'env', 'envahissant', 'envelopp', 'envenim', 'enver', 'envergur', 'envi', 'enviro', 'environ', 'environdeux', 'environn', 'environnemental', 'envisag', 'envisagé', 'envo', 'envoi', 'envoid', 'envoient', 'envoier', 'envoit', 'envoliez', 'envoy', 'envoyai', 'envoyait', 'envoyer', 'envoyez', 'envoyon', 'envoyr', 'envoyã', 'envoyé', 'envyer', 'envyé', 'epad', 'epanouir', 'epanouissai', 'epargn', 'epernay', 'epernon', 'epi', 'epin', 'eploi', 'eployeur', 'epo', 'epoqu', 'epous', 'eprend', 'epsi', 'epub', 'epuis', 'epuisant', 'equeur', 'equi', 'equip', 'equité', 'er', 'eragni', 'erc', 'erci', 'ere', 'ergonomi', 'ergothérapi', 'erhdfwh', 'eric', 'ernay', 'erné', 'ero', 'eronné', 'errer', 'erreu', 'erreur', 'erroné', 'ers', 'ersonn', 'ertain', 'ervic', 'esagn', 'esat', 'escabeaux', 'escabot', 'escal', 'escarpin', 'esch', 'escient', 'esclav', 'esclavag', 'esclavagist', 'escro', 'escroc', 'escrocqueri', 'escroqueri', 'escud', 'esenc', 'esit', 'esoin', 'espac', 'espacé', 'espagn', 'esper', 'esperr', 'espionnag', 'espoi', 'espoir', 'esprit', 'espèc', 'espèr', 'espèranc', 'espérai', 'espérait', 'espéranc', 'espérant', 'espérer', 'espéron', 'essa', 'essai', 'essay', 'essayai', 'essayait', 'essayez', 'essayé', 'essenc', 'essentiel', 'essentil', 'essey', 'essilor', 'esso', 'essonn', 'essuis', 'est', 'estaqu', 'estardi', 'estel', 'ester', 'esterra', 'estez', 'estheticienn', 'esthétiqu', 'estim', 'estimerai', 'estimé', 'estionnair', 'estival', 'estmalhonnêt', 'estoccupé', 'estomac', 'estpass', 'estplu', 'esttrè', 'estun', 'estvotr', 'estvtr', 'esy', 'esèr', 'esérer', 'eta', 'etabli', 'etabliss', 'etai', 'etaie', 'etaient', 'etait', 'etamp', 'etant', 'etat', 'etaucun', 'etavec', 'etbun', 'etc', 'etd', 'ete', 'etec', 'etendu', 'eter', 'etf', 'etienn', 'etion', 'etiquetté', 'etiqutté', 'etj', 'etm', 'etmm', 'etn', 'etp', 'etr', 'etrang', 'etrepagni', 'etrepris', 'etrier', 'ets', 'etserein', 'etsympathiqu', 'ett', 'etter', 'etud', 'etudi', 'etudiant', 'etzit', 'eté', 'etétabl', 'euh', 'euhm', 'eul', 'eur', 'eurali', 'eurea', 'eurenco', 'eurest', 'eurial', 'euro', 'europ', 'europcar', 'european', 'eurotunnel', 'eurovia', 'eussi', 'euthanasi', 'euuuuuh', 'evalu', 'evelyn', 'even', 'eventail', 'eventuel', 'evernex', 'everyth', 'evid', 'evidem', 'evit', 'eviterai', 'evitez', 'evntuel', 'evobu', 'evoi', 'evolu', 'evolut', 'evoyé', 'evreux', 'evri', 'evron', 'ex', 'exact', 'exactitud', 'exagèr', 'exagéré', 'examen', 'excact', 'exced', 'excel', 'excelent', 'excellent', 'excellé', 'excempl', 'except', 'exceptionnel', 'excepté', 'excess', 'excessif', 'exclu', 'exclus', 'exclusiv', 'exclusivité', 'excro', 'excser', 'excus', 'excusai', 'excusez', 'excusé', 'excè', 'excédait', 'excédant', 'excédent', 'exe', 'execr', 'exel', 'exellent', 'exemp', 'exempl', 'exemplair', 'exemple', 'exerc', 'exercic', 'exercé', 'exetera', 'exideuil', 'exig', 'exigeait', 'exigent', 'exiget', 'exigé', 'exist', 'existait', 'existerai', 'exliqu', 'exmpl', 'exonér', 'exonérés', 'exorbit', 'exp', 'experi', 'experienc', 'expert', 'expertis', 'expeti', 'expir', 'expl', 'explic', 'explicatif', 'explicit', 'explicité', 'explict', 'expliq', 'expliqc', 'expliqu', 'expliquai', 'expliquarion', 'expliquatif', 'explique', 'expliquer', 'expliquez', 'expliqué', 'expliqé', 'exploit', 'exploitez', 'exploits', 'exploité', 'explos', 'explot', 'expluc', 'expo', 'export', 'expos', 'exposé', 'expr', 'express', 'expressé', 'exprienc', 'exprim', 'exprimé', 'exprè', 'expã', 'expèrienc', 'expé', 'expédi', 'expédiait', 'expédit', 'expéditeur', 'expéditif', 'expérianc', 'expérien', 'expérienc', 'expériencc', 'expériment', 'expérimenté', 'ext', 'extern', 'extincteur', 'extra', 'extrair', 'extrait', 'extranet', 'extraordinair', 'extrem', 'extrémement', 'extrêm', 'extrêmement', 'extérieur', 'exuperi', 'exécrabl', 'exécut', 'exécuté', 'exéllent', 'exérienc', 'eń', 'fabien', 'fabienn', 'fabr', 'fabric', 'fabriqu', 'fabriqué', 'fac', 'facadi', 'face', 'facebook', 'facett', 'facil', 'facilemet', 'facilit', 'facilité', 'faciè', 'fackeur', 'facom', 'facon', 'facteur', 'facto', 'factric', 'factu', 'factur', 'facturation', 'facturationdu', 'facturé', 'factutr', 'faculté', 'fadwa', 'faftt', 'fai', 'faiai', 'faibl', 'faibless', 'faigant', 'faill', 'failli', 'faillit', 'faim', 'fainéant', 'fair', 'fairedan', 'faisabl', 'faisai', 'faisaient', 'faisait', 'faisan', 'faisant', 'faison', 'faissai', 'fait', 'falais', 'falait', 'fallai', 'fallait', 'fallavi', 'faller', 'fallu', 'fallut', 'falsifi', 'faluu', 'fameus', 'fameux', 'famil', 'famili', 'familial', 'familiarité', 'familièr', 'famille', 'famillial', 'famueux', 'fanni', 'fant', 'fantastiqu', 'fantôm', 'faorabl', 'faraud', 'fare', 'fareva', 'farfelu', 'farmor', 'farraud', 'fasait', 'fass', 'fast', 'fastidieus', 'fastidieux', 'fastt', 'fate', 'fatigu', 'fatigué', 'fatiha', 'fatima', 'fatiqu', 'fatt', 'fatur', 'faté', 'fau', 'fauconni', 'faudra', 'faudrai', 'faudrait', 'faudraut', 'fauquet', 'faurecia', 'fauss', 'faussement', 'faussessssss', 'faussé', 'faut', 'fautattendr', 'fauteuil', 'fautif', 'fautiv', 'fautjust', 'fauté', 'fauvel', 'fauverney', 'faux', 'faveur', 'favor', 'favorabl', 'favoris', 'favorisera', 'favoristism', 'favorisé', 'favoritism', 'favoritisme', 'favroux', 'fax', 'fay', 'fayat', 'fayet', 'faã', 'façad', 'façon', 'façonplu', 'faît', 'fco', 'fd', 'fecamp', 'fecult', 'fedex', 'feed', 'feedback', 'feedex', 'feeling', 'feignant', 'felicit', 'femm', 'femmeschez', 'fenêtr', 'fer', 'fera', 'ferai', 'feraient', 'ferait', 'ferer', 'feriez', 'ferié', 'ferm', 'fermer', 'fermetur', 'fermeté', 'fermé', 'fernand', 'fernando', 'feron', 'feront', 'ferrand', 'ferrant', 'ferrari', 'ferrec', 'fert', 'ferté', 'fesai', 'fesait', 'feson', 'fess', 'fessai', 'fessait', 'fessenheim', 'festiv', 'feuill', 'feuillatt', 'feull', 'feur', 'feux', 'fevrier', 'feyzin', 'ff', 'ffastt', 'ffre', 'fi', 'fiabilis', 'fiabilit', 'fiabilitã', 'fiabilité', 'fiabl', 'fiancièr', 'fiasco', 'fibr', 'fich', 'fichag', 'fiched', 'ficher', 'fichesssss', 'fichier', 'fichu', 'fidelis', 'fidã', 'fidèl', 'fidèlité', 'fidél', 'fidélis', 'fidélisé', 'fidélité', 'fier', 'fierté', 'figeac', 'figur', 'figurai', 'figuré', 'fil', 'file', 'filial', 'filièr', 'fill', 'fille', 'film', 'filteur', 'filtrag', 'filtrant', 'filtrat', 'filtré', 'fimo', 'fin', 'finaement', 'final', 'finalementpa', 'finalemet', 'finalis', 'finalisé', 'finalité', 'financ', 'financi', 'financier', 'financiers', 'financièr', 'financé', 'find', 'findu', 'fini', 'finie', 'finir', 'finiss', 'finissai', 'finissait', 'finisseur', 'finissez', 'finissit', 'finit', 'finl', 'finé', 'fir', 'fire', 'firmini', 'fism', 'fit', 'fite', 'fix', 'fixer', 'fixé', 'fièr', 'fièrement', 'fiér', 'flabeg', 'flabg', 'flagrant', 'flash', 'flavereau', 'flech', 'fler', 'fleur', 'fleuri', 'fleurimichon', 'fleurist', 'flexbilité', 'flexibilit', 'flexibilitã', 'flexibilité', 'flexibl', 'flier', 'flin', 'flip', 'fllait', 'floch', 'floor', 'florenc', 'florent', 'flott', 'flottement', 'flou', 'floue', 'fluctuaient', 'fluid', 'fluidité', 'fluo', 'flux', 'flyer', 'flèche', 'fléau', 'fm', 'fn', 'fnac', 'fnal', 'fnctionnement', 'fo', 'focalis', 'foi', 'foir', 'foire', 'fois', 'foix', 'folco', 'foll', 'fon', 'foncia', 'fonctdu', 'fonction', 'fonctionel', 'fonctionn', 'fonctionnair', 'fonctionnait', 'fonctionnel', 'fonctionnon', 'fonctionné', 'fond', 'fondat', 'fondateur', 'fonderi', 'fondé', 'fonjecif', 'font', 'fontain', 'fontenay', 'fontennay', 'foot', 'footbal', 'footballeur', 'forc', 'forcement', 'forcer', 'forcé', 'forcément', 'forecia', 'forez', 'forfait', 'forgé', 'form', 'formaion', 'formalité', 'formalog', 'formant', 'formapost', 'format', 'formateur', 'formation', 'formatric', 'formel', 'forment', 'former', 'formez', 'formid', 'formr', 'formul', 'formulair', 'formulé', 'formã', 'formé', 'fort', 'fortement', 'fortier', 'fortuit', 'forum', 'forçant', 'fossé', 'fou', 'foug', 'fouger', 'fougèr', 'fouil', 'fouill', 'fouilli', 'foul', 'foulon', 'foulé', 'fouquier', 'four', 'fourch', 'fourchett', 'fourmi', 'fourne', 'fourni', 'fournir', 'fourniss', 'fournissait', 'fournisseur', 'fournisseurs', 'fournissez', 'fournissiez', 'fournisson', 'fournit', 'fournitur', 'fournr', 'fourrier', 'fourré', 'fourvièr', 'fout', 'foutag', 'foutai', 'foutais', 'foutent', 'fouter', 'foutism', 'foutr', 'foutre', 'foutu', 'foyer', 'fr', 'frach', 'fractur', 'fragil', 'fragilis', 'frai', 'frais', 'fraiseur', 'franc', 'franca', 'francai', 'francais', 'france', 'franch', 'franchement', 'franchi', 'franchis', 'francia', 'francin', 'francis', 'francoi', 'francois', 'franqueville', 'franã', 'françai', 'français', 'françoi', 'françois', 'fraudait', 'frcément', 'freder', 'free', 'frein', 'freju', 'frequament', 'frequent', 'frere', 'freseniu', 'fressennevil', 'fressenvil', 'fret', 'fretin', 'fric', 'friedland', 'frigo', 'frigorist', 'frileus', 'frilosité', 'froid', 'froidement', 'froideur', 'froissé', 'fromag', 'fromageri', 'frond', 'front', 'frontalièr', 'fructueus', 'fructueux', 'fruit', 'frustrant', 'frustré', 'frère', 'frédéric', 'frédériqu', 'fréju', 'fréquemment', 'fréquenc', 'fréquent', 'fréquenter', 'fréquenté', 'frévent', 'ftth', 'fu', 'fue', 'fui', 'fuill', 'fuir', 'fument', 'fumer', 'fumeus', 'funèbr', 'funérair', 'fur', 'furi', 'fusion', 'fusionn', 'fute', 'futur', 'futuroscop', 'fux', 'fuyez', 'fwd', 'fybot', 'fâcher', 'fâcheux', 'fâché', 'fâchée', 'fécamp', 'félicit', 'félicité', 'félix', 'féminin', 'férerai', 'féri', 'férie', 'férié', 'fév', 'février', 'fête', 'gabari', 'gabarit', 'gad', 'gade', 'gaell', 'gage', 'gagn', 'gagnai', 'gagnaient', 'gagnant', 'gagner', 'gagnerai', 'gagné', 'gai', 'gaillard', 'gaillon', 'gain', 'gaind', 'gal', 'galec', 'galer', 'galeri', 'galett', 'galloi', 'galon', 'galva', 'galèr', 'gambetta', 'game', 'gamel', 'gamin', 'gamm', 'ganc', 'ganier', 'gant', 'gap', 'gar', 'garagist', 'garanc', 'garanot', 'garant', 'garanti', 'garantir', 'garantit', 'garch', 'garcin', 'gard', 'gardait', 'gardant', 'garde', 'gardent', 'garder', 'garderai', 'garderait', 'gardez', 'gardien', 'gardé', 'gare', 'garenn', 'garenti', 'garer', 'garg', 'gargaris', 'garni', 'garnier', 'garonn', 'gaross', 'garro', 'garçon', 'gasc', 'gaspart', 'gaspil', 'gastronom', 'gastronomiqu', 'gatd', 'gattulli', 'gauch', 'gauden', 'gaudi', 'gauguin', 'gaull', 'gay', 'gaz', 'gazel', 'gaël', 'gcpt', 'gdf', 'gdfhd', 'geant', 'gefco', 'gemain', 'gemalto', 'gemo', 'gen', 'genc', 'gendarm', 'gene', 'gener', 'general', 'generi', 'geneston', 'geni', 'genial', 'gennevilli', 'genoux', 'genr', 'genred', 'gent', 'gentil', 'gentilleau', 'gentilless', 'gentillesse', 'gentillss', 'gentiment', 'genvilli', 'geodi', 'geoffroy', 'geographi', 'geographique', 'geoir', 'georg', 'gerait', 'gerald', 'gere', 'gerer', 'gerflor', 'germainmont', 'gesssion', 'gest', 'gestio', 'gestion', 'gestionair', 'gestionn', 'gestionnair', 'gestonnair', 'getiless', 'getion', 'gevri', 'ghislain', 'ghm', 'gien', 'gifi', 'gilda', 'gilet', 'gill', 'gin', 'ginett', 'gional', 'girodot', 'girond', 'girouett', 'giscour', 'gisor', 'gispi', 'gitton', 'givor', 'gl', 'glace', 'glacer', 'glacial', 'glassolut', 'glaçag', 'glementair', 'glissaient', 'global', 'globaliserai', 'globalit', 'globalité', 'gloir', 'gm', 'gmail', 'gmmr', 'gnre', 'gntil', 'gobain', 'gobi', 'gogo', 'goin', 'goldew', 'golfech', 'gondecourt', 'gondrevil', 'goness', 'gonflé', 'gonti', 'gontier', 'gonzal', 'gorg', 'gorge', 'gorges', 'goudin', 'gourd', 'gourmand', 'gout', 'goutt', 'gouvern', 'goût', 'goûté', 'gra', 'grace', 'grade', 'grader', 'graifiant', 'grain', 'grand', 'grandchamp', 'grandement', 'grandeur', 'grang', 'granvil', 'grappil', 'grass', 'gratif', 'gratifi', 'gratuit', 'grav', 'grave', 'gravement', 'gravur', 'gray', 'grdf', 'greco', 'greff', 'grenier', 'grenobl', 'gretz', 'gri', 'grief', 'grill', 'grillad', 'griller', 'grimaud', 'gripp', 'grisé', 'gro', 'groder', 'gross', 'grossemachin', 'grossess', 'grossièr', 'grosso', 'grott', 'groue', 'group', 'groupama', 'groupé', 'grue', 'grutier', 'grâc', 'grâca', 'grâce', 'grève', 'gs', 'gsf', 'gsk', 'gsm', 'gt', 'gtp', 'gu', 'gucuko', 'gueri', 'guerin', 'gueul', 'gueulant', 'gueuler', 'gueull', 'guichet', 'guicheti', 'guichetier', 'guid', 'guider', 'guidé', 'guillaum', 'guillem', 'guilloux', 'guime', 'guingamp', 'guis', 'guisnel', 'gujan', 'gularis', 'gulier', 'guliã', 'guvisi', 'guyan', 'guynem', 'guèr', 'gwenaël', 'gwendal', 'gwenola', 'gâce', 'gâteau', 'gâteaux', 'gène', 'gère', 'gèré', 'géant', 'géer', 'génial', 'géniaux', 'génie', 'génère', 'génèrent', 'général', 'générale', 'généralement', 'généralist', 'généralité', 'génération', 'généraux', 'généreux', 'généré', 'géodi', 'géograhiqu', 'géographiqu', 'gérableet', 'gérai', 'géraient', 'gérait', 'géraitenviron', 'géraldin', 'gérant', 'gérent', 'gérer', 'gérez', 'géré', 'gérée', 'gérées', 'gênant', 'gêne', 'gêner', 'gêné', 'ha', 'habil', 'habilit', 'habillag', 'habillé', 'habit', 'habitai', 'habitait', 'habitat', 'habitu', 'habitud', 'habituel', 'habitué', 'haccp', 'hachett', 'hacun', 'had', 'haelvoet', 'hafner', 'haguenau', 'hain', 'haiter', 'hakim', 'hall', 'hallucin', 'halluin', 'hambach', 'hameaux', 'hamlin', 'hanch', 'handiapé', 'handicap', 'handicapé', 'handicapée', 'hangar', 'haouy', 'harbin', 'harcel', 'harcelai', 'harcelé', 'harcèl', 'harcèlement', 'harcèlementmor', 'harcèlent', 'harfleur', 'hargé', 'haribo', 'harmonis', 'harmonisez', 'harnai', 'hasard', 'hasparren', 'hat', 'hateau', 'haulott', 'hauss', 'haussmann', 'haussur', 'haut', 'hautain', 'hautainet', 'hautement', 'hauteu', 'hauteur', 'havr', 'hay', 'hazard', 'hazebrouck', 'he', 'hebdomadair', 'hebdomadaire', 'heberg', 'hecht', 'heillecourt', 'hein', 'heir', 'hela', 'helen', 'helin', 'help', 'hemeri', 'hemmer', 'henin', 'hennessi', 'henno', 'henri', 'hens', 'hepad', 'heppner', 'herbier', 'herblain', 'herbreteau', 'herculéenn', 'here', 'hereurr', 'hermitag', 'hermè', 'herni', 'herouvil', 'herquevil', 'hertz', 'herv', 'hervé', 'hesdin', 'hesit', 'hesitez', 'heue', 'heur', 'heure', 'heures', 'heuressur', 'heureuement', 'heureus', 'heureusemnt', 'heureux', 'heurr', 'heurtel', 'heurté', 'heuuu', 'hh', 'hi', 'hibon', 'hic', 'hidoin', 'hier', 'hill', 'hilti', 'hirson', 'histoir', 'historiqu', 'hiver', 'hiérarchi', 'hiérarchiqu', 'hm', 'hn', 'ho', 'hodi', 'holland', 'hom', 'homm', 'hommal', 'homogèn', 'homogénéis', 'homologué', 'homonym', 'honnait', 'honnet', 'honnete', 'honnetet', 'honneteté', 'honneté', 'honnoré', 'honnêt', 'honnêtement', 'honnêteté', 'honor', 'honorair', 'honoré', 'hont', 'honteus', 'honteux', 'hop', 'hopit', 'hor', 'horair', 'horar', 'horizon', 'horlogeri', 'hormi', 'horrair', 'horreur', 'horribl', 'hortipol', 'hospira', 'hospit', 'hospitali', 'hospitalis', 'hospitalisation', 'hospitalisé', 'hospitalièr', 'hostil', 'hote', 'hotel', 'hoteli', 'hotelier', 'hotess', 'hotesse', 'hotin', 'houdan', 'houivet', 'houss', 'hrair', 'hs', 'hse', 'ht', 'http', 'hu', 'hub', 'huet', 'hugon', 'hui', 'huij', 'huissier', 'huit', 'humain', 'humando', 'humanism', 'humanit', 'humanité', 'humeur', 'humili', 'humilit', 'humilité', 'humilié', 'humour', 'hure', 'hutain', 'hutchinson', 'hutchisson', 'hvv', 'hydro', 'hydrokit', 'hygien', 'hygiã', 'hygièn', 'hygién', 'hyper', 'hypermarché', 'hypocrisi', 'hypocrit', 'hypothès', 'hypr', 'hypra', 'hysiqu', 'hystériqu', 'hâte', 'hébergement', 'héla', 'hélene', 'hélèn', 'hélène', 'hémabilité', 'hérault', 'héric', 'hérouvil', 'hésitai', 'hésitait', 'hésitant', 'hésite', 'hésitent', 'hésiter', 'hésitera', 'hésiterai', 'hésitez', 'hésité', 'hôpital', 'hôte', 'hôtel', 'hôtelier', 'hôtelièr', 'hôtelleri', 'hôtess', 'iadmiss', 'iblé', 'ibtenir', 'ich', 'ici', 'icid', 'iconfort', 'id', 'ide', 'idem', 'identif', 'identifi', 'identiqu', 'identité', 'idf', 'idiot', 'idé', 'idéal', 'ien', 'iennent', 'ier', 'iet', 'ieux', 'ifm', 'ifo', 'igloo', 'ignobl', 'ignor', 'ignorai', 'ignorant', 'ignoré', 'igol', 'iii', 'ikea', 'ile', 'ilegal', 'ilfaudrait', 'ilfont', 'ili', 'illicit', 'illico', 'illis', 'illkirch', 'illogiqu', 'illus', 'illusoir', 'illégal', 'illégalité', 'illégaux', 'ilmon', 'iln', 'ilsm', 'imag', 'imagin', 'imaginez', 'imbu', 'imbuv', 'imbécil', 'imediat', 'imediateman', 'imeri', 'imform', 'immabl', 'immatricul', 'immedi', 'immediat', 'immens', 'immers', 'immess', 'immeubl', 'immigr', 'immobili', 'immobilis', 'immobilisé', 'immond', 'immédiat', 'immédiatement', 'imort', 'impact', 'impacté', 'imparti', 'impass', 'impay', 'impayé', 'impct', 'impec', 'impecc', 'impeccable', 'impens', 'impersonnel', 'implac', 'implant', 'implement', 'implic', 'impliqu', 'impliquã', 'impliqué', 'implor', 'impol', 'impoli', 'impolitess', 'import', 'importan', 'important', 'importanteset', 'importuné', 'impos', 'imposez', 'imposit', 'imposs', 'impossibilit', 'impossibilité', 'impossil', 'imposé', 'impreest', 'impress', 'impression', 'impressionné', 'imprim', 'imprimé', 'improb', 'improvist', 'imprécis', 'imprégner', 'imprévu', 'impssibl', 'impuissant', 'impulsif', 'impunité', 'imput', 'impécabl', 'impératif', 'impérativ', 'impétrant', 'impôt', 'imterim', 'imterimair', 'imtrim', 'in', 'inaccept', 'inachevé', 'inacio', 'inadapté', 'inademiss', 'inadhequ', 'inadmiss', 'inadmissib', 'inadéqu', 'inadéquat', 'inamiss', 'inanc', 'inaperçu', 'inapproprié', 'inaproprié', 'inapt', 'inattendu', 'inaud', 'inaugur', 'incap', 'incapacit', 'incapacité', 'inccomplet', 'incendi', 'incertain', 'incess', 'incessant', 'incid', 'inclu', 'inclus', 'incmpétenc', 'incohér', 'incomb', 'incombait', 'incompat', 'incompatibilité', 'incompet', 'incompetent', 'incomplet', 'incomplèt', 'incomprehens', 'incompri', 'incompréhens', 'incompréhensible', 'incompréhensio', 'incompét', 'incompétent', 'incompétnc', 'inconcev', 'inconfort', 'inconnu', 'inconsci', 'inconsidéré', 'inconst', 'incontest', 'inconveni', 'inconvéni', 'incorect', 'incorrect', 'incoér', 'incrit', 'incroy', 'inculqu', 'inde', 'indemnis', 'indemnisé', 'indemnité', 'indenda', 'indeterminé', 'indic', 'indiffer', 'indign', 'indigné', 'indiqu', 'indiquait', 'indiquã', 'indiqué', 'indirect', 'indiscret', 'indispens', 'indispon', 'indisponibilitã', 'indisponibilité', 'indisponn', 'indispossibilité', 'indistri', 'individu', 'individualisé', 'individuel', 'indr', 'indu', 'induir', 'induit', 'indulg', 'industri', 'industrie', 'industriel', 'indécent', 'indécnt', 'indémnit', 'indépend', 'indépendant', 'indéterminé', 'inefficac', 'ineo', 'inerim', 'inesistan', 'inexact', 'inexist', 'inexistant', 'inexplic', 'inexpliqué', 'inexpérimenté', 'infais', 'infect', 'infectio', 'infern', 'infini', 'infinite', 'infirmièr', 'inflamm', 'influence', 'infléchir', 'info', 'infographist', 'infom', 'infondé', 'infor', 'inform', 'informaticien', 'informatio', 'information', 'informations', 'informatiqu', 'informatis', 'informatisé', 'informatoin', 'informera', 'informã', 'informé', 'infoset', 'infract', 'infructueux', 'infus', 'inférieur', 'ingerop', 'ingersol', 'ingrat', 'ingénieur', 'inhabituel', 'inhumain', 'inintéress', 'inintéressant', 'initi', 'initial', 'inject', 'injoign', 'injoignable', 'injstifié', 'injurié', 'injus', 'injust', 'injustic', 'injustifié', 'innacept', 'innocenté', 'innombr', 'innondé', 'innothera', 'innov', 'innovant', 'inond', 'inopinã', 'inoubli', 'inox', 'inquiet', 'inquièt', 'inquiètud', 'inquiét', 'inquiétez', 'inquiétud', 'inquiété', 'inra', 'inrérim', 'insalubr', 'insatisfact', 'insatisfaisnt', 'insatisfait', 'insatnt', 'inscent', 'inscir', 'inscri', 'inscrinscrit', 'inscripion', 'inscript', 'inscription', 'inscripton', 'inscrir', 'inscrit', 'inscritpion', 'inscritpt', 'inscriv', 'inscrivez', 'insert', 'insffis', 'insist', 'insistai', 'insisté', 'insol', 'insolent', 'insomni', 'inspect', 'inspet', 'inspir', 'insript', 'instabilité', 'instabl', 'instal', 'installé', 'instan', 'instanc', 'instant', 'instaur', 'instauré', 'institut', 'institué', 'instreint', 'instruct', 'instrumentist', 'insu', 'insuffis', 'insuffisam', 'insuffisant', 'insufiss', 'insult', 'insulté', 'insupport', 'insér', 'int', 'intairim', 'integr', 'integralit', 'intellectuel', 'intellig', 'intelligent', 'intelocuteur', 'intemperi', 'intempestif', 'intempéri', 'intens', 'intensif', 'intent', 'intentionnel', 'intentionné', 'inter', 'interact', 'interactivité', 'interchang', 'intercolor', 'interdict', 'interdit', 'intereimair', 'interemair', 'interes', 'interess', 'interessant', 'interessez', 'interet', 'interfac', 'interi', 'interiamir', 'interilair', 'interim', 'interimair', 'interimaire', 'interimaires', 'interimeir', 'interimer', 'interimerair', 'interimsanté', 'interject', 'interlocatric', 'interlocut', 'interlocuteu', 'interlocuteur', 'interlocuteuric', 'interlocuteurs', 'interlocuteursnr', 'interlocutric', 'interlocutur', 'interlouteur', 'interm', 'intermarché', 'intermediair', 'intermim', 'intermimair', 'intermin', 'intermiss', 'intermitt', 'intermédiair', 'intern', 'internat', 'international', 'internet', 'internetchez', 'interog', 'interogu', 'interpel', 'interpellé', 'interpret', 'interprèt', 'interprét', 'interres', 'interresant', 'interress', 'interressait', 'interressant', 'interressent', 'interrim', 'interrimair', 'interrog', 'interrogé', 'interromp', 'interrompr', 'interrompu', 'interrpt', 'interrupt', 'intersport', 'interval', 'interven', 'intervenait', 'intervenant', 'intervenir', 'intervenirson', 'intervent', 'intervenu', 'intervi', 'intervien', 'intervienn', 'interview', 'intervieweur', 'interéss', 'intitulé', 'intolér', 'inton', 'intrepris', 'intrmier', 'introuv', 'intrum', 'intrus', 'intuitif', 'intã', 'intègr', 'intèrimair', 'intèrèsant', 'intégraient', 'intégral', 'intégralité', 'intégrant', 'intégrat', 'intégrer', 'intégrité', 'intégré', 'intéim', 'intéimair', 'intéress', 'intéressai', 'intéressait', 'intéressant', 'intéressent', 'intéressé', 'intéri', 'intérieur', 'intérilm', 'intérim', 'intérimai', 'intérimair', 'intérimaire', 'intérimaires', 'intérimairesqu', 'intérimar', 'intérimet', 'intérimeur', 'intérimpour', 'intérm', 'intérmair', 'intérêt', 'inutil', 'inutilité', 'inval', 'invalidité', 'invent', 'inventair', 'inventorist', 'invers', 'investi', 'investir', 'investiss', 'investissemenr', 'investit', 'inviss', 'invit', 'invité', 'involontair', 'invoqué', 'inéquat', 'inérimair', 'iontitulé', 'ipc', 'ipliquée', 'iport', 'ipso', 'iqf', 'irai', 'ireproch', 'irez', 'irigo', 'irm', 'irreproch', 'irreprochable', 'irrespect', 'irrespectueus', 'irrespectueux', 'irrespecturux', 'irrespons', 'irrégularité', 'irréguli', 'irréproch', 'is', 'isabel', 'isagri', 'iser', 'isidore', 'isl', 'isolez', 'isolé', 'isotherm', 'isqu', 'iss', 'ission', 'issoir', 'issoudun', 'issu', 'istr', 'isu', 'isèr', 'isère', 'isér', 'it', 'itali', 'ite', 'item', 'iterim', 'iterimair', 'itron', 'iut', 'ivali', 'ivreur', 'ivré', 'ièm', 'ièr', 'iém', 'ja', 'jaai', 'jacqu', 'jacqueli', 'jacquelin', 'jadi', 'jai', 'jaim', 'jaimerai', 'jaimi', 'jalai', 'jallai', 'jama', 'jamai', 'jamais', 'jamaiset', 'jamaisétait', 'jamb', 'jambon', 'jami', 'jammai', 'jane', 'janvier', 'jappel', 'jappellez', 'jardiland', 'jardin', 'jariv', 'jarrivai', 'jarrêterai', 'jatrenss', 'jattend', 'jaun', 'jaurai', 'javai', 'javait', 'jc', 'jde', 'jdevai', 'jean', 'jeanfil', 'jedoi', 'jem', 'jeme', 'jen', 'jennif', 'jepens', 'jerencontr', 'jerom', 'jesper', 'jessi', 'jessica', 'jesst', 'jestim', 'jesui', 'jet', 'jetabl', 'jetai', 'jetait', 'jetant', 'jeter', 'jetrouv', 'jett', 'jettent', 'jetter', 'jeté', 'jeu', 'jeudi', 'jeun', 'jeuner', 'jeuness', 'jeux', 'jevai', 'jf', 'jhon', 'jillet', 'jin', 'jirai', 'jlc', 'jmai', 'job', 'jobard', 'joel', 'jog', 'johanna', 'joie', 'joignabl', 'joindr', 'joint', 'joinvil', 'joir', 'joli', 'jolli', 'jonathan', 'jonzac', 'joosten', 'jor', 'jorai', 'jordan', 'jorné', 'josian', 'josé', 'jou', 'jouaient', 'joudain', 'joue', 'jouer', 'jouez', 'jouhannet', 'joundr', 'joune', 'jour', 'journ', 'journal', 'journali', 'journalist', 'journalièr', 'journe', 'journer', 'journeé', 'journne', 'journã', 'journé', 'journée', 'jours', 'joursur', 'jourt', 'jout', 'joué', 'joyeus', 'jpeg', 'jr', 'jrecommand', 'jrtt', 'jteckt', 'jtek', 'jtekt', 'jtravail', 'ju', 'juanita', 'jubil', 'judicair', 'judiciair', 'judicieux', 'juge', 'jugement', 'juger', 'jugerai', 'jugé', 'jui', 'juilet', 'juillet', 'juillt', 'juin', 'julbil', 'jule', 'juli', 'julia', 'julien', 'june', 'jungl', 'junien', 'junior', 'juor', 'jur', 'jure', 'juridiqu', 'jurist', 'juse', 'jusqu', 'jusqua', 'jusquau', 'jusque', 'jusquà', 'jusqù', 'just', 'justement', 'justess', 'justic', 'justice', 'justicia', 'justif', 'justifi', 'justifiactif', 'justifiatif', 'justificaitif', 'justificatif', 'justificatifspour', 'justifié', 'justin', 'jute', 'juvamin', 'juvisi', 'juvisy', 'jvai', 'jy', 'jà', 'jérôme', 'jétait', 'kaba', 'kan', 'kandi', 'kappa', 'karen', 'karim', 'karin', 'kati', 'katia', 'katoen', 'kaysersberg', 'ke', 'kecoso', 'kelli', 'kemperl', 'kennedi', 'kenzo', 'kepler', 'keragla', 'keraglass', 'kermen', 'kfjslfjelss', 'kg', 'khadija', 'khalifa', 'khodja', 'khuen', 'khuene', 'khun', 'ki', 'kiabi', 'kiavila', 'killian', 'kilo', 'kilometr', 'kilomètr', 'kilométrag', 'kilométriqu', 'kimberley', 'kindi', 'kiné', 'kl', 'klinex', 'klm', 'klometr', 'km', 'koba', 'koch', 'kodja', 'koi', 'koki', 'kont', 'koné', 'korum', 'kremer', 'kubler', 'kuehn', 'kuhen', 'lab', 'laba', 'labeyri', 'labin', 'laboit', 'labonn', 'laboratoir', 'laborieux', 'labouré', 'labuisier', 'lac', 'laccueil', 'lace', 'lacher', 'laché', 'laconnaitr', 'lacost', 'lactali', 'lactalis', 'ladit', 'ladress', 'laetitia', 'lafayett', 'laferrièr', 'laflexibilité', 'lagardèr', 'lagenc', 'lagni', 'lagnieu', 'lai', 'laillé', 'lain', 'lainstemp', 'laiser', 'laiss', 'laissait', 'laissant', 'laissent', 'laisser', 'laisseron', 'laissez', 'laissé', 'lait', 'laiteri', 'laitier', 'laiv', 'lambal', 'lambda', 'lambersart', 'lament', 'lamott', 'lamp', 'lan', 'lanc', 'lance', 'lancement', 'lancer', 'land', 'landemain', 'landi', 'landivisiau', 'langag', 'langeai', 'langon', 'langr', 'langu', 'languag', 'lannemezan', 'lannion', 'lanrodec', 'laon', 'lap', 'lapert', 'lapeyr', 'lapost', 'lapremidi', 'laps', 'lapsu', 'laquel', 'larbin', 'larespons', 'larg', 'largement', 'larger', 'larminat', 'lasagn', 'lassant', 'lasser', 'lassitud', 'lassé', 'lasuel', 'latenc', 'lauell', 'laur', 'laura', 'laurenc', 'laurent', 'lauri', 'lauwin', 'lavag', 'laval', 'lavanc', 'lave', 'lavement', 'lavi', 'laxist', 'laxou', 'lay', 'lcl', 'ldc', 'ldmd', 'lead', 'leader', 'leadersip', 'leas', 'leatitia', 'lebig', 'leblan', 'lecac', 'leclerc', 'lecoq', 'lecout', 'lecteur', 'lectur', 'lederni', 'ledir', 'ledit', 'ledroit', 'leer', 'leeur', 'legal', 'legrand', 'lelendemain', 'lemascari', 'lembarra', 'lembauch', 'lemoin', 'lemouroux', 'lemp', 'lemploy', 'len', 'lendemai', 'lendemain', 'lendemaint', 'lendmain', 'leng', 'lenglet', 'lent', 'lenteur', 'lentrepris', 'lequel', 'lequels', 'ler', 'leroux', 'leroy', 'lesa', 'lesactionnair', 'lesconseil', 'lescot', 'lesfil', 'lesieur', 'lesparr', 'lesquel', 'lesquin', 'lesservic', 'lestra', 'letonni', 'lettr', 'leu', 'leurdemand', 'leurr', 'levallois', 'leveaux', 'lever', 'levolcpasbien', 'levé', 'lew', 'lex', 'lexo', 'leïla', 'lfp', 'lgl', 'lgv', 'lheur', 'lhotelletri', 'li', 'liaison', 'lib', 'libe', 'libellé', 'libercourt', 'liberté', 'libourn', 'libr', 'libre', 'libérer', 'libérion', 'libéré', 'licenc', 'licenci', 'licencié', 'lider', 'lidl', 'lidouren', 'lie', 'liebig', 'lien', 'liencenci', 'liensavec', 'lier', 'lieu', 'lieusaint', 'lieux', 'life', 'liffré', 'lign', 'ligni', 'lill', 'lillois', 'lima', 'limit', 'limitediscriminatoir', 'limité', 'limog', 'limpid', 'limt', 'lin', 'lina', 'lincher', 'linda', 'line', 'ling', 'linkedin', 'linki', 'linterimair', 'lionel', 'lior', 'lip', 'liquid', 'lire', 'lis', 'lisa', 'lisant', 'lisent', 'lisez', 'lisi', 'lisibilitã', 'lisieux', 'liss', 'lisser', 'list', 'lister', 'listerios', 'listé', 'lit', 'litig', 'litigieus', 'litteral', 'littéral', 'liu', 'livr', 'livraison', 'livrer', 'livret', 'livreur', 'livrez', 'livré', 'lié', 'liée', 'll', 'lla', 'llano', 'lle', 'ller', 'llg', 'llé', 'lma', 'lnentrepris', 'lobono', 'loc', 'local', 'localis', 'localité', 'locat', 'locaux', 'loccas', 'loch', 'locminé', 'locomot', 'locur', 'loffr', 'log', 'loge', 'logeai', 'logement', 'loger', 'logiciel', 'logidi', 'logiqu', 'logisct', 'logist', 'logistiqu', 'logo', 'logé', 'lohr', 'loi', 'loidon', 'loihouhlknh', 'loin', 'lointain', 'loir', 'loire', 'loisir', 'loistiqu', 'lol', 'lola', 'lombair', 'lomptemp', 'lon', 'long', 'longjumeau', 'longtemg', 'longtemp', 'longtempsposs', 'longterm', 'longu', 'longuepériod', 'longues', 'longévité', 'lonque', 'lontemp', 'loo', 'look', 'lopez', 'lor', 'lorain', 'lord', 'lordeur', 'lorganis', 'loridan', 'lorient', 'loro', 'lorqu', 'lorrain', 'lorri', 'lorsqu', 'losc', 'lot', 'loudeac', 'loudun', 'loudéac', 'loue', 'louer', 'loueur', 'louhan', 'loui', 'louis', 'loup', 'louper', 'loupã', 'loupé', 'lourd', 'lourdeur', 'louvier', 'louvr', 'loué', 'loyal', 'loyau', 'loyauté', 'loyer', 'lozèr', 'lp', 'lr', 'lrsque', 'ls', 'lt', 'lu', 'lubrifi', 'luce', 'luci', 'lucon', 'lude', 'ludi', 'ludov', 'ludr', 'lue', 'lueur', 'luka', 'lumièr', 'lunatiqu', 'lundi', 'lune', 'lunel', 'lunett', 'lunetteri', 'lunevil', 'lunévil', 'lur', 'lusieur', 'lutter', 'lux', 'luxembourg', 'luz', 'luçon', 'lvmh', 'lyce', 'lycé', 'lynx', 'lyon', 'lyonnai', 'lyonnais', 'lz', 'là', 'lá', 'lâ', 'lâch', 'lâche', 'lâchement', 'lâcher', 'lâché', 'lã', 'lève', 'lèvre', 'lé', 'lécout', 'légal', 'légale', 'légalement', 'légalité', 'légaux', 'léger', 'législ', 'législat', 'légitim', 'légume', 'légère', 'légèrement', 'léonard', 'léphone', 'léphoniqu', 'léser', 'lésé', 'lê', 'lô', 'maager', 'mac', 'macair', 'macaplast', 'macaron', 'maccompagn', 'macdonald', 'mace', 'machecoul', 'machin', 'machine', 'mack', 'macla', 'macoiff', 'macon', 'macopharma', 'madam', 'mademoisel', 'mader', 'madjid', 'mafieus', 'mag', 'magali', 'magasin', 'magasini', 'magasinier', 'magazin', 'magdaleina', 'mage', 'magenta', 'mager', 'maghrebin', 'maghrébin', 'magi', 'magicien', 'magneti', 'magnetiqu', 'magnetto', 'magni', 'magnifiqu', 'magouil', 'mahieu', 'mai', 'maif', 'maigr', 'mail', 'maillard', 'mails', 'mailto', 'main', 'maint', 'mainten', 'maintenant', 'maintenir', 'maintenu', 'maintien', 'maintient', 'maintnena', 'maiq', 'mairi', 'maisil', 'maison', 'mait', 'maiten', 'maitenen', 'maiterait', 'maitr', 'maitris', 'maitrisait', 'maixent', 'majeur', 'major', 'majori', 'majorit', 'majoritair', 'majorité', 'majoré', 'maki', 'mal', 'malad', 'maladi', 'maladroit', 'malaim', 'malais', 'malaisi', 'malantendu', 'malataverne', 'male', 'malentend', 'malentendu', 'malesherb', 'malestroi', 'maleureus', 'malger', 'malgr', 'malgre', 'malgrã', 'malgrè', 'malgré', 'malgréla', 'malgrér', 'malgé', 'malheur', 'malheures', 'malheureus', 'malheureusemen', 'malheureusement', 'malheureux', 'malhonnèt', 'malhonnêt', 'malhonnêteté', 'malhonêt', 'malic', 'malika', 'malins', 'mallauri', 'malléabl', 'malmaison', 'malmené', 'malo', 'malonett', 'malouin', 'malpoli', 'malpropr', 'maltrait', 'malveil', 'malvers', 'malwar', 'mamad', 'maman', 'mamimum', 'mampow', 'man', 'manag', 'manch', 'mancipoz', 'mandat', 'mandatair', 'mandaté', 'mang', 'manger', 'mangé', 'mani', 'manier', 'manifest', 'manipulateur', 'manit', 'manièr', 'maniéré', 'mann', 'manoeuvr', 'manon', 'manosqu', 'manouvr', 'manow', 'manpo', 'manpow', 'manpower', 'manqj', 'manqu', 'manquaient', 'manquait', 'manquant', 'manque', 'manqued', 'manquement', 'manquent', 'manquer', 'manquera', 'manquerai', 'manqué', 'mant', 'manteau', 'manten', 'manu', 'manuel', 'manufactur', 'manuntent', 'manut', 'manutenair', 'manutent', 'manutention', 'manutentionnair', 'manutentionnaires', 'manœuvr', 'mao', 'mapart', 'mappel', 'mapple', 'maqu', 'maquillag', 'mar', 'maraichag', 'marathon', 'marcel', 'marcelinn', 'marcellin', 'march', 'marchait', 'marchand', 'marchandag', 'marchandis', 'marchant', 'marcher', 'marché', 'marcial', 'marconi', 'marconn', 'marconnel', 'marcq', 'mardi', 'mardyck', 'marelli', 'marg', 'margni', 'margoulin', 'marguerit', 'mari', 'maria', 'mariag', 'marie', 'marignann', 'marigni', 'marin', 'marion', 'mariott', 'marit', 'maritim', 'marié', 'marjori', 'market', 'marl', 'marmand', 'marmintp', 'marmit', 'marn', 'marqu', 'marquaitsouv', 'marquant', 'marquer', 'marquez', 'marqué', 'marr', 'marrant', 'marriot', 'marroquineri', 'marrou', 'marré', 'marsan', 'marseil', 'martigu', 'martin', 'martiniqu', 'marylin', 'marys', 'maré', 'mas', 'masculin', 'masemain', 'masochism', 'masqu', 'mass', 'massacré', 'massi', 'master', 'mat', 'match', 'matelat', 'materiel', 'maternel', 'maternit', 'maternité', 'mathieu', 'mathild', 'mati', 'matier', 'matin', 'matiné', 'matièr', 'matmut', 'matricul', 'matthieu', 'maturitã', 'maturité', 'matériaux', 'matériel', 'mau', 'maubeug', 'maulevri', 'maulévrier', 'maur', 'maurai', 'mauric', 'maurienn', 'maurient', 'mauroy', 'mauvai', 'mauvais', 'mauvaiss', 'mavat', 'mavez', 'mavoir', 'max', 'maxi', 'maxim', 'maximal', 'maximis', 'maximo', 'maximum', 'maximun', 'mayenn', 'mayern', 'mayhenoff', 'mazarin', 'maã', 'maçon', 'maçonneri', 'maîtr', 'maîtress', 'maîtris', 'mbauch', 'mbaucher', 'mc', 'mde', 'mdph', 'mdr', 'mdt', 'me', 'meault', 'meaux', 'mec', 'mecaniqu', 'mecaplast', 'mecont', 'mecout', 'mectrouv', 'med', 'meda', 'medecin', 'medein', 'medemand', 'mediametri', 'medic', 'medical', 'mediocr', 'medit', 'medéplac', 'meen', 'mehdi', 'meilla', 'meilleu', 'meilleur', 'melang', 'melani', 'meler', 'mell', 'mellita', 'melo', 'melun', 'melvita', 'mem', 'membr', 'meme', 'memoire', 'men', 'menac', 'menacé', 'menag', 'menagr', 'menant', 'menanten', 'menaç', 'menbr', 'mend', 'menehould', 'mener', 'menil', 'mensong', 'mensongèr', 'mensualité', 'mensuel', 'ment', 'mentair', 'mental', 'mentalit', 'mentalité', 'mentant', 'mentent', 'menteur', 'menteus', 'menti', 'mention', 'mentionn', 'mentionnai', 'mentionné', 'mentir', 'mentz', 'menuiseri', 'menuisi', 'menusi', 'mené', 'mer', 'merc', 'merced', 'merci', 'mercier', 'merciii', 'mercià', 'merck', 'mercredi', 'merd', 'merdiqu', 'mere', 'meri', 'merignac', 'merit', 'merlin', 'mersen', 'merveil', 'merveilleus', 'merveilleux', 'mescollègu', 'mescontrat', 'mesdam', 'mesieur', 'mesieux', 'mesmiss', 'mesquin', 'mesquineri', 'messag', 'messageri', 'mession', 'mestra', 'mesui', 'mesur', 'met', 'metal', 'metalli', 'meter', 'metier', 'metr', 'metro', 'mett', 'mettai', 'mettaient', 'mettant', 'mettent', 'metter', 'metterai', 'mettez', 'mettion', 'mettr', 'mettrai', 'mettrait', 'mettrer', 'mettrez', 'metz', 'meubl', 'meubler', 'meung', 'meunier', 'meurth', 'mexpedit', 'mexpliqu', 'meyzieu', 'meze', 'mezier', 'mf', 'mfc', 'mfr', 'mgi', 'mhc', 'mi', 'michel', 'mickael', 'mickaël', 'miclot', 'micro', 'microcosm', 'microturbo', 'mid', 'midi', 'mie', 'mien', 'mienn', 'mieu', 'mieux', 'mig', 'migné', 'mihoubi', 'mil', 'milieu', 'milieux', 'militair', 'mill', 'millier', 'million', 'mimizab', 'mimizan', 'min', 'minabl', 'mine', 'mineau', 'mineur', 'minform', 'mini', 'minim', 'minima', 'minimal', 'minimalist', 'minimis', 'minimum', 'minimun', 'ministr', 'ministèr', 'minut', 'minutieux', 'mirabeau', 'miracl', 'mirama', 'miroit', 'miroité', 'mirroit', 'mirroité', 'misair', 'misdion', 'mise', 'miseplu', 'miser', 'misiion', 'mision', 'misogyn', 'mison', 'miss', 'missin', 'missio', 'missiona', 'missionavc', 'missionn', 'missionnai', 'missionnair', 'missionné', 'missionouvel', 'missionpour', 'missions', 'missionseffectué', 'missionset', 'missionsi', 'missionsur', 'missionsà', 'missioné', 'misson', 'misssion', 'missu', 'missuon', 'missîon', 'mister', 'misèr', 'misérabl', 'mit', 'mitigé', 'mition', 'mitri', 'mittal', 'mitterand', 'ml', 'mladi', 'mlgré', 'mlheureus', 'mlle', 'mm', 'mme', 'mmene', 'mn', 'mni', 'mnque', 'mnt', 'mntage', 'mo', 'mob', 'mobil', 'mobili', 'mobilis', 'mobilisé', 'modalit', 'modalité', 'mode', 'moder', 'modern', 'modernes', 'modest', 'modesti', 'modi', 'modif', 'modifc', 'modifi', 'modifié', 'modiqu', 'modo', 'modul', 'modèl', 'moent', 'moham', 'mohamed', 'moidu', 'moifié', 'moii', 'moin', 'moindr', 'moinspénibl', 'moinsson', 'mois', 'moiset', 'moisn', 'moissac', 'moissi', 'moissuiv', 'moitier', 'moitié', 'moivat', 'moix', 'mole', 'molien', 'molsheim', 'momen', 'moment', 'momentlà', 'momet', 'monaco', 'monai', 'moncompt', 'moncuy', 'mond', 'mondelang', 'mondevil', 'mondial', 'mondomicil', 'monent', 'moniqu', 'monistrol', 'moniteur', 'monnai', 'monnet', 'monobross', 'monprofil', 'monretour', 'monsanto', 'monsieur', 'mont', 'montag', 'montagn', 'montaient', 'montaigu', 'montant', 'montargi', 'montauban', 'montbard', 'montbrison', 'montbéliard', 'montceaux', 'montelimar', 'monter', 'montereau', 'monteur', 'montigni', 'montlucon', 'montluel', 'montluçon', 'montmidi', 'montoir', 'montpelli', 'montr', 'montrait', 'montre', 'montrent', 'montrer', 'montroug', 'montré', 'monté', 'montélimar', 'montévrain', 'moqu', 'moquaient', 'moquent', 'moquer', 'moqué', 'moral', 'morbihan', 'morceaux', 'morel', 'moreuil', 'morez', 'morgan', 'mori', 'moric', 'morl', 'moros', 'morpho', 'morroy', 'mort', 'mosel', 'mosion', 'mot', 'moteur', 'moth', 'motif', 'motiv', 'motivai', 'motivant', 'motivatin', 'motivit', 'motiviv', 'motivã', 'motivé', 'motivés', 'mott', 'mouchoir', 'mouham', 'mouillé', 'mouis', 'mouleur', 'moulin', 'moulinex', 'moult', 'mounier', 'mourrir', 'mousson', 'mouton', 'mouvais', 'mouvel', 'mouvement', 'mouvoir', 'movai', 'moy', 'moyen', 'moyenn', 'moyn', 'mozilla', 'mp', 'mpi', 'mploi', 'mpo', 'mr', 'mral', 'mrc', 'mrlangésiq', 'ms', 'msa', 'msahazi', 'msd', 'msg', 'mssion', 'mster', 'mt', 'mtin', 'muerai', 'muet', 'muguet', 'mulhous', 'mulitud', 'multi', 'multimédia', 'multipl', 'multiples', 'multipli', 'multiplié', 'multitud', 'muni', 'munier', 'mur', 'murcek', 'muret', 'muriel', 'musett', 'musiqu', 'muss', 'musset', 'mussion', 'mutat', 'mutualist', 'mutualisé', 'mutuel', 'muvais', 'my', 'mygift', 'mylen', 'mylèn', 'myral', 'myriam', 'mystèr', 'mz', 'mà', 'mâcon', 'mâtiné', 'mã', 'mãªme', 'mème', 'mènera', 'mèr', 'mère', 'mètre', 'mètro', 'mé', 'mécanicien', 'mécaniqu', 'mécanisé', 'mécaplast', 'méchanceté', 'méchant', 'méchantemai', 'méconnaiss', 'mécontement', 'mécontent', 'mécontetement', 'médaill', 'médecin', 'média', 'médical', 'médicalisé', 'médicaux', 'médiocr', 'médiocrement', 'médiocrité', 'méditerrané', 'méen', 'méfait', 'méga', 'mégan', 'méhode', 'mélang', 'mélangé', 'mélani', 'mélina', 'méme', 'mémoir', 'mémorabl', 'mémé', 'ménacé', 'ménage', 'ménagement', 'ménager', 'ménagèr', 'mépri', 'méprisant', 'méprise', 'mépriser', 'méprisé', 'mérignac', 'mérino', 'méritant', 'mérite', 'méritent', 'méritez', 'mérité', 'méru', 'mésaventur', 'mésentent', 'métalliqu', 'métallurgi', 'méteau', 'méthode', 'méthodolgi', 'méthodologi', 'métier', 'métropol', 'météo', 'mézidon', 'mézièr', 'mêe', 'mêler', 'mêlée', 'mêm', 'mêmejour', 'mêmepa', 'mêtier', 'môn', 'mœur', 'na', 'nacel', 'nada', 'nadeg', 'nadin', 'nadèg', 'nagel', 'nai', 'naima', 'naissanc', 'nait', 'nan', 'nana', 'nanci', 'nant', 'nantais', 'napoléon', 'narret', 'nassel', 'natacha', 'natali', 'nathali', 'nation', 'national', 'nationalité', 'nationaux', 'nationn', 'natixi', 'natur', 'naturel', 'nausé', 'nautiqu', 'navai', 'navatec', 'navigo', 'navigu', 'navrant', 'navré', 'nazair', 'naît', 'naïveté', 'nb', 'nbre', 'nc', 'nd', 'ndgatif', 'nean', 'neant', 'necesair', 'necessair', 'necessit', 'necessitait', 'necssair', 'need', 'neg', 'negatif', 'neglig', 'negoci', 'negociateur', 'negosi', 'negostock', 'nejjari', 'neme', 'nemour', 'nen', 'nenvoi', 'neolog', 'nepa', 'nere', 'nerf', 'nerveus', 'nesembl', 'nesl', 'nesont', 'nessaissair', 'nest', 'nestlé', 'net', 'netai', 'netait', 'neter', 'nett', 'nettement', 'nettoy', 'nettoyag', 'neuchâtel', 'neuf', 'neufchatel', 'neuhaus', 'neuilli', 'neuilly', 'neung', 'neutr', 'neuv', 'neuvil', 'never', 'newlett', 'newrest', 'newslettr', 'nexiti', 'nexon', 'neyantpa', 'nez', 'nformat', 'nguyen', 'ni', 'niant', 'nice', 'nickel', 'nicol', 'nicola', 'nicosia', 'nier', 'nike', 'nikel', 'nime', 'nin', 'nineuil', 'niort', 'nipro', 'niquel', 'nissanc', 'nit', 'niv', 'nivaux', 'nivea', 'niveau', 'niveaux', 'nivon', 'niy', 'nié', 'nn', 'no', 'noamment', 'nob', 'nobl', 'nobodi', 'nobreux', 'nocib', 'nocibé', 'nocturn', 'noel', 'noell', 'noemal', 'noeud', 'nogent', 'noi', 'noir', 'noisi', 'nolet', 'nom', 'nomal', 'nombr', 'nombred', 'nombreu', 'nombreuf', 'nombreus', 'nombreux', 'nombrus', 'nombrux', 'nome', 'nommant', 'nommé', 'non', 'nonbreus', 'nonchal', 'nonn', 'nonplu', 'nontron', 'nope', 'noral', 'norbert', 'nord', 'nordin', 'norm', 'norma', 'normal', 'normalité', 'normandi', 'normandis', 'nortr', 'nostalgiqu', 'not', 'notabl', 'notam', 'notament', 'notat', 'note', 'notement', 'noter', 'noth', 'notic', 'notifi', 'notifié', 'notion', 'notoriété', 'notr', 'nottament', 'noté', 'nou', 'noud', 'noue', 'nouell', 'nouer', 'nougât', 'nounou', 'nourir', 'nourrir', 'nourrit', 'nourritur', 'nousplais', 'nouveau', 'nouveaux', 'nouvel', 'nouvelles', 'nouvetra', 'nouvion', 'nov', 'novel', 'novembr', 'novic', 'novotel', 'now', 'noyon', 'noél', 'noël', 'noëll', 'np', 'npn', 'nr', 'nrc', 'nreci', 'nrp', 'ns', 'nscrit', 'nse', 'nspp', 'nt', 'nte', 'nterlocuteur', 'ntn', 'ntrepris', 'ntérim', 'ntérimair', 'nu', 'nucleair', 'nucléair', 'nuir', 'nuis', 'nuisibl', 'nuit', 'nul', 'null', 'nullement', 'num', 'numeriqu', 'numero', 'numériqu', 'numéris', 'numéro', 'nune', 'nutergia', 'nutrit', 'nveau', 'nvestiss', 'nvl', 'nvle', 'nvoyer', 'nvoyez', 'ny', 'nya', 'nyon', 'nã', 'nère', 'né', 'néan', 'néanmoin', 'néant', 'nécessair', 'nécessit', 'nécessitait', 'nécessité', 'nécssite', 'nécéssair', 'néerlandai', 'néfast', 'négatif', 'négativ', 'négatives', 'négativité', 'néglige', 'négligeabl', 'négligenc', 'négliger', 'négligez', 'négligé', 'négoce', 'négoci', 'négociat', 'négocier', 'négocierd', 'négocié', 'nétai', 'nétait', 'nîme', 'nôtre', 'oait', 'oayé', 'obernai', 'objat', 'objectif', 'objectiv', 'objectivité', 'objet', 'obli', 'oblig', 'obligatoir', 'obligatoire', 'obligeai', 'obligeait', 'obligtoir', 'obligé', 'obligéd', 'obr', 'obscur', 'observ', 'observé', 'obsolesc', 'obsèqu', 'obtenai', 'obtene', 'obtenir', 'obtent', 'obtenu', 'obtiendrez', 'obtienn', 'obtient', 'obéiss', 'occas', 'occasionn', 'occasionnel', 'occasionné', 'occassion', 'occitan', 'occper', 'occup', 'occupai', 'occupait', 'occupe', 'occupez', 'occupion', 'occupp', 'occupé', 'occur', 'occurr', 'ocotobr', 'oct', 'octob', 'octoberfest', 'octobr', 'octroi', 'octroy', 'octroyé', 'ocv', 'ocvia', 'ode', 'odeur', 'odieux', 'oeil', 'oeu', 'oeuf', 'oeuvr', 'of', 'offert', 'offic', 'offici', 'officiel', 'offr', 'offraient', 'offrait', 'offrant', 'offrent', 'offres', 'offrir', 'ofr', 'ogc', 'oh', 'oi', 'oin', 'ointag', 'ois', 'oit', 'ojourdhui', 'ok', 'okaidi', 'ol', 'oliier', 'olivi', 'olivier', 'oliviernumerique', 'ollioul', 'ologn', 'olonn', 'oloron', 'olympiqu', 'ombr', 'omett', 'omettr', 'omexom', 'omi', 'omis', 'ommag', 'ommençait', 'ommerc', 'ommi', 'omnium', 'ompar', 'omport', 'omptabilité', 'on', 'onboard', 'onc', 'oncl', 'onction', 'onduli', 'one', 'onesit', 'onet', 'onfié', 'ongl', 'onlin', 'onlui', 'onm', 'onn', 'onna', 'onsit', 'ont', 'ontacté', 'ontent', 'onteu', 'ontigni', 'onto', 'ontpa', 'onz', 'onéreux', 'oo', 'opac', 'opca', 'opera', 'operateur', 'operatric', 'ophtalmologiqu', 'opinion', 'oportunité', 'opportuité', 'opportunit', 'opportunitè', 'opportunité', 'oppos', 'opposit', 'opposé', 'oppress', 'opproprie', 'optic', 'optim', 'optimal', 'optimi', 'optimis', 'optimist', 'option', 'optiqu', 'opté', 'opérat', 'opérateur', 'opérationnel', 'opératoir', 'opératric', 'opéré', 'or', 'oral', 'orang', 'orangi', 'orano', 'oraux', 'orchestra', 'order', 'ordi', 'ordinateur', 'ordo', 'ordonné', 'ordr', 'orduri', 'oreal', 'oreil', 'orexad', 'org', 'organ', 'organis', 'organisateur', 'organisationnel', 'organisi', 'organism', 'organisã', 'organisé', 'orgu', 'orgueil', 'orgueilleux', 'ori', 'orient', 'orienté', 'orientér', 'origin', 'original', 'orlean', 'orli', 'orléan', 'orléanais', 'orm', 'ormat', 'ormocn', 'orn', 'orng', 'orr', 'orteil', 'orthograph', 'orthophnist', 'orthès', 'orvault', 'oréal', 'os', 'osait', 'ose', 'osent', 'oser', 'osi', 'osni', 'ossier', 'ost', 'ostul', 'osé', 'ot', 'otag', 'otenir', 'oter', 'otr', 'ouatah', 'oubli', 'oubliait', 'oubliant', 'oublie', 'oublient', 'oublier', 'oublierai', 'oubliett', 'oubliez', 'oublion', 'oublir', 'oublié', 'oubliés', 'oublé', 'ouch', 'oue', 'ouen', 'ouest', 'ouf', 'ouheur', 'oui', 'ouidentifié', 'ouii', 'ouiii', 'oujour', 'oul', 'oulamara', 'oullin', 'oulot', 'ounsit', 'our', 'ourant', 'ourni', 'ours', 'ouspier', 'ouspillé', 'oustri', 'out', 'outil', 'outillag', 'outillé', 'outils', 'outr', 'outré', 'outsourc', 'ouvai', 'ouvel', 'ouvert', 'ouvertur', 'ouvet', 'ouvez', 'ouvr', 'ouvrait', 'ouvrat', 'ouvrent', 'ouvri', 'ouvrier', 'ouvrierqualifié', 'ouvrir', 'ouvrièr', 'ouvrr', 'ouvré', 'ouï', 'ov', 'over', 'owen', 'oxymet', 'oyi', 'oyonnax', 'où', 'oú', 'paas', 'pablo', 'paca', 'pacilli', 'pack', 'packag', 'packaging', 'pad', 'pae', 'paer', 'paett', 'paf', 'page', 'pagni', 'pai', 'paie', 'paiedont', 'paieet', 'paiement', 'paient', 'paiera', 'paies', 'paillot', 'paiment', 'pain', 'pair', 'paired', 'pais', 'paix', 'paiy', 'paié', 'pal', 'palai', 'palaiseau', 'palami', 'palan', 'palc', 'palett', 'palier', 'palisseaux', 'pallier', 'palmol', 'palpabl', 'pamier', 'panavi', 'panel', 'pani', 'panier', 'paniers', 'paniqu', 'pann', 'panneau', 'panni', 'pans', 'pansement', 'pantallon', 'pantalon', 'pantalonouveau', 'pantin', 'paola', 'papa', 'paper', 'paperass', 'papiau', 'papier', 'paq', 'paqu', 'paquet', 'paraissai', 'paraissait', 'parait', 'paraitr', 'parallèl', 'paramed', 'paraport', 'parapour', 'parasit', 'paratgé', 'paraît', 'paraîtr', 'parc', 'parce', 'parcequ', 'parcmètr', 'parcour', 'parcourir', 'parcours', 'pard', 'pardon', 'pare', 'pareil', 'parent', 'parenté', 'parfai', 'parfait', 'parfoi', 'parfoit', 'pari', 'pariba', 'paridi', 'paris', 'parisi', 'parisienn', 'parisseri', 'park', 'parka', 'parl', 'parlaient', 'parlait', 'parlant', 'parlent', 'parler', 'parlerai', 'parlez', 'parlon', 'parlé', 'parléavec', 'parmelan', 'parmi', 'parnass', 'parnécessité', 'paroi', 'parol', 'parr', 'parra', 'parrain', 'parrainag', 'parrainé', 'parraisait', 'parrait', 'parralel', 'pars', 'parsev', 'part', 'partag', 'partagerai', 'partagé', 'partai', 'partaient', 'partait', 'partant', 'partcour', 'partenair', 'partenaire', 'partenaria', 'partenariat', 'parteney', 'partenord', 'partent', 'partez', 'parthenay', 'parti', 'particip', 'participerai', 'participé', 'particularité', 'particuli', 'particulier', 'particulièr', 'particulière', 'particulièrem', 'particuliér', 'partie', 'partiel', 'partir', 'partirai', 'partit', 'partner', 'parton', 'partout', 'paru', 'parut', 'parven', 'parvenion', 'parvenir', 'parvenu', 'parvienn', 'parvient', 'pasassur', 'pascal', 'pascarel', 'pasdeclar', 'pasdu', 'pase', 'paser', 'pasfair', 'pasi', 'pasou', 'pasqu', 'pasquier', 'pass', 'passa', 'passag', 'passage', 'passai', 'passaient', 'passait', 'passant', 'passe', 'passent', 'passeport', 'passer', 'passera', 'passerai', 'passez', 'passianc', 'passif', 'passion', 'passionc', 'passionné', 'passon', 'passè', 'passèrent', 'passé', 'pastenu', 'pasteur', 'pastiqu', 'pasvraiment', 'pasé', 'pat', 'patat', 'patent', 'paternité', 'pathétiqu', 'patienc', 'patient', 'patiqu', 'paton', 'patricia', 'patron', 'patronal', 'patronn', 'patt', 'patétiqu', 'pau', 'paul', 'paulin', 'paulstra', 'paus', 'pausent', 'pauvr', 'pauvreté', 'pavilli', 'pay', 'payait', 'payant', 'paye', 'payement', 'payent', 'payer', 'payera', 'payerait', 'payeur', 'payez', 'payll', 'payment', 'payon', 'paysagist', 'payè', 'payé', 'payées', 'paé', 'pb', 'pc', 'pcb', 'pck', 'pcq', 'pdant', 'pdf', 'pdt', 'pe', 'peau', 'pedant', 'peggi', 'pein', 'peinai', 'peindr', 'peinibilit', 'peinn', 'peintr', 'peintur', 'pell', 'pelleteur', 'pellist', 'pen', 'penalis', 'pench', 'penché', 'pendan', 'pendant', 'pendnant', 'pendr', 'pene', 'peni', 'penibibilté', 'penibl', 'penn', 'pens', 'pensai', 'pensaient', 'pensait', 'pensant', 'pense', 'pensent', 'pensequ', 'penser', 'pensez', 'penson', 'pensé', 'pentecôt', 'peopl', 'peopuls', 'pep', 'per', 'peram', 'perc', 'perceu', 'percevai', 'percevoir', 'percoi', 'percu', 'perd', 'perdan', 'perdant', 'perdent', 'perdez', 'perdon', 'perdr', 'perdu', 'perdur', 'perfect', 'perfectionn', 'perfom', 'perfor', 'perform', 'performant', 'perigni', 'perigueux', 'period', 'perl', 'perm', 'perman', 'permanent', 'permet', 'permetra', 'permett', 'permettai', 'permettait', 'permettr', 'permettra', 'permettrai', 'permettrait', 'permettrez', 'permi', 'permis', 'permissif', 'permit', 'permnent', 'pernier', 'peronn', 'peronnet', 'perosnn', 'perpect', 'perpignan', 'perplex', 'perrach', 'perret', 'perrier', 'perrin', 'persan', 'persist', 'persisté', 'persnn', 'persnnel', 'perso', 'person', 'personalisé', 'personel', 'personn', 'personnag', 'personnalis', 'personnalisé', 'personnalité', 'personne', 'personnel', 'personnelles', 'personnelà', 'personnesêtr', 'personé', 'persoon', 'perspect', 'perspicac', 'perspicacité', 'persson', 'perssonel', 'perssonn', 'perssonnel', 'persuadé', 'persã', 'persécut', 'pert', 'pertin', 'pertinem', 'pertinenet', 'pertinent', 'pertui', 'perturb', 'perturbé', 'perçoiv', 'perçu', 'pese', 'pesndant', 'pesonn', 'petcar', 'petit', 'petitesmiss', 'petludieur', 'petr', 'peu', 'peugeot', 'peur', 'peurqu', 'peut', 'peuvent', 'peux', 'peyer', 'pez', 'pfff', 'pffff', 'pharm', 'pharma', 'pharmaceutiqu', 'pharmaci', 'pharmalogu', 'phase', 'philarmoni', 'philippin', 'philstin', 'phone', 'phonã', 'photo', 'photocopi', 'photocopieus', 'photocopié', 'phrase', 'phuong', 'physiqu', 'physqu', 'phénomèn', 'phénoménal', 'pi', 'piana', 'pic', 'picardi', 'pickeur', 'pidi', 'pie', 'piec', 'pierr', 'pierrelatt', 'pierrelet', 'pierrett', 'pigot', 'pike', 'pillul', 'pilot', 'pilotag', 'piment', 'pin', 'pinc', 'pint', 'pioch', 'piocher', 'pion', 'piont', 'pionteur', 'pip', 'pipe', 'pipelif', 'pipo', 'piqu', 'pire', 'pirx', 'piscin', 'pise', 'pisser', 'pist', 'piston', 'pistonag', 'pistonn', 'piteus', 'piteux', 'pithivi', 'pitoy', 'pittoresqu', 'piur', 'pixid', 'piã', 'pièc', 'pk', 'pl', 'placard', 'place', 'placement', 'placent', 'placer', 'placé', 'plafond', 'plage', 'plaie', 'plaignent', 'plain', 'plaind', 'plaindr', 'plaindre', 'plaint', 'plaintr', 'plais', 'plaisai', 'plaisait', 'plaisanc', 'plaisant', 'plaisir', 'plaisird', 'plait', 'plan', 'planch', 'plancher', 'planché', 'plane', 'planif', 'planifi', 'planifié', 'planiié', 'planningpour', 'planqu', 'planter', 'planté', 'plaqu', 'plaquist', 'plaquo', 'plaqust', 'plastic', 'plastiqu', 'plasturgi', 'plat', 'plate', 'plateau', 'plateform', 'platr', 'play', 'playmobil', 'plaçait', 'plaît', 'plce', 'ple', 'pleas', 'plein', 'pleindr', 'pleinement', 'plessi', 'plessis', 'pleurer', 'pleut', 'pleuvait', 'pli', 'pliag', 'pliasir', 'plieur', 'plieus', 'plin', 'plisir', 'plié', 'pllusieur', 'ploermel', 'plomberi', 'plombier', 'plong', 'plongeur', 'plongeus', 'plongé', 'plouay', 'plouray', 'ploërmel', 'plr', 'plsieur', 'plu', 'pluie', 'pluieur', 'pluit', 'plupart', 'pluridisciplinair', 'plus', 'plusay', 'plusier', 'plusieur', 'plusieursd', 'plusieusr', 'plusisu', 'plusiur', 'plusqu', 'plut', 'plutard', 'plutot', 'plutã', 'plutôt', 'plv', 'pm', 'pme', 'pmi', 'pmu', 'pndant', 'pnu', 'po', 'poch', 'pochet', 'poec', 'pofessionnel', 'poi', 'poid', 'poids', 'poidsdan', 'poignet', 'poigné', 'poin', 'point', 'pointag', 'pointer', 'pointeus', 'pointilleux', 'pointu', 'pointur', 'pointé', 'poir', 'poireaut', 'poison', 'poissi', 'poisson', 'poissonneri', 'poissonni', 'poissonnièr', 'poitier', 'poitou', 'pol', 'polair', 'pole', 'polemploi', 'poli', 'poligni', 'poliment', 'polit', 'politess', 'politiq', 'politiqu', 'politiqued', 'pollet', 'polluent', 'polo', 'polyval', 'polyvalent', 'pommad', 'pomona', 'pomp', 'pompid', 'pompier', 'pompo', 'poncer', 'ponceur', 'ponction', 'ponctualit', 'ponctualité', 'ponctuel', 'pondent', 'pondr', 'pons', 'pont', 'pontarli', 'pontdemé', 'pontet', 'ponticelli', 'pontier', 'pontivi', 'pontoon', 'ponçag', 'popos', 'poposé', 'popul', 'populair', 'por', 'porcher', 'pordébut', 'porefeuil', 'porer', 'pornic', 'port', 'portabl', 'portail', 'portait', 'portali', 'portant', 'porte', 'portefeuil', 'portent', 'porter', 'porterplaint', 'portet', 'porteur', 'portez', 'portiqu', 'portugai', 'porté', 'pos', 'posai', 'posaient', 'posait', 'pose', 'posent', 'poser', 'poserait', 'posess', 'posez', 'posibilité', 'posiibilité', 'posissionn', 'posit', 'positf', 'positi', 'positif', 'positionn', 'positionnait', 'positionné', 'positionnéesen', 'positiv', 'positive', 'positivité', 'positv', 'poson', 'possediez', 'possess', 'possibilit', 'possibilité', 'possibl', 'possil', 'possit', 'possitif', 'possèd', 'possèdent', 'possédai', 'possédait', 'posséder', 'post', 'postal', 'poste', 'postel', 'poster', 'postien', 'postionné', 'postit', 'postiv', 'postul', 'postulai', 'postulat', 'postulez', 'postulé', 'postur', 'posté', 'postérieur', 'posé', 'pot', 'pote', 'potentiel', 'potin', 'potocopi', 'potul', 'pou', 'pouai', 'poubel', 'pouez', 'pouffaient', 'pouir', 'poulain', 'poulet', 'pouoir', 'pouquoi', 'pouraisdir', 'pouravoir', 'pourcentag', 'pouri', 'pourinfo', 'pourl', 'pourla', 'pourpa', 'pourqu', 'pourquoi', 'pourra', 'pourrai', 'pourraient', 'pourrait', 'pourrez', 'pourri', 'pourriel', 'pourriez', 'pourrion', 'pourriss', 'pourrit', 'poursuit', 'poursuivi', 'poursuivr', 'poursuivrai', 'pourt', 'pourtan', 'pourtant', 'pourttant', 'pourun', 'pourvoir', 'pourvu', 'pouss', 'pousser', 'poussé', 'poutant', 'pouvai', 'pouvaient', 'pouvait', 'pouvant', 'pouvat', 'pouvez', 'pouviez', 'pouvoir', 'pouvon', 'pouzin', 'power', 'ppel', 'ppell', 'ppi', 'pproposait', 'ppur', 'pr', 'prada', 'prado', 'pragmatism', 'praticité', 'pratiqu', 'pratiquai', 'pratiques', 'pratiqué', 'prblème', 'pre', 'prealabl', 'precair', 'precedent', 'precesi', 'preci', 'precieus', 'precis', 'preenu', 'prefer', 'prelev', 'premiedr', 'premier', 'premièr', 'premièresemain', 'premèr', 'prenai', 'prenaient', 'prenait', 'prenant', 'prenat', 'prend', 'prendr', 'prendra', 'prendrai', 'prendrez', 'prenez', 'preniez', 'prenn', 'prennant', 'prennent', 'prenom', 'prenon', 'prepa', 'prepar', 'preparateur', 'prequ', 'presatair', 'prescilia', 'presenc', 'present', 'presents', 'presi', 'presic', 'presonn', 'presonnl', 'presq', 'presqu', 'press', 'pressant', 'pressent', 'pression', 'pressé', 'prestair', 'prestat', 'prestatair', 'prestatio', 'prestatir', 'prestig', 'presté', 'presu', 'pret', 'prete', 'preuner', 'preuv', 'preuve', 'preuvent', 'preven', 'prevenir', 'preventeur', 'prevenu', 'previen', 'previs', 'previsionnel', 'prevu', 'preçi', 'prfessionnalism', 'prfil', 'prgrammé', 'pri', 'price', 'prich', 'prie', 'prient', 'prier', 'prieur', 'priffessionnalism', 'prima', 'primair', 'primark', 'prime', 'primer', 'primier', 'primordi', 'princ', 'princip', 'principal', 'printemp', 'prioi', 'priori', 'prioris', 'prioritair', 'priorite', 'priorité', 'priorié', 'pripos', 'pris', 'prisca', 'priscil', 'priscilla', 'prise', 'prisent', 'prisé', 'prit', 'priv', 'privatif', 'priver', 'privilegi', 'privilegié', 'privilèg', 'privilégi', 'privilégii', 'privilégion', 'privilégié', 'privilévié', 'privé', 'prix', 'prié', 'prmièr', 'pro', 'proactif', 'proactiv', 'proactivité', 'probabilité', 'probabl', 'probité', 'probl', 'proble', 'problem', 'problematiqu', 'problemesur', 'problã', 'problèm', 'problém', 'problématiqu', 'proced', 'procedur', 'process', 'processu', 'procesu', 'proch', 'prochain', 'prochainement', 'procssu', 'procter', 'procur', 'procã', 'procè', 'procéder', 'procédon', 'procédr', 'procédur', 'procédé', 'prod', 'prodex', 'prodig', 'producs', 'product', 'productif', 'production', 'productivité', 'produir', 'produit', 'prof', 'profeasionalit', 'profesionalis', 'profesionalism', 'profesionel', 'profesionnalism', 'profesionnel', 'profess', 'professeur', 'professinnel', 'professionaism', 'professionalism', 'professionel', 'professionn', 'professionnaism', 'professionnalis', 'professionnalism', 'professionnalist', 'professionnel', 'professionnelle', 'professionnellent', 'professionnnel', 'professionzl', 'professonnel', 'profetionalism', 'profetionel', 'proffesionnel', 'proffessionalism', 'proffessionel', 'profif', 'profil', 'profilj', 'profils', 'profilsmasculin', 'profissonel', 'profit', 'profiteur', 'profité', 'profod', 'profond', 'profondé', 'profroid', 'profssionnel', 'proférer', 'profésionel', 'proféssionel', 'proféssionnalism', 'proféssionnel', 'progammé', 'proger', 'progi', 'programm', 'programmait', 'programmeur', 'programmé', 'progress', 'progressé', 'progret', 'progrè', 'prohibitif', 'projet', 'projt', 'prolong', 'prolongé', 'prolèm', 'promait', 'proman', 'promen', 'promess', 'promessesavancé', 'promet', 'promett', 'promettr', 'promi', 'promin', 'promis', 'promit', 'promod', 'promot', 'promoteur', 'prompt', 'pronoc', 'prononc', 'prononcé', 'proosait', 'proosé', 'propblèm', 'propdit', 'propfil', 'propic', 'propo', 'propor', 'proporsé', 'proport', 'proportionnel', 'propos', 'proposa', 'proposai', 'proposait', 'propose', 'proposer', 'proposera', 'proposerai', 'proposerd', 'proposerz', 'proposez', 'proposiion', 'proposit', 'propositin', 'propositiond', 'propositionsujet', 'propositon', 'proposot', 'proposr', 'proposs', 'propost', 'proposã', 'proposè', 'proposé', 'propozez', 'propoé', 'propr', 'proprement', 'propreté', 'propriétair', 'propros', 'prospect', 'prospectu', 'prostern', 'prostitué', 'prote', 'protect', 'protection', 'proteg', 'prothès', 'prototyp', 'protègeant', 'protéger', 'protégé', 'prouv', 'prouvant', 'prouver', 'prouvé', 'proven', 'provenc', 'provinc', 'provisoir', 'provoc', 'provoqué', 'proximit', 'proximitã', 'proximité', 'prpose', 'prsonn', 'prsonnel', 'prt', 'prud', 'prudhomm', 'prã', 'prè', 'prèsent', 'pré', 'préalabl', 'préavi', 'précair', 'précarité', 'précaution', 'précedent', 'préci', 'précieus', 'précigné', 'précipit', 'précipité', 'précisait', 'précisant', 'précise', 'précisement', 'préciser', 'préciseravec', 'précisez', 'précision', 'précisé', 'précisément', 'préconis', 'préconçu', 'précédant', 'précédemment', 'précédent', 'précédé', 'prédilect', 'prédéfini', 'préface', 'préfair', 'préfectur', 'préferant', 'préferé', 'préfère', 'préfèrent', 'préfèrerai', 'préférabl', 'préférai', 'préférait', 'préférant', 'préférenc', 'préférentiel', 'préférer', 'préférerai', 'préférerait', 'préféron', 'préféré', 'préférée', 'préinscript', 'préjudic', 'préjugé', 'prélevement', 'prélever', 'prélevé', 'prélève', 'prélèvement', 'prématuré', 'prénom', 'prénommé', 'préoccup', 'préoccupé', 'prépa', 'préparat', 'préparateur', 'préparatric', 'prépare', 'préparer', 'préparé', 'préselect', 'préselectionné', 'présenc', 'présenst', 'présent', 'présentabl', 'présentait', 'présentant', 'présentat', 'présente', 'présentent', 'présenter', 'présentera', 'présentiel', 'présenton', 'présenté', 'présentéplusieur', 'préserver', 'présete', 'président', 'présidentiel', 'présider', 'présélection', 'préten', 'prétendait', 'prétendr', 'prétentieux', 'prétention', 'prétext', 'prétextaient', 'prétextant', 'prétextat', 'préven', 'prévenait', 'prévenanc', 'prévenant', 'prévenir', 'prévennt', 'prévention', 'prévenu', 'prévenuqu', 'prévien', 'prévienn', 'préviennent', 'prévient', 'prévisibl', 'prévisionnel', 'prévoi', 'prévoir', 'prévoyai', 'prévoyanc', 'prévu', 'prévue', 'préère', 'préédente', 'prêt', 'prête', 'prêter', 'prêté', 'ps', 'psa', 'pseudo', 'psk', 'psychologiqu', 'pt', 'ptn', 'pu', 'pub', 'publi', 'publiai', 'public', 'publicité', 'publics', 'publipostag', 'publiqu', 'publiscreen', 'publié', 'pue', 'pui', 'puiqu', 'puis', 'puisqu', 'puiss', 'puissent', 'puissiez', 'puission', 'puit', 'pull', 'puma', 'punit', 'pur', 'pure', 'purg', 'purina', 'puréalis', 'puse', 'put', 'putain', 'pute', 'puteaux', 'puy', 'puybaret', 'puéril', 'pv', 'pvc', 'pye', 'pyragr', 'pyramid', 'pz', 'pzit', 'pâque', 'pâquerett', 'pâtissent', 'pâtisseri', 'pâtissier', 'pèce', 'père', 'péag', 'péage', 'pécise', 'pédagogi', 'péjor', 'pénal', 'pénalis', 'pénalisé', 'pénalité', 'pénibilité', 'pénibl', 'péniblement', 'pénom', 'pénuri', 'pénuriqu', 'pénétrer', 'pépin', 'pérennisé', 'pérennité', 'pérez', 'périgni', 'périgueux', 'périmètr', 'périmé', 'périod', 'péronn', 'pétrolier', 'pévenir', 'pévue', 'pêche', 'pêcher', 'pêtre', 'pôl', 'pôle', 'pôur', 'pût', 'qalif', 'qand', 'qcm', 'qd', 'qe', 'qell', 'qestion', 'qge', 'qhse', 'qi', 'qje', 'qlq', 'qoun', 'qq', 'qqchose', 'qqjour', 'qqn', 'qqun', 'qse', 'qsp', 'quad', 'quai', 'quaific', 'quaificatif', 'quait', 'qualif', 'qualifi', 'qualifiant', 'qualificatin', 'qualificatio', 'qualifierai', 'qualifié', 'qualifiées', 'qualiform', 'qualifé', 'qualit', 'qualitatif', 'qualitã', 'qualité', 'qualitée', 'qualiyé', 'quan', 'quand', 'quanden', 'quandenvoy', 'quandon', 'quant', 'quantité', 'quarant', 'quarantain', 'quart', 'quartier', 'quasi', 'quasiment', 'quat', 'quatr', 'quatrièm', 'quatuor', 'quebj', 'quej', 'quel', 'quelconqu', 'quell', 'quellen', 'quelq', 'quelqu', 'quelquechos', 'quelquefoi', 'quelqun', 'quelquonqu', 'quem', 'quen', 'quentin', 'queon', 'quepar', 'questembert', 'questin', 'questio', 'question', 'questionn', 'questionnai', 'questionnair', 'questionnaire', 'questionnir', 'questionné', 'questionsà', 'quetigni', 'quetion', 'quetionnair', 'queue', 'quibm', 'quid', 'quil', 'quillet', 'quim', 'quimper', 'quimperl', 'quimperlé', 'quin', 'quinet', 'quinz', 'quinzain', 'quinzian', 'quiproquo', 'quis', 'quit', 'quitt', 'quittai', 'quittanc', 'quittent', 'quitter', 'quitterai', 'quitton', 'quitté', 'quiévi', 'qulif', 'qulqu', 'qulquin', 'qune', 'quoi', 'quoiqu', 'quon', 'quota', 'quotidien', 'quotidienn', 'quz', 'qué', 'quémand', 'quêt', 'qye', 'ra', 'raassag', 'rabai', 'rabaiss', 'rabaissait', 'rabaissant', 'rabaissé', 'rabroué', 'racail', 'raccord', 'raccordé', 'raccroch', 'raccrochag', 'raccrochez', 'raccroché', 'rachel', 'rachet', 'racheté', 'racism', 'racist', 'rack', 'racont', 'racontact', 'racontar', 'racontez', 'raconté', 'radi', 'radiant', 'radiat', 'radicaux', 'radier', 'radin', 'radio', 'radié', 'raffineri', 'rafilié', 'rafraîchiss', 'rageant', 'rai', 'raid', 'rail', 'rainumer', 'raison', 'raisonn', 'raisson', 'rajout', 'rajoutez', 'rajouté', 'ralayé', 'ralentir', 'ralentiss', 'ralentit', 'rallong', 'rallongeait', 'ramaissait', 'ramassag', 'rambouillet', 'rambours', 'ramen', 'ramenr', 'ramené', 'rameri', 'ramia', 'ramstad', 'ramèn', 'ramènai', 'ramènent', 'ranc', 'rancun', 'rand', 'randstad', 'rang', 'rangement', 'rangera', 'rangu', 'rangé', 'ranstad', 'ranéli', 'rapad', 'rapatri', 'rapdement', 'rapdité', 'rapel', 'rapid', 'rapidem', 'rapidemnt', 'rapides', 'rapidit', 'rapiditey', 'rapiditã', 'rapiditè', 'rapidité', 'rapod', 'rapor', 'raport', 'rappeer', 'rappel', 'rappelai', 'rappeler', 'rappelera', 'rappelez', 'rappellejamai', 'rappellera', 'rappellerai', 'rappellerait', 'rappelleront', 'rappellez', 'rappelli', 'rappellé', 'rappellécol', 'rappelé', 'rapplé', 'rappor', 'rapport', 'rappot', 'rapproch', 'rapprochai', 'rapprochã', 'rapproché', 'rappèlera', 'raproch', 'raq', 'raquett', 'rare', 'rarement', 'raremnt', 'raser', 'rasnon', 'rass', 'rassembl', 'rassur', 'rassurant', 'rassurez', 'rassuré', 'rat', 'rater', 'ratp', 'ratrapp', 'rattach', 'rattaché', 'rattaqu', 'rattrap', 'rattrapag', 'rattraperl', 'rattrapé', 'raté', 'ravail', 'ravi', 'ravie', 'ravoir', 'ray', 'rayer', 'raymond', 'rayon', 'rayonn', 'rayonnag', 'rayé', 'raz', 'rdsl', 'rdv', 're', 'react', 'reactif', 'reaction', 'reactiv', 'reactivit', 'reactivite', 'reactivité', 'reactualis', 'reacumul', 'reagit', 'reajust', 'realis', 'realit', 'realité', 'reatif', 'rebay', 'rebbah', 'rebondir', 'rebondiss', 'reboullet', 'recal', 'recalcul', 'recalculé', 'recap', 'reccommanderai', 'reccur', 'reccurent', 'recem', 'recentit', 'recept', 'receptif', 'receptionn', 'recev', 'recevai', 'recevez', 'recevoir', 'recevon', 'recevra', 'recevrai', 'rechang', 'recharg', 'recherc', 'recherch', 'recherchai', 'recherchait', 'recherche', 'recherches', 'rechercheur', 'recherchez', 'recherchion', 'recherchon', 'recherchã', 'recherché', 'recherh', 'rechign', 'rechignait', 'rechrchai', 'rechrché', 'rechut', 'rechutt', 'reclam', 'reclament', 'reclamez', 'reclamt', 'reclass', 'recnnaiss', 'recntacté', 'recoi', 'recoit', 'recoiv', 'recomand', 'recomend', 'recomm', 'recommabdé', 'recommand', 'recommanderai', 'recommanderait', 'recommanderiai', 'recommanderiez', 'recommandez', 'recommandé', 'recommenc', 'recommencé', 'recommend', 'recommenderai', 'recommendrai', 'recommençai', 'recompens', 'recompt', 'reconcentrerai', 'reconduct', 'recondui', 'reconduir', 'reconduit', 'reconfirm', 'reconna', 'reconnai', 'reconnais', 'reconnaiss', 'reconnaissait', 'reconnaissant', 'reconnaitr', 'reconnaît', 'reconnaîtr', 'reconnu', 'reconstitu', 'reconstitut', 'reconstruir', 'reconstruit', 'recont', 'recontact', 'recontacte', 'recontacter', 'recontactera', 'recontacté', 'reconvers', 'reconversion', 'reconvertir', 'reconvertit', 'record', 'recotact', 'recour', 'recourd', 'recourir', 'recours', 'recourt', 'recout', 'recouvr', 'recproqu', 'recru', 'recrut', 'recrutai', 'recrutait', 'recrute', 'recruteur', 'recruteurs', 'recruteus', 'recruton', 'recruté', 'recréer', 'recticel', 'rectif', 'rectifi', 'rectificatif', 'rectifié', 'recu', 'recul', 'recuper', 'recur', 'recurrent', 'recut', 'recyclag', 'redact', 'redel', 'redemand', 'redemandon', 'redemandé', 'redescend', 'redessant', 'redevenu', 'redig', 'redir', 'redirig', 'redirigé', 'redis', 'redon', 'redond', 'redondant', 'redonn', 'redonné', 'redout', 'redpons', 'redress', 'reduir', 'redéfinir', 'redéfinit', 'reel', 'reell', 'refai', 'refair', 'refait', 'refar', 'refass', 'refer', 'referai', 'referent', 'refflet', 'reffus', 'refil', 'reflechi', 'reflet', 'reflett', 'reflexion', 'reflèt', 'refont', 'reform', 'reformul', 'reformulé', 'refoul', 'refoulé', 'refroidi', 'refsé', 'refu', 'refus', 'refusai', 'refusait', 'refusez', 'refusé', 'regagné', 'regard', 'regardé', 'region', 'regl', 'reglant', 'reglement', 'regler', 'reglé', 'regnier', 'regret', 'regrett', 'regretté', 'regroup', 'regularis', 'regularise', 'regularit', 'reguli', 'regulier', 'reherch', 'reim', 'reims', 'rein', 'reinscrit', 'rejet', 'rejett', 'rejeté', 'rejoindr', 'rejoint', 'rel', 'relach', 'relai', 'relaient', 'relaion', 'relanc', 'relances', 'relancé', 'relanç', 'relançon', 'relat', 'relatif', 'relationel', 'relationnel', 'relationnnel', 'relativ', 'relaté', 'relay', 'relayé', 'relev', 'relevã', 'relevé', 'relier', 'reliquat', 'relir', 'relâch', 'relègu', 'relèv', 'relèvent', 'relégué', 'relévé', 'remarqu', 'remarquait', 'remarquerez', 'remarqur', 'remarquè', 'remarqué', 'remaru', 'rembal', 'rembar', 'rembarré', 'rembnoursé', 'rembors', 'rembours', 'remboursait', 'rembourssr', 'remboursé', 'remburs', 'rembursé', 'remeci', 'rememb', 'remerci', 'remercierai', 'remerciez', 'remercion', 'remercié', 'remet', 'remett', 'remettez', 'remettr', 'remettrai', 'remi', 'remiremont', 'remis', 'remit', 'remlir', 'remolass', 'remont', 'remonteau', 'remontr', 'remonté', 'remot', 'remoté', 'remplac', 'remplacement', 'remplacé', 'remplaã', 'remplaç', 'remplaçait', 'remplaçant', 'rempli', 'remplir', 'rempliss', 'remplissag', 'remplissai', 'remplissait', 'remplit', 'remporté', 'remrci', 'remrcier', 'remuner', 'remuneré', 'remédier', 'renard', 'renaud', 'renault', 'rencoi', 'rencontr', 'rencontrez', 'rencontron', 'rencontré', 'rend', 'rendai', 'rendait', 'rendant', 'rendement', 'rendent', 'rendez', 'rendr', 'rendra', 'rendu', 'reneaud', 'renegoci', 'renforc', 'renforcé', 'rengain', 'renn', 'rennisé', 'renom', 'renomm', 'renommé', 'renonc', 'renouelait', 'renoul', 'renouv', 'renouvel', 'renouvelerai', 'renouvelle', 'renouvellerai', 'renouvellerait', 'renouvellé', 'renouvelé', 'renouvl', 'renouvèl', 'renseig', 'renseign', 'renseignemnet', 'renseigné', 'renseingn', 'rent', 'rentabilis', 'rentabilité', 'rentabl', 'renter', 'rentr', 'rentrai', 'rentrait', 'rentrent', 'rentrer', 'rentrez', 'rentrè', 'rentré', 'renumer', 'renumérot', 'renuméré', 'renversé', 'renvoi', 'renvoient', 'renvoit', 'renvoy', 'renvoyait', 'renvoyez', 'renvoyé', 'rené', 'renégoci', 'reo', 'reonnaitr', 'rep', 'repa', 'reparl', 'reparlé', 'reparsac', 'repart', 'repartai', 'reparti', 'repartir', 'repartira', 'repass', 'repassé', 'rependr', 'repens', 'repensez', 'repensé', 'reperag', 'repet', 'repetit', 'repid', 'replac', 'replacez', 'replies', 'repo', 'repon', 'repond', 'repondai', 'repondeur', 'repondez', 'repondr', 'repondu', 'repons', 'report', 'reporté', 'repos', 'repositionné', 'repouss', 'repoussé', 'repport', 'reprch', 'reprenai', 'reprenait', 'reprend', 'reprendr', 'reprenn', 'reprenon', 'reprent', 'represent', 'representant', 'representatif', 'repri', 'repris', 'repro', 'reproch', 'reproché', 'reproduira', 'reproduis', 'reproduit', 'reprographi', 'reprolongé', 'repropos', 'reproposã', 'reprã', 'reprécis', 'représent', 'représentant', 'représentez', 'représenté', 'repèr', 'repérer', 'requalif', 'requalifié', 'requett', 'requi', 'requis', 'requér', 'requérait', 'requêt', 'rer', 'rerut', 'resaur', 'reseau', 'resenti', 'reser', 'reserv', 'reserva', 'reservoir', 'reset', 'resist', 'resltuat', 'resourc', 'resp', 'respaç', 'respctabl', 'respect', 'respectai', 'respectez', 'respecti', 'respectueus', 'respectueux', 'respectã', 'respecté', 'respecy', 'respet', 'respond', 'respons', 'responsabilis', 'responsabilité', 'responsabl', 'responsabled', 'responsailité', 'responsal', 'resposabilit', 'ressament', 'ressembl', 'ressen', 'ressent', 'ressenti', 'ressentir', 'ressentit', 'ressenton', 'ression', 'resson', 'ressord', 'ressort', 'ressorti', 'ressortid', 'ressourc', 'rest', 'restai', 'restaient', 'restait', 'restant', 'restar', 'restat', 'restau', 'restauant', 'restaur', 'restaurait', 'restaurant', 'restauré', 'reste', 'restent', 'rester', 'restera', 'resterai', 'restez', 'restitu', 'restitué', 'restnt', 'resto', 'restreint', 'restricion', 'restrict', 'restrictif', 'restructur', 'resté', 'resultant', 'resultat', 'retabilis', 'retap', 'retar', 'retard', 'retardatair', 'retarddan', 'retardera', 'retardé', 'retenir', 'retent', 'retenu', 'retenue', 'retient', 'retir', 'retiré', 'retombé', 'retorn', 'retoun', 'retour', 'retourjust', 'retourn', 'retournerai', 'retournerait', 'retourné', 'retours', 'retrait', 'retraité', 'retravail', 'retravaillai', 'retravaillerai', 'retravaillé', 'retrd', 'retrouv', 'retrouvai', 'retrouvait', 'retrouvé', 'retrov', 'retzrd', 'reuil', 'reunica', 'reunion', 'reussi', 'reussir', 'reussirai', 'reussirait', 'reussit', 'rev', 'revaloris', 'revalorisatio', 'revanch', 'reveil', 'reven', 'revenai', 'revend', 'revenir', 'revenu', 'revenun', 'revernir', 'revers', 'revien', 'reviendra', 'reviendrai', 'reviendrait', 'reviendron', 'revienn', 'revient', 'revivr', 'revoir', 'revoirla', 'revolu', 'revor', 'revoyez', 'revu', 'rextroth', 'reze', 'reã', 'reçevoir', 'reçoi', 'reçoit', 'reçoiv', 'reçoivent', 'reçu', 'reçus', 'reçut', 'rfa', 'rg', 'rganis', 'rh', 'rhone', 'rhumato', 'rhône', 'ri', 'rian', 'rib', 'riboudet', 'ricbourg', 'rich', 'richard', 'richemont', 'richess', 'ricoh', 'ridculisé', 'ridicu', 'ridicul', 'ridicule', 'rie', 'rieeeen', 'rien', 'rienc', 'riennnnnnn', 'rient', 'rienà', 'rieux', 'rifier', 'rigeu', 'rigeur', 'right', 'rigid', 'rigol', 'rigolait', 'rigolé', 'rigoureus', 'rigoureux', 'rigueur', 'rilleus', 'rim', 'rimair', 'rimentã', 'rimma', 'riom', 'ripeur', 'ripper', 'rippeur', 'rir', 'rire', 'ris', 'risibl', 'risqu', 'risquai', 'risquait', 'risques', 'risqué', 'risu', 'river', 'rivr', 'rixheim', 'rizzon', 'rmettr', 'rmettrai', 'rmplacé', 'roann', 'robe', 'rober', 'robert', 'roberto', 'roblèm', 'robot', 'roca', 'rocco', 'roch', 'rochai', 'roche', 'rochefort', 'rochel', 'rocher', 'rodez', 'rodrigu', 'roe', 'rogn', 'rognac', 'roi', 'roide', 'roir', 'roissi', 'roit', 'roland', 'role', 'rolex', 'rolland', 'rolongé', 'rom', 'romain', 'roman', 'romans', 'romet', 'romi', 'romo', 'romorantin', 'rompr', 'rompu', 'ronca', 'rond', 'room', 'roquett', 'rose', 'roselin', 'roserai', 'rosni', 'rosse', 'rossini', 'rotat', 'rotrou', 'roubaix', 'roue', 'rouen', 'rouergu', 'roug', 'roul', 'roulait', 'roulant', 'roulement', 'rouler', 'roullet', 'roumain', 'roussillon', 'rout', 'route', 'routier', 'routin', 'routini', 'routièr', 'rouver', 'roux', 'roy', 'royait', 'royal', 'royalcanin', 'royan', 'rppelé', 'rprendron', 'rpri', 'rqth', 'rrrr', 'rs', 'rsa', 'rse', 'rsinterim', 'rt', 'rtard', 'rte', 'rtl', 'rtrouver', 'rtt', 'ru', 'rubriqu', 'rude', 'rue', 'rueil', 'ruel', 'ruffec', 'ruiner', 'ruitz', 'rumeur', 'rumilli', 'rungi', 'ruptur', 'rush', 'russi', 'russier', 'rv', 'rythm', 'râler', 'râpél', 'rã', 'rãªt', 'rè', 'règle', 'règlement', 'règleur', 'règne', 'règnent', 'ré', 'réacti', 'réactif', 'réaction', 'réactiqu', 'réactiv', 'réactivit', 'réactivité', 'réactivitéd', 'réactivié', 'réactvité', 'réadapt', 'réagi', 'réagir', 'réagiss', 'réagissez', 'réagit', 'réajust', 'réalis', 'réalisé', 'réalité', 'réalié', 'réaménag', 'réapprovisionneur', 'rébarb', 'récap', 'récapitulatif', 'récativité', 'récemment', 'récent', 'récepion', 'réceptif', 'réceptio', 'réception', 'réceptionné', 'récepton', 'réciproqu', 'réclamai', 'réclamait', 'réclamant', 'réclamat', 'réclame', 'réclament', 'réclamer', 'réclamé', 'réclatez', 'récnforté', 'récolter', 'récompens', 'récompensé', 'réconfortant', 'récréation', 'réctifier', 'récupèr', 'récupèrent', 'récupèrer', 'récupèré', 'récupérait', 'récupérat', 'récupérer', 'récupérr', 'récupéré', 'récurant', 'récurent', 'récurrent', 'rédaction', 'rédiger', 'réduction', 'réduir', 'réduit', 'réel', 'réell', 'réellement', 'réembauché', 'réervé', 'réexpliqu', 'réexpédié', 'réfexion', 'réflex', 'réflexion', 'réfléchi', 'réfléchir', 'réfléchiss', 'réfléchissant', 'réformer', 'référant', 'référenc', 'référencement', 'référent', 'régalé', 'régime', 'régiment', 'région', 'régional', 'régit', 'réglage', 'réglement', 'réglementair', 'régler', 'régleur', 'réglo', 'réglon', 'réglé', 'réglée', 'régularis', 'régularisé', 'régularité', 'régulat', 'régule', 'réguli', 'régulier', 'régulièr', 'régulièremet', 'réguliér', 'réhalto', 'réhydrat', 'réinscript', 'réinscrit', 'réinstauré', 'réintéger', 'réitérer', 'réitéré', 'réjouissant', 'réllement', 'rémunér', 'rémunérai', 'rémunérat', 'rémunératon', 'rémunérer', 'rémunériez', 'rémunéré', 'rénald', 'rénovat', 'rénumérat', 'rénuméré', 'réons', 'réorganis', 'réorient', 'réoui', 'réouvrir', 'répandu', 'réparat', 'réparateur', 'réparer', 'répartir', 'répartit', 'réparé', 'répercuss', 'répercut', 'répercutait', 'répertorié', 'répeter', 'répetit', 'répndre', 'répndu', 'répnse', 'répon', 'répond', 'répondai', 'répondaient', 'répondait', 'répondant', 'répondat', 'répondent', 'répondeur', 'répondez', 'répondi', 'répondon', 'répondr', 'répondrai', 'répondre', 'répondu', 'répons', 'réponsabl', 'réponse', 'réponu', 'réprimand', 'républiqu', 'réputat', 'réputaton', 'réputé', 'répète', 'répét', 'répétait', 'répéter', 'répétitif', 'répétition', 'répétitiv', 'répété', 'répétée', 'résaux', 'réseau', 'réseaux', 'réserv', 'réservat', 'réserver', 'réservist', 'réservé', 'réside', 'résidenc', 'résident', 'résignerai', 'résiliat', 'résilier', 'résilié', 'résine', 'résolu', 'résolut', 'résonnerai', 'résoud', 'résoudr', 'réssoudr', 'résudr', 'résult', 'résulta', 'résultat', 'résultât', 'résulté', 'résume', 'résumer', 'résumé', 'rétabli', 'rétablir', 'rétablit', 'réticenc', 'réticent', 'rétorquant', 'rétractabl', 'rétractat', 'rétribut', 'rétro', 'réunion', 'réuniss', 'réussi', 'réussir', 'réussit', 'réveil', 'réveill', 'réveiller', 'réveillon', 'révisé', 'révélée', 'réécrit', 'réédité', 'réél', 'réévaluat', 'réévaluer', 'rêtant', 'rêve', 'rêver', 'rîen', 'rôle', 'saadet', 'saait', 'sabin', 'sabl', 'sables', 'sablé', 'sabot', 'sabrina', 'sac', 'sach', 'sachant', 'sache', 'sachet', 'sachez', 'sachion', 'sachon', 'sacrifi', 'sacrific', 'sacré', 'sade', 'sadex', 'sadi', 'safran', 'saft', 'sage', 'sagem', 'sahant', 'sahnoun', 'sai', 'saignement', 'saillot', 'sain', 'saint', 'saisi', 'saisin', 'saisir', 'saison', 'saisonn', 'saisonnalité', 'saisonni', 'saisonnièr', 'saissoni', 'sait', 'saitn', 'salair', 'salaire', 'salaires', 'salam', 'salar', 'salari', 'salarial', 'salariel', 'salarier', 'salarié', 'salariés', 'sale', 'sali', 'salin', 'salir', 'salissur', 'sall', 'sallair', 'salmson', 'saloir', 'salomon', 'salon', 'salri', 'salu', 'salut', 'salé', 'sam', 'samedi', 'samira', 'samsic', 'samson', 'samu', 'san', 'sanchez', 'sanction', 'sanctionn', 'sanddec', 'sandra', 'sandrin', 'sang', 'sangler', 'sanitair', 'sanna', 'sanofi', 'sansun', 'sant', 'sante', 'santé', 'sanz', 'saoir', 'saon', 'sarah', 'saran', 'sarbec', 'sarl', 'sarlat', 'sarr', 'sarre', 'sarrebourg', 'sarreguemin', 'sartec', 'sarth', 'sastifaisant', 'sastifait', 'satelec', 'satifact', 'satifait', 'satisf', 'satisfact', 'satisfactin', 'satisfai', 'satisfair', 'satisfais', 'satisfaisait', 'satisfaisant', 'satisfait', 'satisfaos', 'satisfaît', 'satisfesant', 'satoujour', 'satsfait', 'sauf', 'saujon', 'saumon', 'saumur', 'saunier', 'saupiquet', 'saurin', 'sauron', 'sauté', 'sauvag', 'sauvant', 'sauver', 'sauvé', 'sav', 'savai', 'savaient', 'savait', 'savan', 'save', 'savelli', 'savent', 'saventmêm', 'savern', 'savez', 'saviez', 'savigneux', 'savigni', 'savoi', 'savoir', 'savoirr', 'savoirs', 'savon', 'sax', 'saôn', 'sca', 'scabe', 'scan', 'scandal', 'scandaleux', 'scanner', 'scanné', 'scavardo', 'scenti', 'schirmeck', 'schmidt', 'schneider', 'schott', 'schweitzer', 'schéma', 'sciatiqu', 'scienc', 'scinder', 'sciété', 'scolair', 'scolarest', 'scooter', 'scoteur', 'script', 'scrupul', 'scrupuleus', 'sct', 'sde', 'sdel', 'sdf', 'seai', 'seain', 'sealad', 'sealynx', 'seau', 'seb', 'sebastien', 'sebban', 'sec', 'sechement', 'seclin', 'second', 'secondair', 'secouer', 'secour', 'secretair', 'secretaireparvenu', 'secretariat', 'secrétair', 'secrétaire', 'secrétariat', 'secteur', 'secu', 'securit', 'securite', 'securité', 'sedan', 'seevic', 'sega', 'segenr', 'segment', 'segré', 'seieus', 'sein', 'seind', 'seiz', 'sel', 'sela', 'select', 'selectionn', 'selestat', 'self', 'selon', 'semain', 'semaine', 'semaines', 'semaini', 'semainn', 'seman', 'semaon', 'sembl', 'semblaient', 'semblait', 'semblant', 'semblent', 'semblerait', 'semblé', 'semel', 'semestriel', 'semi', 'sen', 'senagr', 'senli', 'sensat', 'sensibilis', 'sensibilisé', 'sensibilité', 'sensibl', 'sensé', 'sent', 'sentai', 'sentaient', 'sentait', 'sentant', 'sentent', 'senter', 'senti', 'sentiment', 'sentir', 'sentit', 'sepass', 'sepassa', 'sephora', 'sepr', 'sept', 'septembr', 'septembre', 'ser', 'sere', 'serein', 'seret', 'serg', 'serieus', 'serieux', 'seriieux', 'serion', 'sermon', 'sermonn', 'serr', 'serrieux', 'serron', 'serru', 'sert', 'sertenn', 'serv', 'servai', 'servait', 'servant', 'serveil', 'servent', 'serveur', 'serveus', 'servez', 'servi', 'serviabl', 'servic', 'service', 'serviceau', 'servicelament', 'servier', 'servir', 'servira', 'servirait', 'serviront', 'servis', 'servit', 'servon', 'sesent', 'sesinterimair', 'session', 'sest', 'set', 'sete', 'setelen', 'seuil', 'seul', 'seuledemand', 'seulement', 'seulemnt', 'seulmainten', 'sevel', 'sevelnord', 'sevic', 'sexist', 'sextant', 'sexuel', 'seyn', 'sezann', 'sfort', 'sfr', 'sg', 'shanadu', 'shenker', 'shirt', 'shneider', 'short', 'shouaité', 'showroom', 'si', 'siadécco', 'siam', 'sibil', 'sic', 'sico', 'sidel', 'sidib', 'sidéré', 'sieg', 'siegel', 'siemco', 'siemen', 'sign', 'signai', 'signait', 'signal', 'signalai', 'signallé', 'signalé', 'signatur', 'signature', 'signer', 'signerai', 'signeraipa', 'signif', 'signifi', 'signifiait', 'signifiant', 'significatif', 'signifierait', 'signifié', 'signé', 'siii', 'sil', 'silenc', 'simiair', 'similair', 'simon', 'simonnet', 'simouh', 'simp', 'simpa', 'simpat', 'simpathyqu', 'simpl', 'simplemen', 'simplement', 'simplicit', 'simplicité', 'simplif', 'simplifi', 'simplifié', 'simultné', 'sin', 'sinapayel', 'sincerit', 'sinclair', 'sincèr', 'sincèrement', 'sincérité', 'singé', 'sinistr', 'sinon', 'sinter', 'sipleent', 'sir', 'siret', 'sisheido', 'sit', 'sita', 'site', 'sitel', 'sitepour', 'sitram', 'situ', 'situaient', 'situait', 'situant', 'situat', 'situatin', 'situatio', 'situations', 'situer', 'situé', 'sitôt', 'siu', 'six', 'siècl', 'sièg', 'sjajek', 'sjazeck', 'skf', 'ski', 'skill', 'skydom', 'sla', 'slovèn', 'slovéni', 'slt', 'sm', 'smart', 'smartphon', 'smi', 'smic', 'smig', 'smih', 'smission', 'smm', 'sms', 'smurfit', 'sn', 'snaveb', 'sncf', 'sncèrement', 'sndra', 'snecma', 'snf', 'snjj', 'snobait', 'snr', 'snv', 'snwm', 'so', 'socam', 'soccup', 'sociabilité', 'sociabl', 'social', 'sociaux', 'societ', 'societt', 'societé', 'socité', 'socièté', 'sociétè', 'société', 'socopa', 'socopal', 'socorail', 'socotec', 'socup', 'sodag', 'sodebo', 'sodexo', 'soeur', 'soflog', 'sofyan', 'sogari', 'sogefi', 'sogema', 'soger', 'sogetrel', 'sogirest', 'soglo', 'soi', 'soie', 'soigner', 'soigneus', 'soin', 'soir', 'soiré', 'soisson', 'soits', 'sol', 'solang', 'solano', 'sold', 'soldeok', 'soldé', 'soleil', 'solesm', 'solicit', 'solicitai', 'solid', 'solidair', 'solisit', 'sollicit', 'sollicitai', 'sollicité', 'solodi', 'solut', 'solutionn', 'solyap', 'somm', 'sommair', 'sommeil', 'somptueux', 'sondag', 'sonder', 'sondeur', 'song', 'soni', 'sonia', 'sonnett', 'sonné', 'sono', 'sontpa', 'sophi', 'sophia', 'soprel', 'sor', 'sorgu', 'sori', 'sorreba', 'sort', 'sortai', 'sortant', 'sortent', 'sortequ', 'sortex', 'sortez', 'sorti', 'sortion', 'sortir', 'sortit', 'sot', 'sottevast', 'sottevil', 'sou', 'souaité', 'soual', 'souc', 'souci', 'soucient', 'soucier', 'soucieux', 'soucis', 'soucié', 'soudag', 'soudain', 'souder', 'soudeur', 'soudur', 'souffert', 'souffr', 'souffrant', 'souffrez', 'soufian', 'soufr', 'souhait', 'souhaitai', 'souhaitait', 'souhaiterai', 'souhaiterez', 'souhaiterion', 'souhaiti', 'souhaiton', 'souhaité', 'souhat', 'soui', 'souillac', 'soul', 'soulagé', 'soulard', 'soulev', 'soulevé', 'soulign', 'souligné', 'soumet', 'soumettr', 'soumi', 'soumis', 'soumiss', 'soup', 'soupir', 'soupirait', 'soupl', 'soupless', 'soupçon', 'sourc', 'sourcer', 'sourd', 'souri', 'souriant', 'sourient', 'sourir', 'sourire', 'sourires', 'sous', 'souscri', 'souscript', 'souscrir', 'souscrit', 'souscriv', 'soussi', 'soustrait', 'soutenai', 'soutenir', 'soutenu', 'soutien', 'soutient', 'soutirai', 'souvenait', 'souvenir', 'souvent', 'souventreçu', 'souvenu', 'souvien', 'souviendrai', 'souvienn', 'sovab', 'soyon', 'space', 'spam', 'spb', 'special', 'specifiqu', 'specifié', 'specpicas', 'speed', 'sperienc', 'spf', 'spherea', 'spie', 'spl', 'spollier', 'spontaneté', 'spontann', 'spontanne', 'spontanné', 'spontané', 'spontanéité', 'sport', 'sportif', 'spring', 'springer', 'spyez', 'spécial', 'spécialement', 'spécialis', 'spécialist', 'spécialisé', 'spécialité', 'spécifi', 'spécifiant', 'spécific', 'spécificité', 'spécifier', 'spécifiqu', 'spécifié', 'spéculer', 'squar', 'sr', 'srtout', 'srvice', 'ssait', 'ssez', 'ssoir', 'st', 'stabilis', 'stabilisé', 'stabilit', 'stabilitã', 'stabilité', 'stabl', 'stade', 'stadium', 'staf', 'staff', 'stage', 'stagiair', 'stagn', 'stagnat', 'stanbi', 'stand', 'standard', 'standardist', 'stantard', 'start', 'station', 'stationn', 'statisfait', 'statistiqu', 'statu', 'statut', 'ste', 'stef', 'steff', 'stephani', 'stephi', 'ster', 'stimulant', 'stipul', 'stipulait', 'stipulé', 'stmicroelectron', 'stock', 'stoffel', 'stokomani', 'stoll', 'stop', 'stoppent', 'stopper', 'stoppé', 'storopack', 'stp', 'stradi', 'strappé', 'strasbourg', 'stratifieur', 'stratégi', 'stress', 'stressai', 'stressant', 'stressé', 'strict', 'strictement', 'structur', 'structuré', 'stupid', 'stupéfiant', 'stx', 'style', 'stylo', 'stéphani', 'su', 'sub', 'subi', 'subir', 'subissai', 'subisson', 'subit', 'subjectif', 'subjugué', 'subsist', 'substanc', 'subvenir', 'succ', 'success', 'successif', 'successiv', 'succè', 'succédaient', 'sucept', 'suceur', 'sucr', 'sucreri', 'sucroît', 'sucré', 'sud', 'sue', 'suez', 'suffiam', 'suffirai', 'suffirait', 'suffis', 'suffisa', 'suffisam', 'suffisant', 'suffiss', 'suffit', 'sufft', 'suggest', 'suggèr', 'suggérer', 'suggéré', 'sugi', 'sui', 'suie', 'suisfait', 'suiss', 'suit', 'suiv', 'suivaient', 'suivait', 'suivan', 'suivant', 'suivent', 'suivez', 'suivi', 'suivies', 'suivir', 'suivit', 'suivitard', 'suivr', 'suivront', 'sujet', 'sujt', 'sulpic', 'sumé', 'sup', 'super', 'superb', 'supercheri', 'superficiel', 'superieur', 'superl', 'supermarché', 'supert', 'supervis', 'supet', 'suplay', 'supllémentair', 'supp', 'suppl', 'supplay', 'supplementair', 'suppli', 'supplier', 'supplément', 'supplémentair', 'supplémetair', 'support', 'supportai', 'suppos', 'supposé', 'suppress', 'supprim', 'supprimé', 'supr', 'supson', 'supérieur', 'supériorité', 'surcharg', 'surchargé', 'surcout', 'surcroit', 'surcroît', 'sure', 'surement', 'surfac', 'surgel', 'surgelé', 'surl', 'surlendemain', 'surlign', 'surma', 'surmement', 'surmen', 'surmenag', 'surplac', 'surplu', 'surprendr', 'surpri', 'surpris', 'surréalist', 'sursa', 'surtot', 'surtout', 'surtt', 'surtut', 'surveil', 'surveillant', 'surveillé', 'survenait', 'survenu', 'survi', 'survilli', 'suscept', 'suscit', 'susdit', 'suspect', 'suspen', 'suspendu', 'sute', 'suvi', 'suzann', 'suze', 'sveltic', 'svinkasek', 'svp', 'swishert', 'swisport', 'sylvestr', 'sylvi', 'sylvia', 'sympa', 'sympahiqu', 'sympat', 'sympathi', 'sympathiqu', 'sympathis', 'sympatiqu', 'sympatisé', 'syndic', 'syndical', 'syndicat', 'syndiqu', 'synegi', 'synergi', 'syngenta', 'synonym', 'syntax', 'synthétisé', 'sysley', 'system', 'systematiqu', 'systèm', 'systèmatiqu', 'systématiqu', 'systématis', 'systématqu', 'szumski', 'sã', 'sèche', 'sèchement', 'sèrieux', 'sète', 'sébastien', 'sécrité', 'sécu', 'sécuité', 'sécurisé', 'sécuritair', 'sécurité', 'sédentaris', 'séjour', 'sélectif', 'sélection', 'sélectionn', 'sélectionnez', 'sélectionné', 'séléctionné', 'sénior', 'séparat', 'séparément', 'sépultur', 'séquell', 'sérent', 'séreus', 'sérieu', 'sérieus', 'sérieusement', 'sérieusemnt', 'sérieux', 'sérigraphiqu', 'sériosité', 'sériux', 'sérénité', 'séurité', 'sévelnord', 'séverin', 'sévère', 'sévèrement', 'sû', 'sûr', 'sûre', 'sûrement', 'sûreté', 'sœur', 'tabac', 'tabl', 'tableau', 'tableaux', 'tach', 'tacheron', 'tact', 'tacteur', 'tad', 'tae', 'taf', 'taff', 'tager', 'taient', 'taill', 'tailleur', 'tain', 'tair', 'tais', 'tait', 'tajet', 'talent', 'tallard', 'talon', 'tampon', 'tan', 'tand', 'tandi', 'tania', 'tanneur', 'tanpi', 'tansport', 'tant', 'taper', 'tapez', 'tarancon', 'tarar', 'tarb', 'tarchoun', 'tard', 'tarda', 'tardi', 'tardif', 'tardiv', 'tardivement', 'tardqu', 'tardé', 'tarf', 'tarif', 'tarifair', 'tarn', 'tart', 'tati', 'taut', 'taux', 'tauzin', 'tavail', 'tavaillai', 'tax', 'taxi', 'tble', 'tca', 'tchao', 'tchenicien', 'tchip', 'tcket', 'tcl', 'techerch', 'technicentr', 'technicien', 'technicité', 'technico', 'techniqu', 'technologi', 'technopol', 'tee', 'teeshirt', 'tegguer', 'tehg', 'teintur', 'tel', 'telcursu', 'telecom', 'telement', 'telephon', 'telephoniqu', 'telesetvix', 'tell', 'tellement', 'tellemnt', 'telphoniqu', 'tem', 'temp', 'templ', 'temporair', 'temporari', 'tempori', 'temps', 'tempsla', 'températur', 'tenai', 'tenait', 'tenant', 'tenc', 'tend', 'tendanc', 'tendant', 'tendr', 'tendu', 'tenduun', 'tenez', 'tenir', 'tenni', 'tension', 'tent', 'tenta', 'tentat', 'tentent', 'tenter', 'tention', 'tenté', 'tenu', 'teouv', 'ter', 'tereo', 'term', 'termin', 'terminai', 'terminait', 'terminera', 'terminerai', 'terminã', 'terminé', 'terni', 'ternit', 'terr', 'terrain', 'terrass', 'terribl', 'terrin', 'territoir', 'tertair', 'tertiair', 'tertio', 'tessel', 'tessitur', 'test', 'teste', 'tester', 'testez', 'testspour', 'testé', 'tet', 'tete', 'text', 'texto', 'teyssier', 'tf', 'th', 'thale', 'thalé', 'thanh', 'thann', 'thaï', 'thd', 'the', 'theme', 'therm', 'thermador', 'thevenin', 'thi', 'thiai', 'thier', 'thierri', 'thionvil', 'thireiul', 'thoma', 'thonon', 'thoreau', 'thouar', 'thuilier', 'thurien', 'thèque', 'thématiqu', 'théori', 'thérès', 'thérèse', 'tibia', 'ticet', 'ticket', 'tien', 'tiendrai', 'tiendrez', 'tienn', 'tiennen', 'tiennent', 'tient', 'tier', 'tierc', 'tiers', 'tiffay', 'tig', 'tigroudja', 'tiket', 'tiliet', 'timbr', 'time', 'timid', 'timidité', 'tiphani', 'tipiak', 'tiqu', 'tiquet', 'tiqué', 'tirant', 'tire', 'tirer', 'tiroir', 'tiré', 'tissag', 'tissu', 'tit', 'titr', 'titulair', 'titularisé', 'tièd', 'tj', 'tjou', 'tjr', 'tkt', 'tnt', 'tnterait', 'to', 'toc', 'toil', 'toilett', 'toir', 'toit', 'tojour', 'tojt', 'tokoss', 'tokyo', 'toler', 'tolèr', 'tolérabl', 'toléré', 'tomb', 'tomba', 'tombait', 'tombe', 'tombent', 'tomber', 'tombez', 'tombr', 'tombé', 'ton', 'tonb', 'tondeus', 'tondj', 'tonn', 'tonnag', 'tonnein', 'tonnerr', 'top', 'topoffic', 'topographiqu', 'toqu', 'tor', 'tord', 'tors', 'tort', 'tose', 'tot', 'total', 'totalement', 'totalit', 'totalité', 'totl', 'tou', 'toucer', 'touch', 'touchai', 'touchaient', 'touchant', 'toucher', 'touché', 'toue', 'touitou', 'toujoir', 'toujor', 'toujou', 'toujour', 'toujours', 'toujoursraison', 'toujuour', 'toujur', 'toul', 'toulon', 'toulous', 'toulousain', 'touour', 'tour', 'tourco', 'tourjour', 'tourn', 'tourne', 'tourner', 'tourneur', 'tourné', 'toussieu', 'tout', 'toutefoi', 'toutela', 'touteun', 'toutfair', 'toutl', 'touv', 'touver', 'toxiqu', 'toyota', 'tp', 'tpa', 'tpe', 'tr', 'traail', 'trabail', 'trabajo', 'tracasseri', 'trace', 'tractorist', 'traditionnel', 'traduit', 'tragiqu', 'trai', 'train', 'trainer', 'trait', 'traitaient', 'traitait', 'traitanc', 'traitant', 'traitcool', 'traitement', 'traitent', 'traiter', 'traiteur', 'traitez', 'traiton', 'traité', 'trajet', 'tranch', 'tranquil', 'transali', 'transbord', 'transcendé', 'transfer', 'transfert', 'transform', 'transformé', 'transférer', 'transféré', 'transit', 'transmet', 'transmett', 'transmettez', 'transmetton', 'transmettr', 'transmettrez', 'transmi', 'transmis', 'transmiss', 'transp', 'transpar', 'transparaît', 'transparent', 'transpirait', 'transport', 'transporteur', 'transprenc', 'transvallé', 'trapp', 'traumatisant', 'traumatisé', 'travai', 'travail', 'travailactuel', 'travailinexist', 'travaill', 'travaillai', 'travaillait', 'travaille', 'travailler', 'travaillerai', 'travaillerchez', 'travaillerez', 'travaillerj', 'travailleur', 'travailleus', 'travaillez', 'travailli', 'travaillon', 'travaillé', 'travailè', 'travailé', 'travaiĺl', 'traval', 'travalli', 'travauil', 'travaux', 'traver', 'travers', 'traversai', 'traversé', 'travil', 'travillé', 'traîn', 'traîner', 'trd', 'tre', 'tred', 'treizièm', 'trelborg', 'trelleborg', 'tremblay', 'tremplin', 'trent', 'trentain', 'trep', 'tres', 'tresor', 'tress', 'tri', 'tria', 'triangl', 'tribun', 'tributair', 'tric', 'tricastin', 'trice', 'tricoflex', 'trier', 'triganno', 'trigano', 'trignac', 'trilingu', 'trime', 'trimestr', 'trimestriel', 'trinité', 'tripartit', 'trist', 'trié', 'trminé', 'tro', 'troi', 'troisiem', 'troisièm', 'tromp', 'trompant', 'trompe', 'trompent', 'tromper', 'tromperi', 'trompé', 'trop', 'trot', 'trou', 'trouber', 'troubl', 'troue', 'trouilleau', 'trouv', 'trouvabl', 'trouvai', 'trouvaient', 'trouvait', 'trouvant', 'trouve', 'trouvent', 'trouver', 'trouvera', 'trouverai', 'trouveron', 'trouveront', 'trouverun', 'trouvez', 'trouviez', 'trouvon', 'trouvr', 'trouvé', 'trouvésvraiment', 'troué', 'trovato', 'trover', 'trovuai', 'troy', 'trr', 'truc', 'truchet', 'truck', 'trulin', 'trupin', 'truqu', 'truve', 'truver', 'trvail', 'trã', 'trè', 'trèsmauvai', 'trèstrè', 'tré', 'trémorel', 'trésor', 'trésoreri', 'tréteaux', 'trė', 'ts', 'tshirt', 'tt', 'tte', 'ttein', 'ttendai', 'tujour', 'tull', 'tunisi', 'turel', 'turn', 'turnov', 'tut', 'tutoi', 'tutoiement', 'tutoy', 'tutoyé', 'tué', 'tx', 'ty', 'type', 'typhain', 'typiqu', 'tyross', 'tâble', 'tâche', 'tâte', 'tã', 'tè', 'tèlèphone', 'té', 'téfal', 'tél', 'télephon', 'télephoné', 'télé', 'télécharger', 'télécom', 'télécommun', 'téléconseill', 'télégramm', 'téléhone', 'téléhoner', 'téléphoe', 'téléphon', 'téléphonai', 'téléphonait', 'téléphone', 'téléphonepour', 'téléphoner', 'téléphoni', 'téléphoniqu', 'téléphonné', 'téléphoné', 'télépropecteur', 'télétransmiss', 'télévent', 'témoign', 'témoignag', 'témoignent', 'témoignermêm', 'témoigné', 'témoin', 'ténacité', 'téte', 'tête', 'tôt', 'tôtet', 'tût', 'uber', 'ubli', 'ucun', 'ue', 'uefa', 'uffis', 'ufp', 'ui', 'uivi', 'uli', 'ulnair', 'ulog', 'ulra', 'ultim', 'ultra', 'ultérieur', 'una', 'uncadr', 'und', 'undiz', 'uneautr', 'uned', 'unemiss', 'unemploi', 'unevrai', 'unf', 'uni', 'uninterlocuteur', 'union', 'uniqu', 'uniquemet', 'univ', 'universitair', 'université', 'unmépri', 'unn', 'unnon', 'unnseul', 'unpapi', 'untonpéd', 'unévil', 'uoi', 'up', 'upp', 'upsa', 'ur', 'urani', 'urbai', 'ure', 'urgem', 'urgen', 'urgenc', 'urgence', 'urgent', 'uré', 'us', 'usa', 'usag', 'usant', 'use', 'user', 'usin', 'usinag', 'usineur', 'usqu', 'ussel', 'ust', 'usuel', 'usur', 'usurp', 'usé', 'util', 'utiliatric', 'utilis', 'utilisateur', 'utilisatric', 'utilisatrice', 'utilisatriceni', 'utiliser', 'utilison', 'utilisé', 'utilitair', 'utilité', 'utilsatric', 'utilté', 'utr', 'utrhhw', 'uvr', 'va', 'vacanc', 'vacances', 'vacant', 'vacat', 'vacaton', 'vaccat', 'vach', 'vade', 'vagu', 'vaguement', 'vai', 'vaill', 'vain', 'vais', 'vaisel', 'vaissel', 'val', 'valabl', 'valai', 'valait', 'valbonn', 'valdun', 'valenc', 'valencien', 'valencienn', 'valenciennes', 'valenciennesdepui', 'valentin', 'valenton', 'valeo', 'valeri', 'valerian', 'valeur', 'valhrona', 'valid', 'validité', 'validé', 'vallet', 'vallett', 'vallièr', 'valmi', 'valoi', 'valoir', 'valorec', 'valoris', 'valorisant', 'valorisé', 'valrea', 'valrhona', 'valsem', 'valserin', 'valu', 'valut', 'valéo', 'valéri', 'van', 'vandoeuvr', 'vanessa', 'vann', 'vanouch', 'vanté', 'vaquer', 'var', 'varat', 'vari', 'variabilité', 'variabl', 'variant', 'variat', 'varie', 'varier', 'varié', 'variété', 'variéé', 'vatel', 'vatri', 'vauban', 'vaudreuil', 'vaudrieul', 'vaunac', 'vaut', 'vautr', 'vaux', 'vauxbuin', 'vaz', 've', 'veau', 'vec', 'veda', 'vedif', 'vehicul', 'vehiculé', 'veill', 'veillant', 'veiller', 'veillez', 'velay', 'velecta', 'velizi', 'veloppã', 'velux', 'venai', 'venaient', 'venait', 'venant', 'vendenheim', 'vendeur', 'vendeus', 'vendin', 'vendom', 'vendr', 'vendredi', 'vendu', 'vendus', 'vendé', 'vendéenn', 'vendôm', 'venez', 'venir', 'venon', 'venredi', 'vent', 'ventant', 'ventil', 'ventilateur', 'ventr', 'venu', 'venuto', 'veolia', 'ver', 'verallia', 'verbal', 'verbaudet', 'verdun', 'verefi', 'verger', 'veri', 'verif', 'verifi', 'verifiqu', 'verifié', 'verit', 'verneuil', 'verni', 'veron', 'veroniqu', 'verquin', 'verr', 'verra', 'verrait', 'verrer', 'verron', 'verrouillé', 'verrus', 'vers', 'versa', 'versail', 'verse', 'versement', 'versent', 'verser', 'versez', 'version', 'versoud', 'versé', 'vert', 'vertig', 'vertueux', 'vesosi', 'vesoul', 'vest', 'vestiair', 'vestimentair', 'vesvr', 'vetement', 'veuill', 'veuillez', 'veul', 'veulen', 'veulent', 'veut', 'veuv', 'veux', 'vexant', 'vexé', 'vfli', 'vi', 'via', 'viaduc', 'viand', 'viapost', 'vice', 'vichi', 'victim', 'victoir', 'victor', 'vide', 'videment', 'video', 'vider', 'vidéo', 'vie', 'vieil', 'vieill', 'viel', 'viell', 'viement', 'vien', 'viendra', 'viendron', 'vienn', 'viennent', 'vient', 'vierzon', 'vieux', 'vigil', 'vigirout', 'vign', 'vigoureux', 'vigueur', 'vilain', 'vilizi', 'vilker', 'vill', 'villacoublay', 'villadim', 'villag', 'villard', 'villebon', 'villecresn', 'villefranch', 'villefranche', 'villemandeur', 'villeneuv', 'villeneuve', 'villepint', 'viller', 'villers', 'villeurbann', 'villier', 'villr', 'vimi', 'vin', 'vincent', 'vinci', 'vinco', 'vindicatif', 'vine', 'viner', 'vineuil', 'vingt', 'vingtain', 'violant', 'violenc', 'violent', 'vip', 'vir', 'vire', 'virement', 'virementn', 'virent', 'virer', 'virerau', 'virgini', 'viriat', 'virment', 'virul', 'viré', 'viréscomm', 'vis', 'visag', 'visai', 'vise', 'visibilité', 'visibl', 'vision', 'visit', 'visiteur', 'visité', 'vison', 'visteon', 'vistéon', 'visu', 'visualis', 'visualisé', 'visé', 'vit', 'vita', 'vital', 'vitali', 'vite', 'viter', 'vitess', 'viticol', 'vitr', 'vitri', 'vitrin', 'vitrol', 'vitré', 'vitrôll', 'vittel', 'vivant', 'vivarai', 'vive', 'vivement', 'vivent', 'vivez', 'vivier', 'vivr', 'vl', 'vla', 'vm', 'vmt', 'vo', 'vocabulair', 'vocal', 'vocat', 'voi', 'voici', 'voie', 'voient', 'voila', 'voilà', 'voir', 'voiri', 'voiriot', 'voiron', 'voisinag', 'voit', 'voitur', 'voix', 'vol', 'volail', 'volant', 'volatil', 'vole', 'voler', 'volet', 'voleur', 'volonair', 'volont', 'volontair', 'volontariat', 'volonti', 'volontã', 'volonté', 'volta', 'volum', 'voluã', 'volvic', 'volé', 'von', 'vont', 'vosg', 'vote', 'votr', 'vou', 'vouder', 'voudra', 'voudrai', 'voudrait', 'voudrez', 'voudriez', 'vouiii', 'vouill', 'voulai', 'voulaient', 'voulait', 'voulant', 'voulez', 'vouli', 'voullu', 'vouloir', 'voulon', 'voulu', 'voulut', 'vousavec', 'vousetespirequelesbanqu', 'vouspour', 'vousrecommand', 'voué', 'voyag', 'voyai', 'voyaient', 'voyait', 'voyant', 'voyez', 'voyon', 'voyou', 'vpc', 'vr', 'vrai', 'vraie', 'vraiement', 'vraimdnt', 'vraiment', 'vraimnt', 'vrd', 'vrement', 'vriment', 'vrément', 'vs', 'vsi', 'vu', 'vue', 'vues', 'vulba', 'vulgair', 'vulu', 'vvier', 'vynova', 'vã', 'vécu', 'vécue', 'véhicul', 'véhiculé', 'vélizi', 'vélo', 'vémar', 'vénissieux', 'véolia', 'véracité', 'vérfiée', 'vérifiant', 'vérific', 'vérifier', 'vérifié', 'véritabl', 'vérité', 'véroniqu', 'vêtement', 'vôre', 'vôtre', 'vœux', 'wahouuu', 'walhter', 'walk', 'wasqueh', 'waterman', 'web', 'weehl', 'week', 'weekend', 'weiss', 'welcom', 'well', 'werner', 'west', 'wettolsheim', 'wevista', 'weyersheim', 'what', 'wi', 'wicona', 'william', 'wilo', 'wilson', 'with', 'witz', 'wlliam', 'word', 'work', 'wtf', 'www', 'xavier', 'xceptionnel', 'xerox', 'xl', 'xpert', 'xplicat', 'xpo', 'xtérieur', 'xx', 'xxxx', 'xxxxx', 'ya', 'yacin', 'yacsi', 'yalla', 'yann', 'yannick', 'yant', 'yen', 'yet', 'yeux', 'yoann', 'yohann', 'yoland', 'yon', 'yonn', 'yoplait', 'younousa', 'youpi', 'youplan', 'yourcenar', 'yrieix', 'yt', 'yve', 'yvelin', 'za', 'zappé', 'zara', 'zero', 'zf', 'zodiac', 'zone', 'zouj', 'zvec', 'zénith', 'zéro', 'àbesoin', 'àgérer', 'àh', 'àl', 'ànou', 'àqd', 'às', 'àu', 'àun', 'àvec', 'âg', 'âge', 'âgée', 'ãªtre', 'ça', 'çafai', 'çela', 'çt', 'çu', 'çue', 'çà', 'ècole', 'ècout', 'èe', 'ème', 'èquip', 'ère', 'ètait', 'ètant', 'ète', 'éaient', 'éait', 'éant', 'écart', 'écarter', 'écarté', 'éceuré', 'échafaudag', 'échanch', 'échang', 'échangeon', 'échanger', 'échanges', 'échangez', 'échangé', 'échec', 'échell', 'échelonn', 'écho', 'échoué', 'échue', 'échéanc', 'échéancier', 'échéant', 'écit', 'éclair', 'éclairag', 'éclaircir', 'éclairer', 'éclat', 'éclate', 'écoe', 'écoeurant', 'écoeuré', 'école', 'écolo', 'écologiqu', 'économi', 'économiqu', 'économis', 'écope', 'écoulé', 'écourter', 'écourté', 'écout', 'écoutant', 'écoute', 'écoutent', 'écouteou', 'écouter', 'écouteriez', 'écoutez', 'écouté', 'écran', 'écri', 'écrire', 'écrit', 'écrite', 'écriteu', 'écritur', 'écu', 'écueil', 'écœuré', 'édition', 'édité', 'éduc', 'éducat', 'éell', 'éffectuer', 'éffectué', 'éfficac', 'éfficacit', 'éfficacité', 'éffice', 'éffort', 'égal', 'égale', 'également', 'égalementet', 'égalité', 'égard', 'égarer', 'égaré', 'égaux', 'églée', 'égoïst', 'éjecter', 'éjà', 'élabor', 'élaboratio', 'élaboré', 'élargi', 'élargir', 'élargiss', 'élecriqu', 'électicité', 'élection', 'électric', 'électricien', 'électricité', 'électriqu', 'électromécanicien', 'électroménag', 'électroniqu', 'électrotechniqu', 'élevé', 'éligibl', 'éloge', 'éloignement', 'éloigné', 'élu', 'élève', 'élément', 'élémentair', 'élévater', 'élévateur', 'émail', 'émanant', 'émargement', 'éme', 'émerger', 'émettr', 'émi', 'émise', 'émission', 'énergi', 'énerv', 'énervant', 'énervement', 'énervent', 'énervé', 'énièm', 'énnoncé', 'énoncé', 'énorm', 'énormement', 'énorméent', 'énormémeent', 'énormément', 'épagni', 'épanoui', 'épanouir', 'épargn', 'épargner', 'épaul', 'épauler', 'épaulé', 'épernon', 'épi', 'épiderm', 'épilogu', 'épisod', 'éplacement', 'épong', 'époqu', 'époquepar', 'épous', 'épouvant', 'épreuv', 'éprouvé', 'épuisement', 'épuisé', 'équid', 'équip', 'équipe', 'équipement', 'équiper', 'équipeteaubri', 'équipé', 'équité', 'équival', 'équpe', 'éronné', 'éroné', 'érroné', 'ésitat', 'ésperer', 'éstival', 'ésultat', 'ét', 'éta', 'établi', 'établir', 'établiss', 'étage', 'étagèr', 'étai', 'était', 'étaitdébordé', 'étalement', 'étanchéité', 'étapl', 'état', 'étau', 'étayé', 'étc', 'éte', 'éteignez', 'éteint', 'étendu', 'étermin', 'éthiqu', 'étienn', 'étion', 'étiquetag', 'étiquett', 'étit', 'étoffer', 'étoil', 'étonnai', 'étonnant', 'étonnement', 'étonner', 'étonné', 'étrang', 'étranger', 'étrangèr', 'étre', 'étrier', 'étroit', 'étude', 'étudi', 'étudiant', 'étudiants', 'étudient', 'étudier', 'étudint', 'étudié', 'étè', 'étéplu', 'étéposit', 'évacuat', 'évaluat', 'évaluer', 'évalué', 'évasif', 'évasiv', 'évennement', 'éventail', 'éventu', 'éventuel', 'éverial', 'évidant', 'évidem', 'évidement', 'évidenc', 'évident', 'évinc', 'évincé', 'évitant', 'évite', 'éviter', 'éviterai', 'éviterait', 'évité', 'évocat', 'évolu', 'évoluai', 'évoluer', 'évolut', 'évolutif', 'évolué', 'évoqu', 'évoquait', 'évoquer', 'évoquiez', 'évoqué', 'évreux', 'évri', 'évènement', 'évènementiel', 'événement', 'événementiel', 'éxamen', 'éé', 'éénementiel', 'ême', 'êre', 'êt', 'ête', 'êtr', 'être', 'êtrede', 'êtreinforméen', 'êtreretrouvé', 'îl', 'île', 'îlot', 'ôn', 'ėpernon', 'œil', 'œuvr', 'œuvrer']\n"
     ]
    }
   ],
   "source": [
    "print(vectorizer.get_feature_names())"
   ]
  },
  {
   "cell_type": "code",
   "execution_count": 157,
   "metadata": {},
   "outputs": [],
   "source": [
    "from sklearn.model_selection import train_test_split"
   ]
  },
  {
   "cell_type": "code",
   "execution_count": 158,
   "metadata": {},
   "outputs": [],
   "source": [
    "X_train, X_test, Y_train, Y_test = train_test_split(x, y, test_size=0.2, random_state=60)"
   ]
  },
  {
   "cell_type": "code",
   "execution_count": 159,
   "metadata": {},
   "outputs": [],
   "source": [
    "from sklearn.svm import SVC"
   ]
  },
  {
   "cell_type": "code",
   "execution_count": 160,
   "metadata": {},
   "outputs": [
    {
     "data": {
      "text/plain": [
       "(19103, 14508)"
      ]
     },
     "execution_count": 160,
     "metadata": {},
     "output_type": "execute_result"
    }
   ],
   "source": [
    "X_train.shape"
   ]
  },
  {
   "cell_type": "code",
   "execution_count": 167,
   "metadata": {},
   "outputs": [
    {
     "data": {
      "text/plain": [
       "SVC(C=1.0, break_ties=False, cache_size=200, class_weight=None, coef0=0.0,\n",
       "    decision_function_shape='ovr', degree=3, gamma='scale', kernel='rbf',\n",
       "    max_iter=-1, probability=False, random_state=None, shrinking=True,\n",
       "    tol=0.001, verbose=False)"
      ]
     },
     "execution_count": 167,
     "metadata": {},
     "output_type": "execute_result"
    }
   ],
   "source": [
    "clf = SVC()\n",
    "clf.fit(X_train, Y_train)"
   ]
  },
  {
   "cell_type": "code",
   "execution_count": 168,
   "metadata": {},
   "outputs": [],
   "source": [
    "pr=clf.predict(X_test)"
   ]
  },
  {
   "cell_type": "code",
   "execution_count": 169,
   "metadata": {},
   "outputs": [
    {
     "data": {
      "text/plain": [
       "0.8046482412060302"
      ]
     },
     "execution_count": 169,
     "metadata": {},
     "output_type": "execute_result"
    }
   ],
   "source": [
    "accuracy_score(pr, Y_test)"
   ]
  },
  {
   "cell_type": "code",
   "execution_count": null,
   "metadata": {},
   "outputs": [],
   "source": []
  },
  {
   "cell_type": "code",
   "execution_count": null,
   "metadata": {},
   "outputs": [],
   "source": []
  },
  {
   "cell_type": "code",
   "execution_count": null,
   "metadata": {},
   "outputs": [],
   "source": []
  },
  {
   "cell_type": "code",
   "execution_count": null,
   "metadata": {},
   "outputs": [],
   "source": []
  },
  {
   "cell_type": "code",
   "execution_count": null,
   "metadata": {},
   "outputs": [],
   "source": []
  }
 ],
 "metadata": {
  "kernelspec": {
   "display_name": "Python 3",
   "language": "python",
   "name": "python3"
  },
  "language_info": {
   "codemirror_mode": {
    "name": "ipython",
    "version": 3
   },
   "file_extension": ".py",
   "mimetype": "text/x-python",
   "name": "python",
   "nbconvert_exporter": "python",
   "pygments_lexer": "ipython3",
   "version": "3.8.5"
  }
 },
 "nbformat": 4,
 "nbformat_minor": 2
}
